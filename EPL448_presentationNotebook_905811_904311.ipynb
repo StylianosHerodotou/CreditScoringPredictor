{
  "nbformat": 4,
  "nbformat_minor": 0,
  "metadata": {
    "colab": {
      "name": "EPL448_presentationNotebook_905811_904311.ipynb",
      "provenance": [],
      "collapsed_sections": [
        "qFomI36AsCpo"
      ],
      "include_colab_link": true
    },
    "kernelspec": {
      "display_name": "Python 3",
      "language": "python",
      "name": "python3"
    },
    "language_info": {
      "codemirror_mode": {
        "name": "ipython",
        "version": 3
      },
      "file_extension": ".py",
      "mimetype": "text/x-python",
      "name": "python",
      "nbconvert_exporter": "python",
      "pygments_lexer": "ipython3",
      "version": "3.7.6"
    }
  },
  "cells": [
    {
      "cell_type": "markdown",
      "metadata": {
        "id": "view-in-github",
        "colab_type": "text"
      },
      "source": [
        "<a href=\"https://colab.research.google.com/github/StylianosHerodotou/CreditScoringPredictor/blob/main/EPL448_presentationNotebook_905811_904311.ipynb\" target=\"_parent\"><img src=\"https://colab.research.google.com/assets/colab-badge.svg\" alt=\"Open In Colab\"/></a>"
      ]
    },
    {
      "cell_type": "code",
      "metadata": {
        "id": "nbg8AXVOb0AX"
      },
      "source": [
        ""
      ],
      "execution_count": null,
      "outputs": []
    },
    {
      "cell_type": "markdown",
      "metadata": {
        "id": "ecgcLlWystL8"
      },
      "source": [
        "# *Welcome to our presentation of Credit Scoring as part of our Data Science Class- EPL448*\n",
        "\n",
        "We would like thank Dr Agathocleus and Mr. Kipros from Goldman Solutions & Services for the dataset and the guidance to constructng this notebook. "
      ]
    },
    {
      "cell_type": "markdown",
      "metadata": {
        "id": "XF8JKgRgs-r7"
      },
      "source": [
        "##First lets import some libraries and create some functions that will be useful later in the notebook "
      ]
    },
    {
      "cell_type": "markdown",
      "metadata": {
        "id": "hS9oDOP_6su8"
      },
      "source": [
        "###Imports"
      ]
    },
    {
      "cell_type": "code",
      "metadata": {
        "id": "7FJYwl-LbnYx"
      },
      "source": [
        "from keras.layers import Dense\n",
        "from keras.models import Sequential\n",
        "from keras.utils import np_utils\n",
        "from keras.wrappers.scikit_learn import KerasClassifier\n",
        "from scipy.stats import uniform\n",
        "from sklearn import svm\n",
        "from sklearn.datasets import load_iris\n",
        "from sklearn.ensemble import ExtraTreesClassifier\n",
        "from sklearn.ensemble import RandomForestClassifier\n",
        "from sklearn.feature_selection import RFE\n",
        "from sklearn.feature_selection import RFECV\n",
        "from sklearn.feature_selection import SelectFromModel\n",
        "from sklearn.feature_selection import SelectKBest\n",
        "from sklearn.feature_selection import VarianceThreshold\n",
        "from sklearn.feature_selection import chi2\n",
        "from sklearn.linear_model import LassoCV\n",
        "from sklearn.linear_model import LinearRegression\n",
        "from sklearn.linear_model import LogisticRegression\n",
        "from sklearn.linear_model import SGDClassifier\n",
        "from sklearn.metrics import accuracy_score\n",
        "from sklearn.metrics import confusion_matrix\n",
        "from sklearn.metrics import f1_score\n",
        "from sklearn.metrics import precision_score, recall_score\n",
        "from sklearn.model_selection import GridSearchCV\n",
        "from sklearn.model_selection import KFold\n",
        "from sklearn.model_selection import StratifiedKFold\n",
        "from sklearn.model_selection import cross_val_predict\n",
        "from sklearn.model_selection import cross_val_score\n",
        "from sklearn.model_selection import train_test_split\n",
        "from sklearn.naive_bayes import GaussianNB\n",
        "from sklearn.neighbors import KNeighborsClassifier\n",
        "from sklearn.pipeline import Pipeline\n",
        "from sklearn.pipeline import make_pipeline\n",
        "from sklearn.preprocessing import LabelEncoder\n",
        "from sklearn.preprocessing import MinMaxScaler\n",
        "from sklearn.preprocessing import StandardScaler\n",
        "from sklearn.svm import LinearSVC\n",
        "from sklearn.svm import SVC\n",
        "from sklearn.tree import DecisionTreeClassifier\n",
        "from statistics import mean \n",
        "from statistics import stdev\n",
        "from tensorflow.keras import layers\n",
        "from tensorflow.keras.layers.experimental import preprocessing\n",
        "import io\n",
        "import math\n",
        "import matplotlib.pyplot as plt \n",
        "import numpy as np\n",
        "import pandas as pd\n",
        "import pandas.plotting as pdplt\n",
        "import requests\n",
        "import seaborn as sns\n",
        "import tensorflow as tf\n",
        "import time"
      ],
      "execution_count": 1,
      "outputs": []
    },
    {
      "cell_type": "markdown",
      "metadata": {
        "id": "IHJ031LexCvi"
      },
      "source": [
        "###The below are the implementations of some functions we will use below. We should ignore the implementation for now, but we will see them again below in their respective sections."
      ]
    },
    {
      "cell_type": "code",
      "metadata": {
        "id": "yIaX0utd2q7V",
        "colab": {
          "base_uri": "https://localhost:8080/"
        },
        "outputId": "d2537924-83a0-4ff6-c70e-8e0438cfb93e"
      },
      "source": [
        "def find_columns(df, column_indexes):\n",
        "    all_columns=df.columns\n",
        "    new_columns=[]\n",
        "    for index in column_indexes:\n",
        "        new_columns.append(all_columns[index])\n",
        "    return new_columns\n",
        "\n",
        "#checked\n",
        "def remove_features_with_low_variance(df):\n",
        "    variances=df.var(axis=0)\n",
        "    n=math.ceil((len(variances)/3))\n",
        "    nsmallest=variances.nsmallest(n=n)\n",
        "    threshold=nsmallest.mean()\n",
        "    sel = VarianceThreshold(threshold=threshold)\n",
        "    sel.fit_transform(df)\n",
        "    column_indexes=sel.get_support([\"index\"])\n",
        "    new_columns=find_columns(df,column_indexes)\n",
        "    if(\"Score\" not in new_columns):\n",
        "        new_columns.append(\"Score\")\n",
        "    new_df=df[new_columns]\n",
        "    return new_df\n",
        "\n",
        "#checked\n",
        "def SelectKBest_attributes(df,k=10,score_function=chi2):\n",
        "    if(k>=len(df.columns)):\n",
        "        return df\n",
        "    X = df.iloc[:,0:-1]  #independent columns\n",
        "    y = df.iloc[:,-1]    #target column i.e price range\n",
        "    if(\"Id\" in X.columns):\n",
        "        X=X.drop(\"Id\",axis=1)\n",
        "    #apply SelectKBest class to extract top 10 best features\n",
        "    bestfeatures = SelectKBest(score_func=score_function, k=k)\n",
        "    bestfeatures.fit_transform(X,y)\n",
        "    column_indexes=bestfeatures.get_support([\"index\"])\n",
        "    new_columns=find_columns(df,column_indexes)\n",
        "    if(\"Id\" not in new_columns):\n",
        "        new_columns.append(\"Id\")\n",
        "    if(\"Score\" not in new_columns):\n",
        "        new_columns.append(\"Score\")\n",
        "    new_df=df[new_columns]\n",
        "    return new_df\n",
        "\n",
        "    #checked\n",
        "def l1_l2_based_feaure_selection(df, c=0.01,penalty=\"l1\",sparse_estimator=\"lsvc\"):\n",
        "    X = df.iloc[:,0:-1]  #independent columns\n",
        "    y = df.iloc[:,-1]    #target column i.e price range\n",
        "    if(sparse_estimator==\"lsvc\"):\n",
        "        lsvc = LinearSVC(C=0.01, penalty=penalty, dual=False).fit(X, y)\n",
        "        model = SelectFromModel(lsvc, prefit=True)\n",
        "        X_new = model.transform(X)\n",
        "        \n",
        "    else:\n",
        "        lreg = LogisticRegression(C=0.01, penalty=\"l2\", dual=False).fit(X, y)\n",
        "        model = SelectFromModel(lreg, prefit=True)\n",
        "        X_new = model.transform(X)\n",
        "    column_indexes=model.get_support([\"index\"])\n",
        "    new_columns=find_columns(df,column_indexes)\n",
        "    if(\"Score\" not in new_columns):\n",
        "        new_columns.append(\"Score\")\n",
        "    new_df=df[new_columns]\n",
        "    return new_df\n",
        "\n",
        "def Tree_based_feature_selection(df,n_estimators=50):\n",
        "    X = df.iloc[:,0:-1]  #independent columns\n",
        "    y = df.iloc[:,-1]    #target column i.e price range\n",
        "    clf = ExtraTreesClassifier(n_estimators=n_estimators)\n",
        "    clf = clf.fit(X, y)\n",
        "    model = SelectFromModel(clf, prefit=True)\n",
        "    model.transform(X)\n",
        "    column_indexes=model.get_support([\"index\"])\n",
        "    new_columns=find_columns(df,column_indexes)\n",
        "    if(\"Score\" not in new_columns):\n",
        "        new_columns.append(\"Score\")\n",
        "    new_df=df[new_columns]\n",
        "    return new_df\n",
        "\n",
        "#checked\n",
        "def Recursive_feature_elimination_with_cross_validation(df,c=1.0):\n",
        "    # Build a classification task using 3 informative features\n",
        "    X = df.iloc[:,0:-1]  #independent columns\n",
        "    y = df.iloc[:,-1]    #target column i.e price range\n",
        "    # Create the RFE object and compute a cross-validated score.\n",
        "    svc = SVC(C=c,kernel=\"linear\")\n",
        "    # The \"accuracy\" scoring is proportional to the number of correct\n",
        "    # classifications\n",
        "    rfecv = RFECV(estimator=svc, step=1, cv=StratifiedKFold(2),\n",
        "                  scoring='accuracy')\n",
        "    rfecv.fit_transform(X, y)\n",
        "    column_indexes=rfecv.get_support([\"index\"])\n",
        "    new_columns=find_columns(df,column_indexes)\n",
        "    if(\"Score\" not in new_columns):\n",
        "        new_columns.append(\"Score\")\n",
        "    new_df=df[new_columns]\n",
        "    return new_df\n",
        "\n",
        "#checked\n",
        "def Recursive_feature_elimination(df,c=1.0):\n",
        "    X = df.iloc[:,0:-1]  #independent columns\n",
        "    y = df.iloc[:,-1]    #target column i.e price range\n",
        "\n",
        "    # Create the RFE object and rank each pixel\n",
        "    svc = SVC(C=c,kernel=\"linear\")\n",
        "    rfe = RFE(estimator=svc, n_features_to_select=1, step=1)\n",
        "    rfe.fit_transform(X, y)\n",
        "    column_indexes=rfe.get_support([\"index\"])\n",
        "    new_columns=find_columns(df,column_indexes)\n",
        "    if(\"Score\" not in new_columns):\n",
        "        new_columns.append(\"Score\")\n",
        "    new_df=df[new_columns]\n",
        "    return new_df\n",
        "\n",
        "\n",
        "#NEEDS checking\n",
        "# Forward selection\n",
        "#start with a model with no features\n",
        "# add a feature that maximizes criterion function\n",
        "# repeat for all other features. \n",
        "# choose and add only the feature that had the best performance. \n",
        "# Now the model has one model, repat for from the third line. After doing it for all features then you add the second one. \n",
        "# finish when you reach desired number of features. \n",
        "from sklearn.naive_bayes import GaussianNB\n",
        "from mlxtend.feature_selection import SequentialFeatureSelector as SFS\n",
        "\n",
        "def forwardSelection(df,NumberofFeatures=5, forward=True):\n",
        "  X = df.iloc[:,0:-1]  #independent columns\n",
        "  y = df.iloc[:,-1]    #target column i.e price range\n",
        "  classifier =  GaussianNB()\n",
        "  # Sequential Forward Selection\n",
        "  sfs = SFS(classifier, \n",
        "            k_features=NumberofFeatures, \n",
        "            forward=forward, \n",
        "            floating=False, \n",
        "            verbose=2,\n",
        "            scoring='accuracy',\n",
        "            cv=10)\n",
        "\n",
        "  sfs = sfs.fit(X, y)\n",
        "  column_indexes=sfs.k_feature_idx_\n",
        "  new_columns=find_columns(df,column_indexes)\n",
        "  if(\"Score\" not in new_columns):\n",
        "      new_columns.append(\"Score\")\n",
        "  new_df=df[new_columns]\n",
        "  return new_df\n",
        "\n",
        "  \n",
        "  # print('\\nSequential Forward Selection (k=5):')\n",
        "  # print('Selected features:',sfs.k_feature_idx_)\n",
        "  # print('Prediction score:',sfs.k_score_)\n",
        "\n",
        "\n",
        "  # backward selection\n",
        "#start with a model with all features\n",
        "# remove a feature that maximizes criterion function\n",
        "# repeat for all other features. \n",
        "# choose and remove only the feature that made the least performance diference performance. \n",
        "# Now the model has -1 features model, repat for from the third line. After doing it for all features then you remove the second one\n",
        "# finish when you reach desired number of features. \n",
        "\n",
        "# Example 2\n",
        "# Sequential Backward Selection\n",
        "def backwardSelection(df,NumberofFeatures=5):\n",
        "  return forwardSelection(df,NumberofFeatures=NumberofFeatures, forward=True)\n",
        "\n",
        "\n",
        "\n",
        "def select_features(df,k=None,c=0.1,list_of_eliminations=(1,1,1,1,1,1,1)):\n",
        "\n",
        "    temp=df.to_dict()\n",
        "    temp.pop(\"Id\")\n",
        "    temp[\"Score\"]=temp.pop(\"Score\")\n",
        "    if(k==None):\n",
        "      k=df.shape[1]-1\n",
        "    new_df=pd.DataFrame(temp)\n",
        "    print(\"initially\\n\"+ str(new_df.head(10)))\n",
        "    if(list_of_eliminations[0]==1):\n",
        "        new_df=remove_features_with_low_variance(new_df)\n",
        "        print(new_df.head(10))\n",
        "    if(list_of_eliminations[1]==1):\n",
        "        new_df=l1_l2_based_feaure_selection(new_df,c=c)\n",
        "        print(new_df.head(10))\n",
        "    if(list_of_eliminations[2]==1):\n",
        "      ##dont Use this one.\n",
        "      print(\"Nothing\")\n",
        "        # new_df=l1_l2_based_feaure_selection(new_df,sparse_estimator=\"any\",c=c)\n",
        "    if(list_of_eliminations[3]==1):\n",
        "        new_df=Tree_based_feature_selection(new_df)\n",
        "        print(new_df.head(10))\n",
        "    if(list_of_eliminations[4]==1):\n",
        "        new_df=Recursive_feature_elimination(new_df,c*10)\n",
        "        print(new_df.head(10))\n",
        "    if(list_of_eliminations[5]==1):\n",
        "        new_df=Recursive_feature_elimination_with_cross_validation(new_df,c*10)\n",
        "        print(new_df.head(10))\n",
        "    if(list_of_eliminations[6]==1):\n",
        "        try:\n",
        "            new_df=SelectKBest_attributes(new_df, k=k)\n",
        "            print(new_df.head(10))\n",
        "        except:\n",
        "            print(\"could not do select k\")\n",
        "    if(list_of_eliminations[7]==1):\n",
        "      try:\n",
        "        backwardSelection(new_df, NumberofFeatures=k)\n",
        "        print(new_df.head(10))\n",
        "      except:\n",
        "        print(\"could not do select k\")\n",
        "      \n",
        "      print(new_df.head(10))\n",
        "\n",
        "    ans=new_df\n",
        "    if(\"Id\"in df.columns):\n",
        "        ans[\"Id\"]=df[\"Id\"]\n",
        "        ans[\"Id\"]=ans.pop(\"Id\")\n",
        "    if(\"Score\"in df.columns):\n",
        "        ans[\"Score\"]=df[\"Score\"]\n",
        "        ans[\"Score\"]=ans.pop(\"Score\")\n",
        "    return pd.DataFrame(ans)\n",
        "\n",
        "def find_most_important_attribute_names(df,n=1):\n",
        "    temp=setNAValuesInDataframeToMedian(df.copy())\n",
        "    n=n+1\n",
        "    temp=select_features(temp,list_of_eliminations=(0,0,0,0,0,0,0,1),k=n)\n",
        "    if(n<=2):\n",
        "        return temp.columns[0]\n",
        "    else:\n",
        "        return temp.columns[:n-1]\n",
        "# function that drops the missing values dropping the missing values\n",
        "def drop_missing_values_from_dataframe(dataframe):\n",
        "  df=dataframe.copy()\n",
        "  result = df.dropna()\n",
        "  return result\n",
        "# set NA values as Median. Here we chose median instead of average because we feel like it best represents the data. \n",
        "def setNAValuesInDataframeToMedian(dataframe):\n",
        "  df=dataframe.copy()\n",
        "  for feature in df.columns:\n",
        "    df[feature]= df[feature].replace(np.NaN,  dataframe[feature].median())\n",
        "  return df\n",
        "from sklearn.tree import DecisionTreeRegressor\n",
        "def replaceNAValuesWithPredictedValue(dataframe):\n",
        "  datasetWithPredictedValuesForNA=dataframe.copy()\n",
        "  for feature in datasetWithPredictedValuesForNA.columns:\n",
        "    if (datasetWithPredictedValuesForNA[feature].isnull().sum()>0):\n",
        "      data=datasetWithPredictedValuesForNA.copy();\n",
        "\n",
        "      test_data = datasetWithPredictedValuesForNA[datasetWithPredictedValuesForNA[feature].isnull()]\n",
        "      data.dropna(inplace=True)\n",
        "\n",
        "      y_train = data[feature]\n",
        "      X_train = data.drop(feature, axis=1)\n",
        "      X_test = test_data.drop(feature, axis=1)\n",
        "\n",
        "      X_test=setNAValuesInDataframeToMedian(X_test)\n",
        "\n",
        "      # model = DecisionTreeRegressor()\n",
        "      model = LinearRegression()\n",
        "      model.fit(X_train, y_train)\n",
        "\n",
        "      y_pred = model.predict(X_test)\n",
        "\n",
        "      for i,id in enumerate(X_test[\"Id\"]):\n",
        "        #TODO turn the output values back to the original scale.\n",
        "        index=datasetWithPredictedValuesForNA[datasetWithPredictedValuesForNA[\"Id\"]==id].index.values[0]\n",
        "        datasetWithPredictedValuesForNA.at[index, feature]=y_pred[i]\n",
        "  return datasetWithPredictedValuesForNA\n",
        "\n",
        "\n",
        "\n",
        "#The correlation coefficient ranges from –1 to 1. When it is close to 1, it means that\n",
        "# there is a strong positive correlation; When the coefficient is close to –1, it means\n",
        "# that there is a strong negative correlation\n",
        "# Finally, coefficients close to zero mean that there is no linear correlation.\n",
        "# The correlation coefficient only measures linear correlations (“if x\n",
        "# goes up, then y generally goes up/down”). It may completely miss\n",
        "# out on nonlinear relationships\n",
        "def get_linear_correlations(df, interested_columns=[],sort_column_name=None ):\n",
        "    corr_matrix = df.corr()\n",
        "    if(len(interested_columns)==0):\n",
        "        if(sort_column_name!=None): \n",
        "            corr_matrix.sort_values(by=sort_column_name,ascending=True)\n",
        "        return corr_matrix\n",
        "    else:\n",
        "        ans=corr_matrix[interested_columns]\n",
        "        return ans\n",
        "    \n",
        "\n",
        "\n",
        "def merge_highly_correlated_columns(df,columns_that_dont_find_corelation,\n",
        "                            threshold=0.83):\n",
        "    temp=df.copy()\n",
        "    corr_matrix=get_linear_correlations(df,df.columns)\n",
        "    to_remove=set()\n",
        "    for column_name in corr_matrix.columns:\n",
        "        if(column_name in columns_that_dont_find_corelation):\n",
        "            continue\n",
        "        column=corr_matrix[column_name].drop(column_name)\n",
        "        for index in column.index:\n",
        "            if(index in columns_that_dont_find_corelation ):\n",
        "                continue\n",
        "            anapoda_onoma_plus=index+\"_plus_\"+column_name\n",
        "            anapoda_onoma_minus=index+\"_minus_\"+column_name\n",
        "            if(anapoda_onoma_plus in temp.columns):\n",
        "                continue\n",
        "            if(anapoda_onoma_minus in temp.columns):\n",
        "                continue\n",
        "            if(column[index]>threshold):\n",
        "                new_column_name=column_name+\"_plus_\"+index\n",
        "                temp[new_column_name]=(temp[column_name]+temp[index])/2\n",
        "                to_remove.add(index)\n",
        "                to_remove.add(column_name)\n",
        "            elif(column[index]<(-threshold)):\n",
        "                new_column_name=column_name+\"_minus_\"+index\n",
        "                temp[new_column_name]=(temp[column_name]-temp[index])/2\n",
        "                to_remove.add(index)\n",
        "                to_remove.add(column_name)\n",
        "    to_remove=list(to_remove)\n",
        "    temp=temp.drop(to_remove,axis=1)\n",
        "    return temp\n",
        "   \n",
        "\n",
        "def check_for_correlations_visually(df,promising_column_names):\n",
        "    from pandas.plotting import scatter_matrix\n",
        "    scatter_matrix(df[promising_column_names], figsize=(df.shape[0], 3*len(promising_column_names)),grid=True)\n"
      ],
      "execution_count": 2,
      "outputs": [
        {
          "output_type": "stream",
          "text": [
            "/usr/local/lib/python3.7/dist-packages/sklearn/externals/joblib/__init__.py:15: FutureWarning: sklearn.externals.joblib is deprecated in 0.21 and will be removed in 0.23. Please import this functionality directly from joblib, which can be installed with: pip install joblib. If this warning is raised when loading pickled models, you may need to re-serialize those models with scikit-learn 0.21+.\n",
            "  warnings.warn(msg, category=FutureWarning)\n"
          ],
          "name": "stderr"
        }
      ]
    },
    {
      "cell_type": "markdown",
      "metadata": {
        "id": "-XZJYJa_tIIM"
      },
      "source": [
        "##A function that reads the dataset from out private github repository\n",
        "\n",
        "##**TODO Delete Private Token**"
      ]
    },
    {
      "cell_type": "code",
      "metadata": {
        "id": "gIVW1mA0cP7H"
      },
      "source": [
        "# def readCSVFile(): # TODO men to valis mesto github tuto. \n",
        "#   # Username of your GitHub account\n",
        "#   username = 'StylianosHerodotou'\n",
        "#   # Personal Access Token (PAO) from your GitHub account\n",
        "#   token = INSERT TOKEN HERE\n",
        "#   # Creates a re-usable session object with your creds in-built\n",
        "#   github_session = requests.Session()\n",
        "#   github_session.auth = (username, token)\n",
        "#   # Downloading the csv file from your GitHub\n",
        "#   url = \"https://raw.githubusercontent.com/StylianosHerodotou/DataScience_MachineLearing_project/master/Credits%20Scoring/score_labeling_goldman.csv?token=AP3CYJF3BDSOANHEHJNR2XLALHPHO\" # Make sure the url is the raw version of the file on GitHub\n",
        "#   download = github_session.get(url).content\n",
        "#   # Reading the downloaded content and making it a pandas dataframe\n",
        "#   df = pd.read_csv(io.StringIO(download.decode('utf-8')))\n",
        "#   return df;\n",
        "\n",
        "def readCSVFile(): # TODO men to valis mesto github tuto. \n",
        "  # Username of your GitHub account\n",
        "  username = 'username'\n",
        "  # Personal Access Token (PAO) from your GitHub account\n",
        "  token = 'token'\n",
        "  # Creates a re-usable session object with your creds in-built\n",
        "  github_session = requests.Session()\n",
        "  github_session.auth = (username, token)\n",
        "  # Downloading the csv file from your GitHub\n",
        "  url = \"https://raw.githubusercontent.com/PanikosChristou99/DataScience_MachineLearing_project/master/Credits%20Scoring/score_labeling_goldman.csv?token=AP3CYJF3BDSOANHEHJNR2XLALHPHO\" # Make sure the url is the raw version of the file on GitHub\n",
        "  download = github_session.get(url).content\n",
        "  # Reading the downloaded content and making it a pandas dataframe\n",
        "  df = pd.read_csv(io.StringIO(download.decode('utf-8')))\n",
        "  return df;"
      ],
      "execution_count": 3,
      "outputs": []
    },
    {
      "cell_type": "markdown",
      "metadata": {
        "id": "xImKhgElo18u"
      },
      "source": [
        "##We first read the csv from our Github repo"
      ]
    },
    {
      "cell_type": "code",
      "metadata": {
        "colab": {
          "base_uri": "https://localhost:8080/",
          "height": 396
        },
        "id": "VPGq-NcXozgt",
        "outputId": "1b437f9d-884b-447e-a45b-3c66d55b7b5e"
      },
      "source": [
        "oringinalDataset=readCSVFile()\n",
        "oringinalDataset.head(10)"
      ],
      "execution_count": 4,
      "outputs": [
        {
          "output_type": "execute_result",
          "data": {
            "text/html": [
              "<div>\n",
              "<style scoped>\n",
              "    .dataframe tbody tr th:only-of-type {\n",
              "        vertical-align: middle;\n",
              "    }\n",
              "\n",
              "    .dataframe tbody tr th {\n",
              "        vertical-align: top;\n",
              "    }\n",
              "\n",
              "    .dataframe thead th {\n",
              "        text-align: right;\n",
              "    }\n",
              "</style>\n",
              "<table border=\"1\" class=\"dataframe\">\n",
              "  <thead>\n",
              "    <tr style=\"text-align: right;\">\n",
              "      <th></th>\n",
              "      <th>Id</th>\n",
              "      <th>Score</th>\n",
              "      <th>RevolvingUtilizationOfUnsecuredLines</th>\n",
              "      <th>age</th>\n",
              "      <th>NumberOfTime30-59DaysPastDueNotWorse</th>\n",
              "      <th>DebtRatio</th>\n",
              "      <th>MonthlyIncome</th>\n",
              "      <th>NumberOfOpenCreditLinesAndLoans</th>\n",
              "      <th>NumberOfTimes90DaysLate</th>\n",
              "      <th>NumberRealEstateLoansOrLines</th>\n",
              "      <th>NumberOfTime60-89DaysPastDueNotWorse</th>\n",
              "      <th>NumberOfDependents</th>\n",
              "    </tr>\n",
              "  </thead>\n",
              "  <tbody>\n",
              "    <tr>\n",
              "      <th>0</th>\n",
              "      <td>1</td>\n",
              "      <td>0</td>\n",
              "      <td>0.766127</td>\n",
              "      <td>45</td>\n",
              "      <td>2</td>\n",
              "      <td>0.802982</td>\n",
              "      <td>9120.0</td>\n",
              "      <td>13</td>\n",
              "      <td>0</td>\n",
              "      <td>6</td>\n",
              "      <td>0</td>\n",
              "      <td>2.0</td>\n",
              "    </tr>\n",
              "    <tr>\n",
              "      <th>1</th>\n",
              "      <td>2</td>\n",
              "      <td>1</td>\n",
              "      <td>0.957151</td>\n",
              "      <td>40</td>\n",
              "      <td>0</td>\n",
              "      <td>0.121876</td>\n",
              "      <td>2600.0</td>\n",
              "      <td>4</td>\n",
              "      <td>0</td>\n",
              "      <td>0</td>\n",
              "      <td>0</td>\n",
              "      <td>1.0</td>\n",
              "    </tr>\n",
              "    <tr>\n",
              "      <th>2</th>\n",
              "      <td>3</td>\n",
              "      <td>0</td>\n",
              "      <td>0.658180</td>\n",
              "      <td>38</td>\n",
              "      <td>1</td>\n",
              "      <td>0.085113</td>\n",
              "      <td>3042.0</td>\n",
              "      <td>2</td>\n",
              "      <td>1</td>\n",
              "      <td>0</td>\n",
              "      <td>0</td>\n",
              "      <td>0.0</td>\n",
              "    </tr>\n",
              "    <tr>\n",
              "      <th>3</th>\n",
              "      <td>4</td>\n",
              "      <td>2</td>\n",
              "      <td>0.233810</td>\n",
              "      <td>30</td>\n",
              "      <td>0</td>\n",
              "      <td>0.036050</td>\n",
              "      <td>3300.0</td>\n",
              "      <td>5</td>\n",
              "      <td>0</td>\n",
              "      <td>0</td>\n",
              "      <td>0</td>\n",
              "      <td>0.0</td>\n",
              "    </tr>\n",
              "    <tr>\n",
              "      <th>4</th>\n",
              "      <td>5</td>\n",
              "      <td>0</td>\n",
              "      <td>0.907239</td>\n",
              "      <td>49</td>\n",
              "      <td>1</td>\n",
              "      <td>0.024926</td>\n",
              "      <td>63588.0</td>\n",
              "      <td>7</td>\n",
              "      <td>0</td>\n",
              "      <td>1</td>\n",
              "      <td>0</td>\n",
              "      <td>0.0</td>\n",
              "    </tr>\n",
              "    <tr>\n",
              "      <th>5</th>\n",
              "      <td>6</td>\n",
              "      <td>3</td>\n",
              "      <td>0.213179</td>\n",
              "      <td>74</td>\n",
              "      <td>0</td>\n",
              "      <td>0.375607</td>\n",
              "      <td>3500.0</td>\n",
              "      <td>3</td>\n",
              "      <td>0</td>\n",
              "      <td>1</td>\n",
              "      <td>0</td>\n",
              "      <td>1.0</td>\n",
              "    </tr>\n",
              "    <tr>\n",
              "      <th>6</th>\n",
              "      <td>7</td>\n",
              "      <td>3</td>\n",
              "      <td>0.305682</td>\n",
              "      <td>57</td>\n",
              "      <td>0</td>\n",
              "      <td>5710.000000</td>\n",
              "      <td>NaN</td>\n",
              "      <td>8</td>\n",
              "      <td>0</td>\n",
              "      <td>3</td>\n",
              "      <td>0</td>\n",
              "      <td>0.0</td>\n",
              "    </tr>\n",
              "    <tr>\n",
              "      <th>7</th>\n",
              "      <td>8</td>\n",
              "      <td>1</td>\n",
              "      <td>0.754464</td>\n",
              "      <td>39</td>\n",
              "      <td>0</td>\n",
              "      <td>0.209940</td>\n",
              "      <td>3500.0</td>\n",
              "      <td>8</td>\n",
              "      <td>0</td>\n",
              "      <td>0</td>\n",
              "      <td>0</td>\n",
              "      <td>0.0</td>\n",
              "    </tr>\n",
              "    <tr>\n",
              "      <th>8</th>\n",
              "      <td>9</td>\n",
              "      <td>2</td>\n",
              "      <td>0.116951</td>\n",
              "      <td>27</td>\n",
              "      <td>0</td>\n",
              "      <td>46.000000</td>\n",
              "      <td>NaN</td>\n",
              "      <td>2</td>\n",
              "      <td>0</td>\n",
              "      <td>0</td>\n",
              "      <td>0</td>\n",
              "      <td>NaN</td>\n",
              "    </tr>\n",
              "    <tr>\n",
              "      <th>9</th>\n",
              "      <td>10</td>\n",
              "      <td>2</td>\n",
              "      <td>0.189169</td>\n",
              "      <td>57</td>\n",
              "      <td>0</td>\n",
              "      <td>0.606291</td>\n",
              "      <td>23684.0</td>\n",
              "      <td>9</td>\n",
              "      <td>0</td>\n",
              "      <td>4</td>\n",
              "      <td>0</td>\n",
              "      <td>2.0</td>\n",
              "    </tr>\n",
              "  </tbody>\n",
              "</table>\n",
              "</div>"
            ],
            "text/plain": [
              "   Id  Score  ...  NumberOfTime60-89DaysPastDueNotWorse  NumberOfDependents\n",
              "0   1      0  ...                                     0                 2.0\n",
              "1   2      1  ...                                     0                 1.0\n",
              "2   3      0  ...                                     0                 0.0\n",
              "3   4      2  ...                                     0                 0.0\n",
              "4   5      0  ...                                     0                 0.0\n",
              "5   6      3  ...                                     0                 1.0\n",
              "6   7      3  ...                                     0                 0.0\n",
              "7   8      1  ...                                     0                 0.0\n",
              "8   9      2  ...                                     0                 NaN\n",
              "9  10      2  ...                                     0                 2.0\n",
              "\n",
              "[10 rows x 12 columns]"
            ]
          },
          "metadata": {
            "tags": []
          },
          "execution_count": 4
        }
      ]
    },
    {
      "cell_type": "markdown",
      "metadata": {
        "id": "16qKIO5UtgU0"
      },
      "source": [
        "## Have a look at the shape of our data"
      ]
    },
    {
      "cell_type": "code",
      "metadata": {
        "colab": {
          "base_uri": "https://localhost:8080/"
        },
        "id": "HRwL4kPeeLYv",
        "outputId": "9afc8159-35a5-4a52-dd12-6fb8a35fe09a"
      },
      "source": [
        "# number of rows and columns\n",
        "shapeOfOriginalDataset=oringinalDataset.shape\n",
        "shapeOfOriginalDataset"
      ],
      "execution_count": 5,
      "outputs": [
        {
          "output_type": "execute_result",
          "data": {
            "text/plain": [
              "(150000, 12)"
            ]
          },
          "metadata": {
            "tags": []
          },
          "execution_count": 5
        }
      ]
    },
    {
      "cell_type": "markdown",
      "metadata": {
        "id": "5R2BX9w9tkw3"
      },
      "source": [
        "##Lets observe what type of data we are working with:"
      ]
    },
    {
      "cell_type": "code",
      "metadata": {
        "colab": {
          "base_uri": "https://localhost:8080/"
        },
        "id": "y0DLeV7L75mt",
        "outputId": "05de21e9-04c7-4969-aee9-b0133c25f191"
      },
      "source": [
        "oringinalDataset.dtypes"
      ],
      "execution_count": 6,
      "outputs": [
        {
          "output_type": "execute_result",
          "data": {
            "text/plain": [
              "Id                                        int64\n",
              "Score                                     int64\n",
              "RevolvingUtilizationOfUnsecuredLines    float64\n",
              "age                                       int64\n",
              "NumberOfTime30-59DaysPastDueNotWorse      int64\n",
              "DebtRatio                               float64\n",
              "MonthlyIncome                           float64\n",
              "NumberOfOpenCreditLinesAndLoans           int64\n",
              "NumberOfTimes90DaysLate                   int64\n",
              "NumberRealEstateLoansOrLines              int64\n",
              "NumberOfTime60-89DaysPastDueNotWorse      int64\n",
              "NumberOfDependents                      float64\n",
              "dtype: object"
            ]
          },
          "metadata": {
            "tags": []
          },
          "execution_count": 6
        }
      ]
    },
    {
      "cell_type": "markdown",
      "metadata": {
        "id": "E_I825actv4p"
      },
      "source": [
        "### Thankfully we are only using numbers which makes our job easier since there will be less work in the preprosessing part of the Notebook"
      ]
    },
    {
      "cell_type": "markdown",
      "metadata": {
        "id": "IW0uZuPyBt4i"
      },
      "source": [
        "##Lets see how many of each score there are:"
      ]
    },
    {
      "cell_type": "markdown",
      "metadata": {
        "id": "0-RzyTXICB4E"
      },
      "source": [
        "### We can see that there is an uneven number of entries for each Score-category. We should keep this in mind and later when split the data into train-validation-test sets to use stratified sampling. "
      ]
    },
    {
      "cell_type": "code",
      "metadata": {
        "colab": {
          "base_uri": "https://localhost:8080/"
        },
        "id": "O7mbUoZ7AYeP",
        "outputId": "ed21f0e3-9d49-4848-e3bf-1e6d6e2f765f"
      },
      "source": [
        "#show how many items of each \"score\" class there are in the dataset.\n",
        "print(oringinalDataset.groupby('Score').size())"
      ],
      "execution_count": 7,
      "outputs": [
        {
          "output_type": "stream",
          "text": [
            "Score\n",
            "0    13350\n",
            "1    24111\n",
            "2    47789\n",
            "3    64750\n",
            "dtype: int64\n"
          ],
          "name": "stdout"
        }
      ]
    },
    {
      "cell_type": "markdown",
      "metadata": {
        "id": "qFomI36AsCpo"
      },
      "source": [
        "\n",
        "\n",
        "##Initially set some global variables that will be useful all through the notebook"
      ]
    },
    {
      "cell_type": "code",
      "metadata": {
        "id": "nnCvlOYfpV8r"
      },
      "source": [
        "targetFeature=\"Score\";\n",
        "numberOfCategories=len(np.unique(oringinalDataset[targetFeature]));\n",
        "global input_dim\n",
        "input_dim=11;"
      ],
      "execution_count": 8,
      "outputs": []
    },
    {
      "cell_type": "markdown",
      "metadata": {
        "id": "FKg3G6WWX7H4"
      },
      "source": [
        "##These are some functions that will help us evaluate how different actions on the dataset affect our results."
      ]
    },
    {
      "cell_type": "code",
      "metadata": {
        "id": "b-mLWZdnnWsu"
      },
      "source": [
        "#supress warnings to keep the notebook clean and presentable. \n",
        "def warn(*args, **kwargs):\n",
        "    pass\n",
        "import warnings\n",
        "warnings.warn = warn"
      ],
      "execution_count": 9,
      "outputs": []
    },
    {
      "cell_type": "code",
      "metadata": {
        "id": "frH1tC_lQ8JO"
      },
      "source": [
        "\n",
        "#define baseline model\n",
        "def get_NN_model(numberOfLayers=2, numberOfNodesInEachLayer=[1028,128], activation_function=\"relu\"):\n",
        " # create model\n",
        "  model = Sequential()\n",
        "  for layerIndex in range(numberOfLayers):\n",
        "    numberOfNodes= numberOfNodesInEachLayer[layerIndex]\n",
        "    if (layerIndex==0):\n",
        "      model.add(Dense(numberOfNodes, input_dim=input_dim, activation=activation_function))\n",
        "    else:\n",
        "      model.add(Dense(numberOfNodes,  activation=activation_function))\n",
        "  model.add(Dense(numberOfCategories, activation='softmax'))\n",
        " # Compile model\n",
        "  model.compile(loss='categorical_crossentropy', optimizer='adam', metrics=['accuracy'])\n",
        "  return model\n",
        "\n",
        "def create_basic_NN_model(new_input_dim, targetFeature,epochs=20,batch_size=128):\n",
        "  global input_dim\n",
        "  input_dim=new_input_dim\n",
        "  estimator = KerasClassifier(build_fn=get_NN_model, epochs=epochs, batch_size=batch_size, verbose=1)\n",
        "  return estimator\n",
        "\n",
        "def create_basic_logistic_regression_model(max_iterations):\n",
        "    # all parameters not specified are set to their defaults\n",
        "    estimator = LogisticRegression(max_iter=max_iterations)\n",
        "    return estimator\n",
        "\n",
        "def create_basic_gaussian_naive_bayes_model(max_iterations):\n",
        "    estimator = GaussianNB()\n",
        "    return estimator\n",
        "                                      \n",
        "def create_basic_decision_tree_classifier_model(max_iterations):\n",
        "    estimator = DecisionTreeClassifier(max_depth=max_iterations)\n",
        "    return estimator\n",
        "\n",
        "def create_basic_support_vector_classification_model(max_iterations):\n",
        "    estimator=SVC(max_iter=max_iterations)\n",
        "    return estimator\n",
        "\n",
        "\n",
        "def create_basic_SGDClasifier_model(max_iterations ):\n",
        "    estimator=SGDClassifier(max_iter=max_iterations)\n",
        "    return estimator\n",
        "    \n",
        "def create_basic_random_forest_model(max_iterations):\n",
        "    estimator = RandomForestClassifier(max_depth=max_iterations)\n",
        "    return estimator\n",
        "\n",
        "from xgboost import XGBClassifier\n",
        "def create_basic_XGBoost_model(max_iterations):\n",
        "    estimator = XGBClassifier(max_depth=max_iterations)\n",
        "    return estimator\n",
        "\n",
        "\n",
        "def get_basic_models(x_train,y_train,new_input_dim, max_iterations=50):\n",
        "  cv=None;\n",
        "  logistic_reggresion_model=create_basic_logistic_regression_model(max_iterations);\n",
        "  gaussian_naive_bayes_model=create_basic_gaussian_naive_bayes_model(max_iterations);\n",
        "  decision_tree_classifier_model=create_basic_decision_tree_classifier_model(max_iterations);\n",
        "  support_vector_classification_model=create_basic_support_vector_classification_model(max_iterations);\n",
        "  SGDClasifier_model=create_basic_SGDClasifier_model(max_iterations);\n",
        "  random_forest_model=create_basic_random_forest_model(max_iterations);\n",
        "  NN=create_basic_NN_model(new_input_dim, targetFeature, epochs=max_iterations);\n",
        "  xgboost_model=create_basic_XGBoost_model(max_iterations)\n",
        "\n",
        "\n",
        "  models=[\n",
        "    (\"logistic_reggresion_model\",logistic_reggresion_model),\n",
        "      (\"gaussian_naive_bayes_model\",gaussian_naive_bayes_model),\n",
        "    (\"decision_tree_classifier_model\",decision_tree_classifier_model),\n",
        "      (\"support_vector_classification_model\",support_vector_classification_model),\n",
        "      (\"SGDClasifier_model\",SGDClasifier_model),\n",
        "      (\"random_forest_model\",random_forest_model),\n",
        "     # (\"Neural_Network\",NN),\n",
        "      (\"XGBoost_model\",xgboost_model),\n",
        "      ]\n",
        "  return models\n",
        "# def get_basic_models(x_train,y_train,new_input_dim, max_iterations=50):\n",
        "#   cv=None;\n",
        "#   random_forest_model=create_basic_random_forest_model(max_iterations)\n",
        "#   xgboost_model=create_basic_XGBoost_model(max_iterations)\n",
        "\n",
        "#   models=[\n",
        "#       (\"random_forest_model\",random_forest_model)\n",
        "#       # (\"xgboost_model\",xgboost_model)\n",
        "#       ]\n",
        "#   return models\n",
        "\n",
        "def getResultsOfCurrentDataframe(dataframe, targetFeature, columns_to_drop=[\"Score\", \"Id\"],\n",
        "                                 max_iterations=20, cv=5, X=None, Y=None):\n",
        " # warnings.warn = warn\n",
        "  # multi-class classification with Keras\n",
        "  if(X is None and Y is None):\n",
        "    dataframe=drop_missing_values_from_dataframe(dataframe)\n",
        "    X = dataframe.drop(columns=columns_to_drop,axis=1)\n",
        "    Y = dataframe[targetFeature]\n",
        "  \n",
        "\n",
        "  # encode class values as integers\n",
        "  encoder = LabelEncoder()\n",
        "  encoder.fit(Y)\n",
        "  encoded_Y = encoder.transform(Y)\n",
        "  # convert integers to dummy variables (i.e. one hot encoded)\n",
        "  dummy_y = np_utils.to_categorical(encoded_Y)\n",
        "  new_input_dim=len(X.columns)\n",
        "\n",
        "  x_train, x_test,y_train,y_test = train_test_split(X,Y,test_size=0.2,stratify=Y,random_state=42)\n",
        "\n",
        "  models=get_basic_models(x_train,y_train,new_input_dim, max_iterations);\n",
        "\n",
        "  accuracies = []\n",
        "  names =[]\n",
        "  for name, model in models:\n",
        "      start = time.time()\n",
        "      score = cross_val_score(model, x_train, y_train,scoring=\"accuracy\", cv=cv,verbose=0).mean()\n",
        "      print (\"Model \", name,  \" Achived score: \",  score ,'\\n')\n",
        "      print ('time needed to do crossvalidation: ', time.time() - start, '\\n\\n')\n",
        "      accuracies.append(score)\n",
        "      names.append(name)\n",
        "\n",
        "  fig = plt.figure(figsize = (30, 15))\n",
        "  plt.bar(names, accuracies)\n",
        "  plt.xlabel(\"Models\")\n",
        "  plt.ylabel(\"Score\")\n",
        "  x1,x2,y1,y2 = plt.axis()\n",
        "  plt.axis((x1,x2,0,1))\n",
        "  plt.show()"
      ],
      "execution_count": 10,
      "outputs": []
    },
    {
      "cell_type": "markdown",
      "metadata": {
        "id": "Ta_2OYge2L6Q"
      },
      "source": [
        "##As you can see the initial results are not great. This is to be expected as our data are still unprocessed.\n",
        "\n",
        "Probably the accuracy would have increased if we had increased the number of iterations however this is enough to get an estimate of how well the various models perform with unprocessed Data. \n"
      ]
    },
    {
      "cell_type": "code",
      "metadata": {
        "id": "g3vGyNctLX_u"
      },
      "source": [
        "# getResultsOfCurrentDataframe(oringinalDataset,targetFeature= targetFeature, max_iterations=25)\n"
      ],
      "execution_count": 12,
      "outputs": []
    },
    {
      "cell_type": "markdown",
      "metadata": {
        "id": "fb86LDFQC7pM"
      },
      "source": [
        "##So we concluded that with unprocessed Data our baseline accuracy is 0.7967156888219092  and it is achived byXGBoost_model in 15 mins\n",
        "\n",
        "However we can do a lot better than this. "
      ]
    },
    {
      "cell_type": "markdown",
      "metadata": {
        "id": "z14sn1yat8tY"
      },
      "source": [
        "#Section 1: Clean Data\n",
        "In this section we will present how we cleaned the Data and prepared it for the ML model.\n"
      ]
    },
    {
      "cell_type": "markdown",
      "metadata": {
        "id": "XNgrGuNZiEPo"
      },
      "source": [
        "##Section 1.1: Dealing with erroneous values\n",
        "We start off our quest to improve the accuracy of our models by removing clearly erroneous values from our datasets.\n",
        "\n",
        "\n",
        "After reading the description for what each value represents we concluded that it would not make sense for some of these features to have certain values. So we decided to set this values to NA.  "
      ]
    },
    {
      "cell_type": "markdown",
      "metadata": {
        "id": "CFn0O5JLwJUu"
      },
      "source": [
        "###But firstly lets see the feature descriptions before we touch them\n",
        "1. Score\n",
        "* Target variable\n",
        "2. Id\n",
        "3. Age\n",
        "4. Revolving Utilization of Unsecure Lines: \n",
        "* Total balance on credit cards and personal lines of credit except real estate and no installment debt like car loans divided by the sum of credit limits. In simpler words how much of his/her credit has used. The lower the better.\n",
        "5. Monthly Income.\n",
        "6. Debt Ratio: \n",
        "* Monthly debt payments, alimony, living costs divided by monthly gross income.\n",
        "7. Number Of Open Credit Lines And Loans: \n",
        "* Number of Open loans (installment like car loan or mortgage) and Lines of credit (e.g. credit cards).\n",
        "8. NumberOfTimes90DaysLate:\n",
        "* Number of times borrower has been 90 days or more past due.\n",
        "9. Number Real Estate Loans Or Lines:\n",
        "* Number of mortgage and real estate loans including home equity lines of credit\n",
        "10. NumberOfTime60-89DaysPastDueNotWorse:\n",
        "* Number of times borrower has been 60-89 days past due but no worse in the last 2 years.\n",
        "11. NumberOfTime30-59DaysPastDueNotWorse: \n",
        "* Number of times borrower has been 30-59 days past due but no worse in the last 2 years.\n",
        "12. Number Of Dependents: \n",
        "* Number of dependents in family excluding themselves (spouse, children etc.)\n"
      ]
    },
    {
      "cell_type": "markdown",
      "metadata": {
        "id": "4aP6eMSlly5i"
      },
      "source": [
        "####Below we found the negative values and replaced them with nan do be handled below"
      ]
    },
    {
      "cell_type": "code",
      "metadata": {
        "id": "FyUvqUtE2IgX"
      },
      "source": [
        "columnsThatShouldNotHvaNegativeValues=[\"RevolvingUtilizationOfUnsecuredLines\",\n",
        "\"age\"                                 ,    \n",
        "\"NumberOfTime30-59DaysPastDueNotWorse\", \n",
        "\"MonthlyIncome\"                          , \n",
        "\"NumberOfOpenCreditLinesAndLoans\"        , \n",
        "\"NumberOfTimes90DaysLate\"                , \n",
        "\"NumberRealEstateLoansOrLines\"           , \n",
        "\"NumberOfTime60-89DaysPastDueNotWorse\"   , \n",
        "\"NumberOfDependents\"\n",
        "]\n",
        "oringinalDataset[oringinalDataset[columnsThatShouldNotHvaNegativeValues]<0]=np.nan"
      ],
      "execution_count": 13,
      "outputs": []
    },
    {
      "cell_type": "code",
      "metadata": {
        "colab": {
          "base_uri": "https://localhost:8080/",
          "height": 457
        },
        "id": "3Jl0wPfBpFrr",
        "outputId": "f6ac84bc-4cc3-46f8-cd12-b0e08df56cb7"
      },
      "source": [
        "oringinalDataset"
      ],
      "execution_count": 14,
      "outputs": [
        {
          "output_type": "execute_result",
          "data": {
            "text/html": [
              "<div>\n",
              "<style scoped>\n",
              "    .dataframe tbody tr th:only-of-type {\n",
              "        vertical-align: middle;\n",
              "    }\n",
              "\n",
              "    .dataframe tbody tr th {\n",
              "        vertical-align: top;\n",
              "    }\n",
              "\n",
              "    .dataframe thead th {\n",
              "        text-align: right;\n",
              "    }\n",
              "</style>\n",
              "<table border=\"1\" class=\"dataframe\">\n",
              "  <thead>\n",
              "    <tr style=\"text-align: right;\">\n",
              "      <th></th>\n",
              "      <th>Id</th>\n",
              "      <th>Score</th>\n",
              "      <th>RevolvingUtilizationOfUnsecuredLines</th>\n",
              "      <th>age</th>\n",
              "      <th>NumberOfTime30-59DaysPastDueNotWorse</th>\n",
              "      <th>DebtRatio</th>\n",
              "      <th>MonthlyIncome</th>\n",
              "      <th>NumberOfOpenCreditLinesAndLoans</th>\n",
              "      <th>NumberOfTimes90DaysLate</th>\n",
              "      <th>NumberRealEstateLoansOrLines</th>\n",
              "      <th>NumberOfTime60-89DaysPastDueNotWorse</th>\n",
              "      <th>NumberOfDependents</th>\n",
              "    </tr>\n",
              "  </thead>\n",
              "  <tbody>\n",
              "    <tr>\n",
              "      <th>0</th>\n",
              "      <td>1</td>\n",
              "      <td>0</td>\n",
              "      <td>0.766127</td>\n",
              "      <td>45</td>\n",
              "      <td>2</td>\n",
              "      <td>0.802982</td>\n",
              "      <td>9120.0</td>\n",
              "      <td>13</td>\n",
              "      <td>0</td>\n",
              "      <td>6</td>\n",
              "      <td>0</td>\n",
              "      <td>2.0</td>\n",
              "    </tr>\n",
              "    <tr>\n",
              "      <th>1</th>\n",
              "      <td>2</td>\n",
              "      <td>1</td>\n",
              "      <td>0.957151</td>\n",
              "      <td>40</td>\n",
              "      <td>0</td>\n",
              "      <td>0.121876</td>\n",
              "      <td>2600.0</td>\n",
              "      <td>4</td>\n",
              "      <td>0</td>\n",
              "      <td>0</td>\n",
              "      <td>0</td>\n",
              "      <td>1.0</td>\n",
              "    </tr>\n",
              "    <tr>\n",
              "      <th>2</th>\n",
              "      <td>3</td>\n",
              "      <td>0</td>\n",
              "      <td>0.658180</td>\n",
              "      <td>38</td>\n",
              "      <td>1</td>\n",
              "      <td>0.085113</td>\n",
              "      <td>3042.0</td>\n",
              "      <td>2</td>\n",
              "      <td>1</td>\n",
              "      <td>0</td>\n",
              "      <td>0</td>\n",
              "      <td>0.0</td>\n",
              "    </tr>\n",
              "    <tr>\n",
              "      <th>3</th>\n",
              "      <td>4</td>\n",
              "      <td>2</td>\n",
              "      <td>0.233810</td>\n",
              "      <td>30</td>\n",
              "      <td>0</td>\n",
              "      <td>0.036050</td>\n",
              "      <td>3300.0</td>\n",
              "      <td>5</td>\n",
              "      <td>0</td>\n",
              "      <td>0</td>\n",
              "      <td>0</td>\n",
              "      <td>0.0</td>\n",
              "    </tr>\n",
              "    <tr>\n",
              "      <th>4</th>\n",
              "      <td>5</td>\n",
              "      <td>0</td>\n",
              "      <td>0.907239</td>\n",
              "      <td>49</td>\n",
              "      <td>1</td>\n",
              "      <td>0.024926</td>\n",
              "      <td>63588.0</td>\n",
              "      <td>7</td>\n",
              "      <td>0</td>\n",
              "      <td>1</td>\n",
              "      <td>0</td>\n",
              "      <td>0.0</td>\n",
              "    </tr>\n",
              "    <tr>\n",
              "      <th>...</th>\n",
              "      <td>...</td>\n",
              "      <td>...</td>\n",
              "      <td>...</td>\n",
              "      <td>...</td>\n",
              "      <td>...</td>\n",
              "      <td>...</td>\n",
              "      <td>...</td>\n",
              "      <td>...</td>\n",
              "      <td>...</td>\n",
              "      <td>...</td>\n",
              "      <td>...</td>\n",
              "      <td>...</td>\n",
              "    </tr>\n",
              "    <tr>\n",
              "      <th>149995</th>\n",
              "      <td>149996</td>\n",
              "      <td>3</td>\n",
              "      <td>0.040674</td>\n",
              "      <td>74</td>\n",
              "      <td>0</td>\n",
              "      <td>0.225131</td>\n",
              "      <td>2100.0</td>\n",
              "      <td>4</td>\n",
              "      <td>0</td>\n",
              "      <td>1</td>\n",
              "      <td>0</td>\n",
              "      <td>0.0</td>\n",
              "    </tr>\n",
              "    <tr>\n",
              "      <th>149996</th>\n",
              "      <td>149997</td>\n",
              "      <td>2</td>\n",
              "      <td>0.299745</td>\n",
              "      <td>44</td>\n",
              "      <td>0</td>\n",
              "      <td>0.716562</td>\n",
              "      <td>5584.0</td>\n",
              "      <td>4</td>\n",
              "      <td>0</td>\n",
              "      <td>1</td>\n",
              "      <td>0</td>\n",
              "      <td>2.0</td>\n",
              "    </tr>\n",
              "    <tr>\n",
              "      <th>149997</th>\n",
              "      <td>149998</td>\n",
              "      <td>3</td>\n",
              "      <td>0.246044</td>\n",
              "      <td>58</td>\n",
              "      <td>0</td>\n",
              "      <td>3870.000000</td>\n",
              "      <td>NaN</td>\n",
              "      <td>18</td>\n",
              "      <td>0</td>\n",
              "      <td>1</td>\n",
              "      <td>0</td>\n",
              "      <td>0.0</td>\n",
              "    </tr>\n",
              "    <tr>\n",
              "      <th>149998</th>\n",
              "      <td>149999</td>\n",
              "      <td>2</td>\n",
              "      <td>0.000000</td>\n",
              "      <td>30</td>\n",
              "      <td>0</td>\n",
              "      <td>0.000000</td>\n",
              "      <td>5716.0</td>\n",
              "      <td>4</td>\n",
              "      <td>0</td>\n",
              "      <td>0</td>\n",
              "      <td>0</td>\n",
              "      <td>0.0</td>\n",
              "    </tr>\n",
              "    <tr>\n",
              "      <th>149999</th>\n",
              "      <td>150000</td>\n",
              "      <td>2</td>\n",
              "      <td>0.850283</td>\n",
              "      <td>64</td>\n",
              "      <td>0</td>\n",
              "      <td>0.249908</td>\n",
              "      <td>8158.0</td>\n",
              "      <td>8</td>\n",
              "      <td>0</td>\n",
              "      <td>2</td>\n",
              "      <td>0</td>\n",
              "      <td>0.0</td>\n",
              "    </tr>\n",
              "  </tbody>\n",
              "</table>\n",
              "<p>150000 rows × 12 columns</p>\n",
              "</div>"
            ],
            "text/plain": [
              "            Id  Score  ...  NumberOfTime60-89DaysPastDueNotWorse  NumberOfDependents\n",
              "0            1      0  ...                                     0                 2.0\n",
              "1            2      1  ...                                     0                 1.0\n",
              "2            3      0  ...                                     0                 0.0\n",
              "3            4      2  ...                                     0                 0.0\n",
              "4            5      0  ...                                     0                 0.0\n",
              "...        ...    ...  ...                                   ...                 ...\n",
              "149995  149996      3  ...                                     0                 0.0\n",
              "149996  149997      2  ...                                     0                 2.0\n",
              "149997  149998      3  ...                                     0                 0.0\n",
              "149998  149999      2  ...                                     0                 0.0\n",
              "149999  150000      2  ...                                     0                 0.0\n",
              "\n",
              "[150000 rows x 12 columns]"
            ]
          },
          "metadata": {
            "tags": []
          },
          "execution_count": 14
        }
      ]
    },
    {
      "cell_type": "markdown",
      "metadata": {
        "id": "dys1OCtkKevy"
      },
      "source": [
        "##Section 1.2: Missing Values\n",
        "Let's have a look of how many of our entries have missing values"
      ]
    },
    {
      "cell_type": "code",
      "metadata": {
        "colab": {
          "base_uri": "https://localhost:8080/"
        },
        "id": "r5kZGcDmfEIb",
        "outputId": "5cf2cf41-9ba1-40f8-adde-8da849245ed2"
      },
      "source": [
        "# number of missing values in each column\n",
        "oringinalDataset.isnull().sum()"
      ],
      "execution_count": 15,
      "outputs": [
        {
          "output_type": "execute_result",
          "data": {
            "text/plain": [
              "Id                                          0\n",
              "Score                                       0\n",
              "RevolvingUtilizationOfUnsecuredLines        0\n",
              "age                                         0\n",
              "NumberOfTime30-59DaysPastDueNotWorse        0\n",
              "DebtRatio                                   0\n",
              "MonthlyIncome                           29731\n",
              "NumberOfOpenCreditLinesAndLoans             0\n",
              "NumberOfTimes90DaysLate                     0\n",
              "NumberRealEstateLoansOrLines                0\n",
              "NumberOfTime60-89DaysPastDueNotWorse        0\n",
              "NumberOfDependents                       3924\n",
              "dtype: int64"
            ]
          },
          "metadata": {
            "tags": []
          },
          "execution_count": 15
        }
      ]
    },
    {
      "cell_type": "markdown",
      "metadata": {
        "id": "xOx0yjIgjA3p"
      },
      "source": [
        "As you can see there are missing values only for the columns MonthlyIncome andd NumberOfDependents. \n",
        "\n",
        "###How can someone deal with missing values:\n",
        "\n",
        "*   Delete the rows of those values (Good practise is not to delete more than 10% of data)\n",
        "*   Set the global average of that collumn\n",
        "*   Using a linear reggression moddel to predict what the value could have been using the other collumns. But it may introduce some bias."
      ]
    },
    {
      "cell_type": "markdown",
      "metadata": {
        "id": "_L80GPZ1wL6-"
      },
      "source": [
        "### Solution 1: Dropping them\n",
        "Pros:\n",
        "1. A model trained with the removal of all missing values creates a robust model.\n",
        "\n",
        "Cons:\n",
        "1. Loss of a lot of information.\n",
        "2. Works poorly if the percentage of missing values is excessive in comparison to the complete dataset."
      ]
    },
    {
      "cell_type": "code",
      "metadata": {
        "colab": {
          "base_uri": "https://localhost:8080/"
        },
        "id": "kODY-MMSfdKV",
        "outputId": "95d2b8fe-f182-413d-a64d-ea999d364b60"
      },
      "source": [
        "percetageOfMissingValues=oringinalDataset.shape[0]/max(oringinalDataset.isnull().sum())\n",
        "percetageOfMissingValues"
      ],
      "execution_count": 16,
      "outputs": [
        {
          "output_type": "execute_result",
          "data": {
            "text/plain": [
              "5.045238976152837"
            ]
          },
          "metadata": {
            "tags": []
          },
          "execution_count": 16
        }
      ]
    },
    {
      "cell_type": "markdown",
      "metadata": {
        "id": "s6XkMyDMjrtn"
      },
      "source": [
        "\n",
        "We can See that the percetage of Missing Values is less than 10% (close to 5) so according to Dr. Pavlos we can drop the missing values if we wish to do so. \n"
      ]
    },
    {
      "cell_type": "code",
      "metadata": {
        "colab": {
          "base_uri": "https://localhost:8080/"
        },
        "id": "W-0dPRb9fo0l",
        "outputId": "ff92c6a7-0062-4503-d065-c8cad5af9cb2"
      },
      "source": [
        "datasetWithoutNAValues=drop_missing_values_from_dataframe(oringinalDataset)\n",
        "datasetWithoutNAValues.isnull().sum()"
      ],
      "execution_count": 17,
      "outputs": [
        {
          "output_type": "execute_result",
          "data": {
            "text/plain": [
              "Id                                      0\n",
              "Score                                   0\n",
              "RevolvingUtilizationOfUnsecuredLines    0\n",
              "age                                     0\n",
              "NumberOfTime30-59DaysPastDueNotWorse    0\n",
              "DebtRatio                               0\n",
              "MonthlyIncome                           0\n",
              "NumberOfOpenCreditLinesAndLoans         0\n",
              "NumberOfTimes90DaysLate                 0\n",
              "NumberRealEstateLoansOrLines            0\n",
              "NumberOfTime60-89DaysPastDueNotWorse    0\n",
              "NumberOfDependents                      0\n",
              "dtype: int64"
            ]
          },
          "metadata": {
            "tags": []
          },
          "execution_count": 17
        }
      ]
    },
    {
      "cell_type": "markdown",
      "metadata": {
        "id": "ZDA7pjqAyyq3"
      },
      "source": [
        "### Solution 2: Replace with median\n",
        "\n",
        "Pros:\n",
        "1. Prevent data loss which results in deletion of rows or columns\n",
        "2. Works well with a small dataset and easy to implement.\n",
        "\n",
        "Cons:\n",
        "1. Works only with numerical continuous variables.\n",
        "2. Can cause data leakage\n",
        "3. Does not factor the covariance between features.\n",
        "\n",
        "Another way we could deal with missing values is to replace them with the median\n"
      ]
    },
    {
      "cell_type": "code",
      "metadata": {
        "colab": {
          "base_uri": "https://localhost:8080/"
        },
        "id": "gpSBHxgqxpvs",
        "outputId": "d894aeb3-5c43-449c-9e9c-db25b22df36a"
      },
      "source": [
        "datasetWithMedianAsNAValues=setNAValuesInDataframeToMedian(oringinalDataset)\n",
        "datasetWithMedianAsNAValues.isnull().sum()"
      ],
      "execution_count": 18,
      "outputs": [
        {
          "output_type": "execute_result",
          "data": {
            "text/plain": [
              "Id                                      0\n",
              "Score                                   0\n",
              "RevolvingUtilizationOfUnsecuredLines    0\n",
              "age                                     0\n",
              "NumberOfTime30-59DaysPastDueNotWorse    0\n",
              "DebtRatio                               0\n",
              "MonthlyIncome                           0\n",
              "NumberOfOpenCreditLinesAndLoans         0\n",
              "NumberOfTimes90DaysLate                 0\n",
              "NumberRealEstateLoansOrLines            0\n",
              "NumberOfTime60-89DaysPastDueNotWorse    0\n",
              "NumberOfDependents                      0\n",
              "dtype: int64"
            ]
          },
          "metadata": {
            "tags": []
          },
          "execution_count": 18
        }
      ]
    },
    {
      "cell_type": "markdown",
      "metadata": {
        "id": "LfwQ7Vpbz4u2"
      },
      "source": [
        "###Solution 3: Linear Regression model:\n",
        "The most promissing way of dealing with missing values but the most expensive as well. Is to create a model that predicts the values based on the rest of the features.\n",
        "\n",
        "To do this, we could choose to train multiple models and choose the one the best results. After running some tests, we see that a simple Linear Regression model is great for this Job.\n",
        "\n",
        "Pros:\n",
        "1. Gives a better result than earlier methods\n",
        "2. Takes into account the covariance between missing value column and other columns.\n",
        "\n",
        "Cons:\n",
        "1. Considered only as a proxy for the true values\n",
        "2. Can be biased."
      ]
    },
    {
      "cell_type": "code",
      "metadata": {
        "colab": {
          "base_uri": "https://localhost:8080/"
        },
        "id": "fRda5GCLxp7Z",
        "outputId": "fea4f631-3b24-4bd5-8ce0-452087ece4c6"
      },
      "source": [
        "  datasetWithPredictedValuesForNA=replaceNAValuesWithPredictedValue(oringinalDataset)\n",
        "  datasetWithPredictedValuesForNA.isnull().sum()"
      ],
      "execution_count": 19,
      "outputs": [
        {
          "output_type": "execute_result",
          "data": {
            "text/plain": [
              "Id                                      0\n",
              "Score                                   0\n",
              "RevolvingUtilizationOfUnsecuredLines    0\n",
              "age                                     0\n",
              "NumberOfTime30-59DaysPastDueNotWorse    0\n",
              "DebtRatio                               0\n",
              "MonthlyIncome                           0\n",
              "NumberOfOpenCreditLinesAndLoans         0\n",
              "NumberOfTimes90DaysLate                 0\n",
              "NumberRealEstateLoansOrLines            0\n",
              "NumberOfTime60-89DaysPastDueNotWorse    0\n",
              "NumberOfDependents                      0\n",
              "dtype: int64"
            ]
          },
          "metadata": {
            "tags": []
          },
          "execution_count": 19
        }
      ]
    },
    {
      "cell_type": "markdown",
      "metadata": {
        "id": "QgwWUMCzDQgz"
      },
      "source": [
        "###Lets see which option was the best:"
      ]
    },
    {
      "cell_type": "code",
      "metadata": {
        "id": "AmCeo_RlwYoh",
        "colab": {
          "base_uri": "https://localhost:8080/"
        },
        "outputId": "7efa0594-93f3-44fe-d162-f52016740cc8"
      },
      "source": [
        "datasets=[datasetWithoutNAValues,datasetWithMedianAsNAValues,datasetWithPredictedValuesForNA]\n",
        "names=[\"droped values\",\"NA set ot median\", \"Predicted Values\"]\n",
        "for index, dataset in enumerate(datasets):\n",
        "  print(\"------------\", names[index], \"------------\")\n",
        "  # getResultsOfCurrentDataframe(dataset,targetFeature= targetFeature, max_iterations=20)\n",
        "\n",
        "# datasets=[datasetWithMedianAsNAValues,datasetWithPredictedValuesForNA]\n",
        "# names=[\"NA set ot median\", \"Predicted Values\"]\n",
        "# for index, dataset in enumerate(datasets):\n",
        "#   print(\"------------\", names[index], \"------------\")\n",
        "#   getResultsOfCurrentDataframe(dataset,targetFeature= targetFeature, max_iterations=75)\n"
      ],
      "execution_count": 21,
      "outputs": [
        {
          "output_type": "stream",
          "text": [
            "------------ droped values ------------\n",
            "------------ NA set ot median ------------\n",
            "------------ Predicted Values ------------\n"
          ],
          "name": "stdout"
        }
      ]
    },
    {
      "cell_type": "markdown",
      "metadata": {
        "id": "We3ACCTsxSMl"
      },
      "source": [
        "\n",
        "We initially thought that predicting the missing values would be the more best Method of dealing with missing values, however our prediction was incorrect. The model that achieved the best accuraccy of 0.820575  is the XGBoost_model   with the MEDIAN values instead!\n",
        "\n",
        "So this is the one we continue in without NA's"
      ]
    },
    {
      "cell_type": "code",
      "metadata": {
        "id": "vpN8rYU6xodF"
      },
      "source": [
        "DataframeWithoutNA=datasetWithMedianAsNAValues"
      ],
      "execution_count": 22,
      "outputs": []
    },
    {
      "cell_type": "code",
      "metadata": {
        "id": "ciABFn-nUEoY"
      },
      "source": [
        "bestDFSoFar=DataframeWithoutNA"
      ],
      "execution_count": 23,
      "outputs": []
    },
    {
      "cell_type": "markdown",
      "metadata": {
        "id": "nCqHZ8brGZMW"
      },
      "source": [
        "##Section 1.3: Dealing with Outliers\n",
        "We are find outliers using a combination of two statistical methods.\n",
        "1. z scores\n",
        "2. IQR.\n"
      ]
    },
    {
      "cell_type": "markdown",
      "metadata": {
        "id": "aKyYPRdNElsM"
      },
      "source": [
        "###Here are the functions"
      ]
    },
    {
      "cell_type": "code",
      "metadata": {
        "id": "QVG9s6tYHfGy"
      },
      "source": [
        "def detect_outlier_with_z_value(data_1, threashold=2.9):\n",
        "    outliers=[]\n",
        "    not_outliers=[]\n",
        "    mean_1 = np.mean(data_1)\n",
        "    std_1 =np.std(data_1)\n",
        "    \n",
        "    \n",
        "    for i,y in enumerate(data_1):\n",
        "        z_score= (y - mean_1)/std_1 \n",
        "        if np.abs(z_score) > threashold:\n",
        "            outliers.append(i)\n",
        "        else:\n",
        "            not_outliers.append(i)\n",
        "    return outliers,not_outliers\n",
        "\n",
        "    \n",
        "def detect_outliers_with_IQR (lista,lowPercent=25, upperPercent=75):\n",
        "    outliers=[]\n",
        "    notOutliers=[]\n",
        "    sorted(lista)\n",
        "    q1, q3= np.percentile(lista,[lowPercent,upperPercent])\n",
        "    iqr = q3 - q1\n",
        "    lower_bound = q1 -(1.5 * iqr) \n",
        "    upper_bound = q3 +(1.5 * iqr)\n",
        "    # print(\"iqr \"+ str(iqr) +\" lower_bound \"+ str(lower_bound) + \" upper_bound \"+ str(upper_bound))\n",
        "\n",
        "    for index,item in enumerate(lista):\n",
        "        if(item<lower_bound or item>upper_bound):\n",
        "          outliers.append(index)\n",
        "        else:\n",
        "          notOutliers.append(index)\n",
        "    # print(\"number of not outliers\"+ str(len(outliers)))\n",
        "    return outliers,notOutliers\n",
        "\n",
        "def find_indexes_of_not_outliers(not_outliers):\n",
        "    indexes=[]\n",
        "    for t in not_outliers:\n",
        "        index=t\n",
        "        indexes.append(index)\n",
        "    return indexes\n",
        "\n",
        "\n",
        "def detect_and_remove_outliers_of_feature(df, column_name, methodName=\"z_value\",threshold =2.9, lowPercent=25, upperPercent=75):\n",
        "  numberOfEntries=df.shape[0]\n",
        "  outliers_indexes=set();\n",
        "  all_indexes=set(range(numberOfEntries))\n",
        "  if (methodName==\"z_value\" or methodName==\"both\"):\n",
        "    # print(\"z_value!!!\")\n",
        "    outliers,not_outliers=detect_outlier_with_z_value(df[column_name],threshold)\n",
        "    for index in outliers:\n",
        "      outliers_indexes.add(index)\n",
        "  if (methodName==\"both\" or methodName==\"iqr\"):\n",
        "    # print(\"iqr!!!\")\n",
        "    outliers,not_outliers=detect_outliers_with_IQR(df[column_name],lowPercent=lowPercent, upperPercent=upperPercent)\n",
        "    for index in outliers:\n",
        "      outliers_indexes.add(index)\n",
        "  indexes_of_not_outliers=   all_indexes -    outliers_indexes\n",
        "  print( \"number of outliers \", len(outliers_indexes))\n",
        "  new_df=df[df.index.isin(indexes_of_not_outliers)]\n",
        "  return new_df\n",
        "\n",
        "\n",
        "# def detect_and_remove_outliers_of_feature(df, column_name, methodName=\"z_value\",threshold =2.9, lowPercent=25, upperPercent=75):\n",
        "#   if (methodName==\"z_value\"):\n",
        "#     print(\"zvalue!!!!!!!!!\")\n",
        "#     outliers,not_outliers=detect_outlier_with_z_value(df[column_name],threshold)\n",
        "#   elif (methodName==\"both\"):\n",
        "#     print(\"BOTH!!!!!!!!!\")\n",
        "#     temp_df= detect_and_remove_outliers_of_feature(df,column_name, \"z_value\", threshold, lowPercent, upperPercent)\n",
        "#     temp_df=detect_and_remove_outliers_of_feature(temp_df,column_name, \"iqr\", threshold, lowPercent, upperPercent)\n",
        "#     return temp_df\n",
        "#   else:\n",
        "#       print(\"iqr!!!!!!!!!\")\n",
        "#       outliers,not_outliers=detect_outliers_with_IQR(df[column_name],lowPercent=lowPercent, upperPercent=upperPercent)\n",
        "\n",
        "#   indexes=find_indexes_of_not_outliers(not_outliers)\n",
        "#   new_df=df[df.index.isin(indexes)]\n",
        "# #     new_df=df.loc[indexes]\n",
        "#   return new_df\n",
        "\n",
        "# def detect_and_remove_outliers_for_all_columns(df, methodName=\"z_value\",threshold =2.9, lowPercent=25, upperPercent=75):\n",
        "#   columnsToNotCheck={\"Score\", \"Id\"} # maybe dame prepi na eshi parapano coluns. Prepi na doume pos doulefki tuto je na check.\n",
        "#   numberOfEntries=df.shape[0]\n",
        "#   new_dataframe=df.copy()\n",
        "#   for feature in df.columns:\n",
        "#     if(feature in columnsToNotCheck ):\n",
        "#       continue\n",
        "#     new_dataframe=detect_and_remove_outliers_of_feature(new_dataframe, feature, methodName, threshold, lowPercent, upperPercent)\n",
        "#     print(\"removed \"+ str(numberOfEntries-new_dataframe.shape[0])+ \" entries as outliers from feature \"+ feature)\n",
        "#     numberOfEntries=new_dataframe.shape[0]\n",
        "#   return new_dataframe\n",
        "\n",
        "def detect_and_remove_outliers_for_all_columns(df, methodName=\"z_value\",threshold =2.9, lowPercent=25, upperPercent=75, get_indexes_of_not_outliers=False):\n",
        "  columnsToNotCheck=[\"Score\", \"Id\"] # maybe dame prepi na eshi parapano coluns. Prepi na doume pos doulefki tuto je na check.\n",
        "  numberOfEntries=df.shape[0]\n",
        "  outliers_indexes=set();\n",
        "  all_indexes=set(range(numberOfEntries))\n",
        "\n",
        "  for feature in df.columns:\n",
        "    if (feature in columnsToNotCheck):\n",
        "      continue\n",
        "    if (methodName==\"z_value\" or methodName==\"both\"):\n",
        "      # print(\"z_value!!!\")\n",
        "      outliers,not_outliers=detect_outlier_with_z_value(df[feature],threshold)\n",
        "      for index in outliers:\n",
        "        outliers_indexes.add(index)\n",
        "    if (methodName==\"both\" or methodName==\"iqr\"):\n",
        "      # print(\"iqr!!!\")\n",
        "      outliers,not_outliers=detect_outliers_with_IQR(df[feature],lowPercent=lowPercent, upperPercent=upperPercent)\n",
        "      for index in outliers:\n",
        "        outliers_indexes.add(index)\n",
        "  indexes_of_not_outliers=   all_indexes -    outliers_indexes\n",
        "  print( \"number of outliers \", len(outliers_indexes))\n",
        "  if(get_indexes_of_not_outliers==False):\n",
        "    new_df=df[df.index.isin(indexes_of_not_outliers)]\n",
        "    return new_df\n",
        "  else: \n",
        "    return indexes_of_not_outliers\n",
        "\n"
      ],
      "execution_count": 24,
      "outputs": []
    },
    {
      "cell_type": "markdown",
      "metadata": {
        "id": "9QbSYtVM2OCd"
      },
      "source": [
        "After some testing we realised that we have a lot out outliers in the different features so we decided to remove the very extreme cases.\n",
        "\n",
        "Yo achive that that the appropriate values were:\n",
        "\n",
        "* for z score : threashold= 4\n",
        "* For IQR lowPercent=5 and upperPercent=95 \n"
      ]
    },
    {
      "cell_type": "code",
      "metadata": {
        "colab": {
          "base_uri": "https://localhost:8080/",
          "height": 258
        },
        "id": "Jpz2W8U3KlzE",
        "outputId": "15252f0e-909b-4a05-f1ab-9d1d067ccd08"
      },
      "source": [
        "df_without_outliers=detect_and_remove_outliers_for_all_columns(DataframeWithoutNA, methodName=\"both\",threshold =3, lowPercent=5, upperPercent=95 )\n",
        "df_without_outliers.head()"
      ],
      "execution_count": 25,
      "outputs": [
        {
          "output_type": "stream",
          "text": [
            "number of outliers  7750\n"
          ],
          "name": "stdout"
        },
        {
          "output_type": "execute_result",
          "data": {
            "text/html": [
              "<div>\n",
              "<style scoped>\n",
              "    .dataframe tbody tr th:only-of-type {\n",
              "        vertical-align: middle;\n",
              "    }\n",
              "\n",
              "    .dataframe tbody tr th {\n",
              "        vertical-align: top;\n",
              "    }\n",
              "\n",
              "    .dataframe thead th {\n",
              "        text-align: right;\n",
              "    }\n",
              "</style>\n",
              "<table border=\"1\" class=\"dataframe\">\n",
              "  <thead>\n",
              "    <tr style=\"text-align: right;\">\n",
              "      <th></th>\n",
              "      <th>Id</th>\n",
              "      <th>Score</th>\n",
              "      <th>RevolvingUtilizationOfUnsecuredLines</th>\n",
              "      <th>age</th>\n",
              "      <th>NumberOfTime30-59DaysPastDueNotWorse</th>\n",
              "      <th>DebtRatio</th>\n",
              "      <th>MonthlyIncome</th>\n",
              "      <th>NumberOfOpenCreditLinesAndLoans</th>\n",
              "      <th>NumberOfTimes90DaysLate</th>\n",
              "      <th>NumberRealEstateLoansOrLines</th>\n",
              "      <th>NumberOfTime60-89DaysPastDueNotWorse</th>\n",
              "      <th>NumberOfDependents</th>\n",
              "    </tr>\n",
              "  </thead>\n",
              "  <tbody>\n",
              "    <tr>\n",
              "      <th>1</th>\n",
              "      <td>2</td>\n",
              "      <td>1</td>\n",
              "      <td>0.957151</td>\n",
              "      <td>40</td>\n",
              "      <td>0</td>\n",
              "      <td>0.121876</td>\n",
              "      <td>2600.0</td>\n",
              "      <td>4</td>\n",
              "      <td>0</td>\n",
              "      <td>0</td>\n",
              "      <td>0</td>\n",
              "      <td>1.0</td>\n",
              "    </tr>\n",
              "    <tr>\n",
              "      <th>2</th>\n",
              "      <td>3</td>\n",
              "      <td>0</td>\n",
              "      <td>0.658180</td>\n",
              "      <td>38</td>\n",
              "      <td>1</td>\n",
              "      <td>0.085113</td>\n",
              "      <td>3042.0</td>\n",
              "      <td>2</td>\n",
              "      <td>1</td>\n",
              "      <td>0</td>\n",
              "      <td>0</td>\n",
              "      <td>0.0</td>\n",
              "    </tr>\n",
              "    <tr>\n",
              "      <th>3</th>\n",
              "      <td>4</td>\n",
              "      <td>2</td>\n",
              "      <td>0.233810</td>\n",
              "      <td>30</td>\n",
              "      <td>0</td>\n",
              "      <td>0.036050</td>\n",
              "      <td>3300.0</td>\n",
              "      <td>5</td>\n",
              "      <td>0</td>\n",
              "      <td>0</td>\n",
              "      <td>0</td>\n",
              "      <td>0.0</td>\n",
              "    </tr>\n",
              "    <tr>\n",
              "      <th>5</th>\n",
              "      <td>6</td>\n",
              "      <td>3</td>\n",
              "      <td>0.213179</td>\n",
              "      <td>74</td>\n",
              "      <td>0</td>\n",
              "      <td>0.375607</td>\n",
              "      <td>3500.0</td>\n",
              "      <td>3</td>\n",
              "      <td>0</td>\n",
              "      <td>1</td>\n",
              "      <td>0</td>\n",
              "      <td>1.0</td>\n",
              "    </tr>\n",
              "    <tr>\n",
              "      <th>6</th>\n",
              "      <td>7</td>\n",
              "      <td>3</td>\n",
              "      <td>0.305682</td>\n",
              "      <td>57</td>\n",
              "      <td>0</td>\n",
              "      <td>5710.000000</td>\n",
              "      <td>5400.0</td>\n",
              "      <td>8</td>\n",
              "      <td>0</td>\n",
              "      <td>3</td>\n",
              "      <td>0</td>\n",
              "      <td>0.0</td>\n",
              "    </tr>\n",
              "  </tbody>\n",
              "</table>\n",
              "</div>"
            ],
            "text/plain": [
              "   Id  Score  ...  NumberOfTime60-89DaysPastDueNotWorse  NumberOfDependents\n",
              "1   2      1  ...                                     0                 1.0\n",
              "2   3      0  ...                                     0                 0.0\n",
              "3   4      2  ...                                     0                 0.0\n",
              "5   6      3  ...                                     0                 1.0\n",
              "6   7      3  ...                                     0                 0.0\n",
              "\n",
              "[5 rows x 12 columns]"
            ]
          },
          "metadata": {
            "tags": []
          },
          "execution_count": 25
        }
      ]
    },
    {
      "cell_type": "code",
      "metadata": {
        "id": "YHtGe5mq_QEK"
      },
      "source": [
        "# most_important_feature= find_most_important_attribute_names(datasetWithPredictedValuesForNA, n=1)\n",
        "# df_without_outliers_in_one_column=detect_and_remove_outliers_of_feature(datasetWithPredictedValuesForNA, column_name=most_important_feature,methodName=\"both\",threshold =5, lowPercent=5, upperPercent=95)\n",
        "# df_without_outliers_in_one_column.shape"
      ],
      "execution_count": 26,
      "outputs": []
    },
    {
      "cell_type": "code",
      "metadata": {
        "colab": {
          "base_uri": "https://localhost:8080/"
        },
        "id": "FAP1XEJDLd_o",
        "outputId": "e4862a57-b2f4-4024-99bf-ca8cb6c11bb1"
      },
      "source": [
        "print(\"shape before removing outliers \" + str(datasetWithPredictedValuesForNA.shape))\n",
        "print(\"shape after removing outliers \" +str(df_without_outliers.shape))\n"
      ],
      "execution_count": 27,
      "outputs": [
        {
          "output_type": "stream",
          "text": [
            "shape before removing outliers (150000, 12)\n",
            "shape after removing outliers (142250, 12)\n"
          ],
          "name": "stdout"
        }
      ]
    },
    {
      "cell_type": "markdown",
      "metadata": {
        "id": "xP6bSWY_SEOL"
      },
      "source": [
        "As you see below, it removed a lot of items that would have messed up a ML model trained on these values."
      ]
    },
    {
      "cell_type": "code",
      "metadata": {
        "colab": {
          "base_uri": "https://localhost:8080/",
          "height": 334
        },
        "id": "DYOVEM1gNnun",
        "outputId": "095e4577-93cb-407a-d822-e95725979ae7"
      },
      "source": [
        "# statistical measurements of originalDataset\n",
        "df_without_outliers.describe()"
      ],
      "execution_count": 28,
      "outputs": [
        {
          "output_type": "execute_result",
          "data": {
            "text/html": [
              "<div>\n",
              "<style scoped>\n",
              "    .dataframe tbody tr th:only-of-type {\n",
              "        vertical-align: middle;\n",
              "    }\n",
              "\n",
              "    .dataframe tbody tr th {\n",
              "        vertical-align: top;\n",
              "    }\n",
              "\n",
              "    .dataframe thead th {\n",
              "        text-align: right;\n",
              "    }\n",
              "</style>\n",
              "<table border=\"1\" class=\"dataframe\">\n",
              "  <thead>\n",
              "    <tr style=\"text-align: right;\">\n",
              "      <th></th>\n",
              "      <th>Id</th>\n",
              "      <th>Score</th>\n",
              "      <th>RevolvingUtilizationOfUnsecuredLines</th>\n",
              "      <th>age</th>\n",
              "      <th>NumberOfTime30-59DaysPastDueNotWorse</th>\n",
              "      <th>DebtRatio</th>\n",
              "      <th>MonthlyIncome</th>\n",
              "      <th>NumberOfOpenCreditLinesAndLoans</th>\n",
              "      <th>NumberOfTimes90DaysLate</th>\n",
              "      <th>NumberRealEstateLoansOrLines</th>\n",
              "      <th>NumberOfTime60-89DaysPastDueNotWorse</th>\n",
              "      <th>NumberOfDependents</th>\n",
              "    </tr>\n",
              "  </thead>\n",
              "  <tbody>\n",
              "    <tr>\n",
              "      <th>count</th>\n",
              "      <td>142250.000000</td>\n",
              "      <td>142250.000000</td>\n",
              "      <td>142250.000000</td>\n",
              "      <td>142250.000000</td>\n",
              "      <td>142250.000000</td>\n",
              "      <td>142250.000000</td>\n",
              "      <td>142250.000000</td>\n",
              "      <td>142250.000000</td>\n",
              "      <td>142250.000000</td>\n",
              "      <td>142250.000000</td>\n",
              "      <td>142250.000000</td>\n",
              "      <td>142250.000000</td>\n",
              "    </tr>\n",
              "    <tr>\n",
              "      <th>mean</th>\n",
              "      <td>74981.304478</td>\n",
              "      <td>2.131522</td>\n",
              "      <td>0.313547</td>\n",
              "      <td>52.351065</td>\n",
              "      <td>0.221097</td>\n",
              "      <td>297.877691</td>\n",
              "      <td>6016.232359</td>\n",
              "      <td>8.159241</td>\n",
              "      <td>0.054721</td>\n",
              "      <td>0.949849</td>\n",
              "      <td>0.049033</td>\n",
              "      <td>0.701336</td>\n",
              "    </tr>\n",
              "    <tr>\n",
              "      <th>std</th>\n",
              "      <td>43287.797371</td>\n",
              "      <td>0.944079</td>\n",
              "      <td>0.352537</td>\n",
              "      <td>14.860335</td>\n",
              "      <td>0.621522</td>\n",
              "      <td>858.817049</td>\n",
              "      <td>3680.932527</td>\n",
              "      <td>4.591746</td>\n",
              "      <td>0.268094</td>\n",
              "      <td>0.931628</td>\n",
              "      <td>0.244490</td>\n",
              "      <td>1.036838</td>\n",
              "    </tr>\n",
              "    <tr>\n",
              "      <th>min</th>\n",
              "      <td>2.000000</td>\n",
              "      <td>0.000000</td>\n",
              "      <td>0.000000</td>\n",
              "      <td>21.000000</td>\n",
              "      <td>0.000000</td>\n",
              "      <td>0.000000</td>\n",
              "      <td>0.000000</td>\n",
              "      <td>0.000000</td>\n",
              "      <td>0.000000</td>\n",
              "      <td>0.000000</td>\n",
              "      <td>0.000000</td>\n",
              "      <td>0.000000</td>\n",
              "    </tr>\n",
              "    <tr>\n",
              "      <th>25%</th>\n",
              "      <td>37492.250000</td>\n",
              "      <td>2.000000</td>\n",
              "      <td>0.028684</td>\n",
              "      <td>41.000000</td>\n",
              "      <td>0.000000</td>\n",
              "      <td>0.173177</td>\n",
              "      <td>3850.000000</td>\n",
              "      <td>5.000000</td>\n",
              "      <td>0.000000</td>\n",
              "      <td>0.000000</td>\n",
              "      <td>0.000000</td>\n",
              "      <td>0.000000</td>\n",
              "    </tr>\n",
              "    <tr>\n",
              "      <th>50%</th>\n",
              "      <td>75009.000000</td>\n",
              "      <td>2.000000</td>\n",
              "      <td>0.146055</td>\n",
              "      <td>52.000000</td>\n",
              "      <td>0.000000</td>\n",
              "      <td>0.362061</td>\n",
              "      <td>5400.000000</td>\n",
              "      <td>8.000000</td>\n",
              "      <td>0.000000</td>\n",
              "      <td>1.000000</td>\n",
              "      <td>0.000000</td>\n",
              "      <td>0.000000</td>\n",
              "    </tr>\n",
              "    <tr>\n",
              "      <th>75%</th>\n",
              "      <td>112436.750000</td>\n",
              "      <td>3.000000</td>\n",
              "      <td>0.537342</td>\n",
              "      <td>63.000000</td>\n",
              "      <td>0.000000</td>\n",
              "      <td>0.848208</td>\n",
              "      <td>7200.000000</td>\n",
              "      <td>11.000000</td>\n",
              "      <td>0.000000</td>\n",
              "      <td>2.000000</td>\n",
              "      <td>0.000000</td>\n",
              "      <td>1.000000</td>\n",
              "    </tr>\n",
              "    <tr>\n",
              "      <th>max</th>\n",
              "      <td>150000.000000</td>\n",
              "      <td>3.000000</td>\n",
              "      <td>2.494658</td>\n",
              "      <td>96.000000</td>\n",
              "      <td>5.000000</td>\n",
              "      <td>6117.000000</td>\n",
              "      <td>31500.000000</td>\n",
              "      <td>23.000000</td>\n",
              "      <td>2.000000</td>\n",
              "      <td>4.000000</td>\n",
              "      <td>2.000000</td>\n",
              "      <td>4.000000</td>\n",
              "    </tr>\n",
              "  </tbody>\n",
              "</table>\n",
              "</div>"
            ],
            "text/plain": [
              "                  Id  ...  NumberOfDependents\n",
              "count  142250.000000  ...       142250.000000\n",
              "mean    74981.304478  ...            0.701336\n",
              "std     43287.797371  ...            1.036838\n",
              "min         2.000000  ...            0.000000\n",
              "25%     37492.250000  ...            0.000000\n",
              "50%     75009.000000  ...            0.000000\n",
              "75%    112436.750000  ...            1.000000\n",
              "max    150000.000000  ...            4.000000\n",
              "\n",
              "[8 rows x 12 columns]"
            ]
          },
          "metadata": {
            "tags": []
          },
          "execution_count": 28
        }
      ]
    },
    {
      "cell_type": "markdown",
      "metadata": {
        "id": "wyOSxJnW95vF"
      },
      "source": [
        "###Lets see the final count of each unique category"
      ]
    },
    {
      "cell_type": "code",
      "metadata": {
        "colab": {
          "base_uri": "https://localhost:8080/"
        },
        "id": "0j5R_A9oNtrp",
        "outputId": "2999d9a1-8e52-4624-e3ed-43ab9136749a"
      },
      "source": [
        "#show how many items of each \"score\" class there are in the dataset.\n",
        "print(df_without_outliers.groupby('Score').size())"
      ],
      "execution_count": 29,
      "outputs": [
        {
          "output_type": "stream",
          "text": [
            "Score\n",
            "0    10782\n",
            "1    22922\n",
            "2    45351\n",
            "3    63195\n",
            "dtype: int64\n"
          ],
          "name": "stdout"
        }
      ]
    },
    {
      "cell_type": "code",
      "metadata": {
        "id": "ln0Koiv-SJAD"
      },
      "source": [
        "# getResultsOfCurrentDataframe(df_without_outliers,targetFeature= targetFeature, max_iterations=25)"
      ],
      "execution_count": 30,
      "outputs": []
    },
    {
      "cell_type": "markdown",
      "metadata": {
        "id": "jnigAtBknaXz"
      },
      "source": [
        "## As you see it increased a bit again!"
      ]
    },
    {
      "cell_type": "markdown",
      "metadata": {
        "id": "H_z-lTjocH49"
      },
      "source": [
        "# Section 2: Learn more about the Data\n"
      ]
    },
    {
      "cell_type": "code",
      "metadata": {
        "colab": {
          "base_uri": "https://localhost:8080/",
          "height": 334
        },
        "id": "P9QV2ZCae_Cn",
        "outputId": "135e7601-da7c-4ae1-a613-099ecc4f2e4c"
      },
      "source": [
        "# statistical measurements of originalDataset\n",
        "DataframeWithoutNA.describe()"
      ],
      "execution_count": 31,
      "outputs": [
        {
          "output_type": "execute_result",
          "data": {
            "text/html": [
              "<div>\n",
              "<style scoped>\n",
              "    .dataframe tbody tr th:only-of-type {\n",
              "        vertical-align: middle;\n",
              "    }\n",
              "\n",
              "    .dataframe tbody tr th {\n",
              "        vertical-align: top;\n",
              "    }\n",
              "\n",
              "    .dataframe thead th {\n",
              "        text-align: right;\n",
              "    }\n",
              "</style>\n",
              "<table border=\"1\" class=\"dataframe\">\n",
              "  <thead>\n",
              "    <tr style=\"text-align: right;\">\n",
              "      <th></th>\n",
              "      <th>Id</th>\n",
              "      <th>Score</th>\n",
              "      <th>RevolvingUtilizationOfUnsecuredLines</th>\n",
              "      <th>age</th>\n",
              "      <th>NumberOfTime30-59DaysPastDueNotWorse</th>\n",
              "      <th>DebtRatio</th>\n",
              "      <th>MonthlyIncome</th>\n",
              "      <th>NumberOfOpenCreditLinesAndLoans</th>\n",
              "      <th>NumberOfTimes90DaysLate</th>\n",
              "      <th>NumberRealEstateLoansOrLines</th>\n",
              "      <th>NumberOfTime60-89DaysPastDueNotWorse</th>\n",
              "      <th>NumberOfDependents</th>\n",
              "    </tr>\n",
              "  </thead>\n",
              "  <tbody>\n",
              "    <tr>\n",
              "      <th>count</th>\n",
              "      <td>150000.000000</td>\n",
              "      <td>150000.000000</td>\n",
              "      <td>150000.000000</td>\n",
              "      <td>150000.000000</td>\n",
              "      <td>150000.000000</td>\n",
              "      <td>150000.000000</td>\n",
              "      <td>1.500000e+05</td>\n",
              "      <td>150000.000000</td>\n",
              "      <td>150000.000000</td>\n",
              "      <td>150000.000000</td>\n",
              "      <td>150000.000000</td>\n",
              "      <td>150000.000000</td>\n",
              "    </tr>\n",
              "    <tr>\n",
              "      <th>mean</th>\n",
              "      <td>75000.500000</td>\n",
              "      <td>2.092927</td>\n",
              "      <td>6.048438</td>\n",
              "      <td>52.295207</td>\n",
              "      <td>0.421033</td>\n",
              "      <td>353.005076</td>\n",
              "      <td>6.418455e+03</td>\n",
              "      <td>8.452760</td>\n",
              "      <td>0.265973</td>\n",
              "      <td>1.018240</td>\n",
              "      <td>0.240387</td>\n",
              "      <td>0.737413</td>\n",
              "    </tr>\n",
              "    <tr>\n",
              "      <th>std</th>\n",
              "      <td>43301.414527</td>\n",
              "      <td>0.969421</td>\n",
              "      <td>249.755371</td>\n",
              "      <td>14.771866</td>\n",
              "      <td>4.192781</td>\n",
              "      <td>2037.818523</td>\n",
              "      <td>1.289040e+04</td>\n",
              "      <td>5.145951</td>\n",
              "      <td>4.169304</td>\n",
              "      <td>1.129771</td>\n",
              "      <td>4.155179</td>\n",
              "      <td>1.107021</td>\n",
              "    </tr>\n",
              "    <tr>\n",
              "      <th>min</th>\n",
              "      <td>1.000000</td>\n",
              "      <td>0.000000</td>\n",
              "      <td>0.000000</td>\n",
              "      <td>0.000000</td>\n",
              "      <td>0.000000</td>\n",
              "      <td>0.000000</td>\n",
              "      <td>0.000000e+00</td>\n",
              "      <td>0.000000</td>\n",
              "      <td>0.000000</td>\n",
              "      <td>0.000000</td>\n",
              "      <td>0.000000</td>\n",
              "      <td>0.000000</td>\n",
              "    </tr>\n",
              "    <tr>\n",
              "      <th>25%</th>\n",
              "      <td>37500.750000</td>\n",
              "      <td>2.000000</td>\n",
              "      <td>0.029867</td>\n",
              "      <td>41.000000</td>\n",
              "      <td>0.000000</td>\n",
              "      <td>0.175074</td>\n",
              "      <td>3.903000e+03</td>\n",
              "      <td>5.000000</td>\n",
              "      <td>0.000000</td>\n",
              "      <td>0.000000</td>\n",
              "      <td>0.000000</td>\n",
              "      <td>0.000000</td>\n",
              "    </tr>\n",
              "    <tr>\n",
              "      <th>50%</th>\n",
              "      <td>75000.500000</td>\n",
              "      <td>2.000000</td>\n",
              "      <td>0.154181</td>\n",
              "      <td>52.000000</td>\n",
              "      <td>0.000000</td>\n",
              "      <td>0.366508</td>\n",
              "      <td>5.400000e+03</td>\n",
              "      <td>8.000000</td>\n",
              "      <td>0.000000</td>\n",
              "      <td>1.000000</td>\n",
              "      <td>0.000000</td>\n",
              "      <td>0.000000</td>\n",
              "    </tr>\n",
              "    <tr>\n",
              "      <th>75%</th>\n",
              "      <td>112500.250000</td>\n",
              "      <td>3.000000</td>\n",
              "      <td>0.559046</td>\n",
              "      <td>63.000000</td>\n",
              "      <td>0.000000</td>\n",
              "      <td>0.868254</td>\n",
              "      <td>7.400000e+03</td>\n",
              "      <td>11.000000</td>\n",
              "      <td>0.000000</td>\n",
              "      <td>2.000000</td>\n",
              "      <td>0.000000</td>\n",
              "      <td>1.000000</td>\n",
              "    </tr>\n",
              "    <tr>\n",
              "      <th>max</th>\n",
              "      <td>150000.000000</td>\n",
              "      <td>3.000000</td>\n",
              "      <td>50708.000000</td>\n",
              "      <td>109.000000</td>\n",
              "      <td>98.000000</td>\n",
              "      <td>329664.000000</td>\n",
              "      <td>3.008750e+06</td>\n",
              "      <td>58.000000</td>\n",
              "      <td>98.000000</td>\n",
              "      <td>54.000000</td>\n",
              "      <td>98.000000</td>\n",
              "      <td>20.000000</td>\n",
              "    </tr>\n",
              "  </tbody>\n",
              "</table>\n",
              "</div>"
            ],
            "text/plain": [
              "                  Id  ...  NumberOfDependents\n",
              "count  150000.000000  ...       150000.000000\n",
              "mean    75000.500000  ...            0.737413\n",
              "std     43301.414527  ...            1.107021\n",
              "min         1.000000  ...            0.000000\n",
              "25%     37500.750000  ...            0.000000\n",
              "50%     75000.500000  ...            0.000000\n",
              "75%    112500.250000  ...            1.000000\n",
              "max    150000.000000  ...           20.000000\n",
              "\n",
              "[8 rows x 12 columns]"
            ]
          },
          "metadata": {
            "tags": []
          },
          "execution_count": 31
        }
      ]
    },
    {
      "cell_type": "markdown",
      "metadata": {
        "id": "W5pJ5s3FpRC7"
      },
      "source": [
        "### The description of the data above offers some really interesting insight. We can see that there are some features that have similar mean and median. Furthermore we see than those features also have almost the same distance from 25% to the median and the Median to 75%. \n",
        "### These leads us to believe that those features probably (spoilers: some do not) follow normal distribution which is very promising because we know this will help our models prediction. \n",
        "\n",
        "### These features are:\n",
        "####    1. age\n",
        "####    2. NumberOfOpenCreditLinesAndLoans\n",
        "####    3. NumberRealEstateLoansOrLines\n",
        "\n",
        "\n"
      ]
    },
    {
      "cell_type": "markdown",
      "metadata": {
        "id": "orpgDpHxcAQN"
      },
      "source": [
        "### Lets Visualize the Data so we can learn more about it as well as descover some hidden patterns \n",
        "### There are two types of plots:\n",
        "\n",
        "#### 1) Univariate plots to better understand each feature (statistics/distribution)\n",
        "\n",
        "#### 2) Multivariate plots to better understand the relationships between features\n",
        "\n",
        "We start our Visualization with some multivariables plots to understand "
      ]
    },
    {
      "cell_type": "code",
      "metadata": {
        "id": "QBZrm40nvYCY"
      },
      "source": [
        "# sizeOfSampleFromEachClass=min(oringinalDataset.groupby('Score').size())\n",
        "# stradifiedSampleDF=oringinalDataset.groupby(targetFeature, group_keys=False).apply(lambda x: x.sample(min(len(x), sizeOfSampleFromEachClass)))\n",
        "# print(stradifiedSampleDF.groupby(targetFeature).size())\n",
        "stradifiedSampleDF=oringinalDataset"
      ],
      "execution_count": 32,
      "outputs": []
    },
    {
      "cell_type": "markdown",
      "metadata": {
        "id": "i0VicZ1QfC2E"
      },
      "source": [
        "Our first Visualization is Andrews Curves. \n",
        "\n",
        "Andrews Curves plot is a useful tool for separating multivariate observation into groups that can not easily be distinguished in a tabular presentation\n"
      ]
    },
    {
      "cell_type": "code",
      "metadata": {
        "id": "HGwOi6lyAnSU"
      },
      "source": [
        "def plot_andrews_curves(Datagrame, targetFeature):\n",
        "  colors = (\"purple\",\"blue\",\"red\",\"green\")\n",
        "  df=Datagrame.copy()\n",
        "  df=setNAValuesInDataframeToMedian(df)\n",
        "  columns=list(find_most_important_attribute_names(df, len(df.columns)-3 ));\n",
        "  columns.append(targetFeature)\n",
        "  print(columns)\n",
        "  df = df[columns]\n",
        "  pdplt.andrews_curves(df, targetFeature,color=colors)\n",
        "  plt.show()\n"
      ],
      "execution_count": 33,
      "outputs": []
    },
    {
      "cell_type": "code",
      "metadata": {
        "colab": {
          "base_uri": "https://localhost:8080/",
          "height": 1000
        },
        "id": "bnBcTHy540hw",
        "outputId": "93f81328-df85-40d0-f13d-d0800c32cb26"
      },
      "source": [
        "plot_andrews_curves(stradifiedSampleDF, targetFeature=targetFeature)"
      ],
      "execution_count": 34,
      "outputs": [
        {
          "output_type": "stream",
          "text": [
            "initially\n",
            "   RevolvingUtilizationOfUnsecuredLines  age  ...  NumberOfDependents  Score\n",
            "0                              0.766127   45  ...                 2.0      0\n",
            "1                              0.957151   40  ...                 1.0      1\n",
            "2                              0.658180   38  ...                 0.0      0\n",
            "3                              0.233810   30  ...                 0.0      2\n",
            "4                              0.907239   49  ...                 0.0      0\n",
            "5                              0.213179   74  ...                 1.0      3\n",
            "6                              0.305682   57  ...                 0.0      3\n",
            "7                              0.754464   39  ...                 0.0      1\n",
            "8                              0.116951   27  ...                 0.0      2\n",
            "9                              0.189169   57  ...                 2.0      2\n",
            "\n",
            "[10 rows x 11 columns]\n"
          ],
          "name": "stdout"
        },
        {
          "output_type": "stream",
          "text": [
            "[Parallel(n_jobs=1)]: Using backend SequentialBackend with 1 concurrent workers.\n",
            "[Parallel(n_jobs=1)]: Done   1 out of   1 | elapsed:    0.3s remaining:    0.0s\n",
            "[Parallel(n_jobs=1)]: Done  10 out of  10 | elapsed:    2.5s finished\n",
            "\n",
            "[2021-07-29 15:59:15] Features: 1/10 -- score: 0.49192[Parallel(n_jobs=1)]: Using backend SequentialBackend with 1 concurrent workers.\n",
            "[Parallel(n_jobs=1)]: Done   1 out of   1 | elapsed:    0.5s remaining:    0.0s\n",
            "[Parallel(n_jobs=1)]: Done   9 out of   9 | elapsed:    4.1s finished\n",
            "\n",
            "[2021-07-29 15:59:19] Features: 2/10 -- score: 0.5112399999999999[Parallel(n_jobs=1)]: Using backend SequentialBackend with 1 concurrent workers.\n",
            "[Parallel(n_jobs=1)]: Done   1 out of   1 | elapsed:    0.5s remaining:    0.0s\n",
            "[Parallel(n_jobs=1)]: Done   8 out of   8 | elapsed:    4.0s finished\n",
            "\n",
            "[2021-07-29 15:59:23] Features: 3/10 -- score: 0.5181000000000001[Parallel(n_jobs=1)]: Using backend SequentialBackend with 1 concurrent workers.\n",
            "[Parallel(n_jobs=1)]: Done   1 out of   1 | elapsed:    0.5s remaining:    0.0s\n",
            "[Parallel(n_jobs=1)]: Done   7 out of   7 | elapsed:    3.6s finished\n",
            "\n",
            "[2021-07-29 15:59:27] Features: 4/10 -- score: 0.5220666666666667[Parallel(n_jobs=1)]: Using backend SequentialBackend with 1 concurrent workers.\n",
            "[Parallel(n_jobs=1)]: Done   1 out of   1 | elapsed:    0.6s remaining:    0.0s\n",
            "[Parallel(n_jobs=1)]: Done   6 out of   6 | elapsed:    3.4s finished\n",
            "\n",
            "[2021-07-29 15:59:30] Features: 5/10 -- score: 0.52288[Parallel(n_jobs=1)]: Using backend SequentialBackend with 1 concurrent workers.\n",
            "[Parallel(n_jobs=1)]: Done   1 out of   1 | elapsed:    0.6s remaining:    0.0s\n",
            "[Parallel(n_jobs=1)]: Done   5 out of   5 | elapsed:    2.9s finished\n",
            "\n",
            "[2021-07-29 15:59:33] Features: 6/10 -- score: 0.52668[Parallel(n_jobs=1)]: Using backend SequentialBackend with 1 concurrent workers.\n",
            "[Parallel(n_jobs=1)]: Done   1 out of   1 | elapsed:    0.6s remaining:    0.0s\n",
            "[Parallel(n_jobs=1)]: Done   4 out of   4 | elapsed:    2.5s finished\n",
            "\n",
            "[2021-07-29 15:59:36] Features: 7/10 -- score: 0.5274066666666666[Parallel(n_jobs=1)]: Using backend SequentialBackend with 1 concurrent workers.\n",
            "[Parallel(n_jobs=1)]: Done   1 out of   1 | elapsed:    0.7s remaining:    0.0s\n",
            "[Parallel(n_jobs=1)]: Done   3 out of   3 | elapsed:    1.9s finished\n",
            "\n",
            "[2021-07-29 15:59:38] Features: 8/10 -- score: 0.5278266666666666[Parallel(n_jobs=1)]: Using backend SequentialBackend with 1 concurrent workers.\n",
            "[Parallel(n_jobs=1)]: Done   1 out of   1 | elapsed:    0.7s remaining:    0.0s\n",
            "[Parallel(n_jobs=1)]: Done   2 out of   2 | elapsed:    1.3s finished\n",
            "\n",
            "[2021-07-29 15:59:39] Features: 9/10 -- score: 0.52802[Parallel(n_jobs=1)]: Using backend SequentialBackend with 1 concurrent workers.\n",
            "[Parallel(n_jobs=1)]: Done   1 out of   1 | elapsed:    0.7s remaining:    0.0s\n",
            "[Parallel(n_jobs=1)]: Done   1 out of   1 | elapsed:    0.7s finished\n",
            "\n",
            "[2021-07-29 15:59:40] Features: 10/10 -- score: 0.51988"
          ],
          "name": "stderr"
        },
        {
          "output_type": "stream",
          "text": [
            "   RevolvingUtilizationOfUnsecuredLines  age  ...  NumberOfDependents  Score\n",
            "0                              0.766127   45  ...                 2.0      0\n",
            "1                              0.957151   40  ...                 1.0      1\n",
            "2                              0.658180   38  ...                 0.0      0\n",
            "3                              0.233810   30  ...                 0.0      2\n",
            "4                              0.907239   49  ...                 0.0      0\n",
            "5                              0.213179   74  ...                 1.0      3\n",
            "6                              0.305682   57  ...                 0.0      3\n",
            "7                              0.754464   39  ...                 0.0      1\n",
            "8                              0.116951   27  ...                 0.0      2\n",
            "9                              0.189169   57  ...                 2.0      2\n",
            "\n",
            "[10 rows x 11 columns]\n",
            "   RevolvingUtilizationOfUnsecuredLines  age  ...  NumberOfDependents  Score\n",
            "0                              0.766127   45  ...                 2.0      0\n",
            "1                              0.957151   40  ...                 1.0      1\n",
            "2                              0.658180   38  ...                 0.0      0\n",
            "3                              0.233810   30  ...                 0.0      2\n",
            "4                              0.907239   49  ...                 0.0      0\n",
            "5                              0.213179   74  ...                 1.0      3\n",
            "6                              0.305682   57  ...                 0.0      3\n",
            "7                              0.754464   39  ...                 0.0      1\n",
            "8                              0.116951   27  ...                 0.0      2\n",
            "9                              0.189169   57  ...                 2.0      2\n",
            "\n",
            "[10 rows x 11 columns]\n",
            "['RevolvingUtilizationOfUnsecuredLines', 'age', 'NumberOfTime30-59DaysPastDueNotWorse', 'DebtRatio', 'MonthlyIncome', 'NumberOfOpenCreditLinesAndLoans', 'NumberOfTimes90DaysLate', 'NumberRealEstateLoansOrLines', 'NumberOfTime60-89DaysPastDueNotWorse', 'Score']\n"
          ],
          "name": "stdout"
        },
        {
          "output_type": "display_data",
          "data": {
            "image/png": "[encoded data removed]",
            "text/plain": [
              "<Figure size 432x288 with 1 Axes>"
            ]
          },
          "metadata": {
            "tags": [],
            "needs_background": "light"
          }
        }
      ]
    },
    {
      "cell_type": "markdown",
      "metadata": {
        "id": "akZBgn5u7SkU"
      },
      "source": [
        "To use Andrew Curves we first format out dataframe by sorting the features in order of importance and then plot them. we used backward selection to do this. \n",
        "\n",
        "Each line in the plot is an entry in the stratified Sample and its color is its value in the Score Feature. \n",
        "\n",
        "The plot seems to suggest that there is some structure to this dataset.\n",
        "\n",
        "It seems categories, Score = 2 and 3 have very little distinction between their entries. This means that The ML models will probably find it hard to distinquish the entries between the two, so it is likely that there will be some false positives and false negatives. \n",
        "\n",
        "It seems like entries with Score=1 has the most distinct curves from the rest of the categories. This probably means that it will be easier for the ML models to categorize entries with Score=1 and harder to distingish the rest of the  categories\n",
        "\n",
        "\n",
        "\n",
        "Parallel coordinates plot is a useful tool for checking  if observations are distinguishable on the basis of a given feature\n",
        "\n",
        "The parallel coordinates block allows to see clusters in data and to estimate other statistics visually. Each multivariate observation is represented (in parallel) by connected line segments\n",
        "\n",
        "Each vertical line represents one feature and the points that tend to cluster will appear closer together. If there is a clear distinction between the colors in one feture then it is enough to use that feature to have the classification. \n",
        "\n",
        "Each line in the plot is an entry in the stratified Sample and its color is its value in the Score Feature. \n",
        "\n",
        "\n",
        "\n",
        "\n"
      ]
    },
    {
      "cell_type": "code",
      "metadata": {
        "id": "-lUgFpayAnUz"
      },
      "source": [
        "def plot_parallel_coordinates(Datagrame, targetFeature, maxFeatures):\n",
        "  colors = (\"purple\",\"blue\",\"red\",\"green\")\n",
        "  df=Datagrame.copy()\n",
        "  columns=list(find_most_important_attribute_names(df, maxFeatures ));\n",
        "  columns.append(targetFeature)\n",
        "  print(columns)\n",
        "  df = df[columns]\n",
        "  pdplt.parallel_coordinates(df, targetFeature,color=colors)\n",
        "  plt.show()\n",
        "\n"
      ],
      "execution_count": 35,
      "outputs": []
    },
    {
      "cell_type": "code",
      "metadata": {
        "colab": {
          "base_uri": "https://localhost:8080/",
          "height": 1000
        },
        "id": "5I-ePVBY_Cdr",
        "outputId": "4e571a0d-7a04-46c8-fc6d-7dae855b2528"
      },
      "source": [
        "# if there is a feature where the lines of the same color seperate from the rest colors\n",
        "# then that feature will be very usefull to distinguish that class from the others.\n",
        "\n",
        "plot_parallel_coordinates(stradifiedSampleDF, targetFeature=targetFeature, maxFeatures=4)"
      ],
      "execution_count": 36,
      "outputs": [
        {
          "output_type": "stream",
          "text": [
            "initially\n",
            "   RevolvingUtilizationOfUnsecuredLines  age  ...  NumberOfDependents  Score\n",
            "0                              0.766127   45  ...                 2.0      0\n",
            "1                              0.957151   40  ...                 1.0      1\n",
            "2                              0.658180   38  ...                 0.0      0\n",
            "3                              0.233810   30  ...                 0.0      2\n",
            "4                              0.907239   49  ...                 0.0      0\n",
            "5                              0.213179   74  ...                 1.0      3\n",
            "6                              0.305682   57  ...                 0.0      3\n",
            "7                              0.754464   39  ...                 0.0      1\n",
            "8                              0.116951   27  ...                 0.0      2\n",
            "9                              0.189169   57  ...                 2.0      2\n",
            "\n",
            "[10 rows x 11 columns]\n"
          ],
          "name": "stdout"
        },
        {
          "output_type": "stream",
          "text": [
            "[Parallel(n_jobs=1)]: Using backend SequentialBackend with 1 concurrent workers.\n",
            "[Parallel(n_jobs=1)]: Done   1 out of   1 | elapsed:    0.3s remaining:    0.0s\n",
            "[Parallel(n_jobs=1)]: Done  10 out of  10 | elapsed:    2.5s finished\n",
            "\n",
            "[2021-07-29 16:04:09] Features: 1/5 -- score: 0.49192[Parallel(n_jobs=1)]: Using backend SequentialBackend with 1 concurrent workers.\n",
            "[Parallel(n_jobs=1)]: Done   1 out of   1 | elapsed:    0.5s remaining:    0.0s\n",
            "[Parallel(n_jobs=1)]: Done   9 out of   9 | elapsed:    4.1s finished\n",
            "\n",
            "[2021-07-29 16:04:14] Features: 2/5 -- score: 0.5112399999999999[Parallel(n_jobs=1)]: Using backend SequentialBackend with 1 concurrent workers.\n",
            "[Parallel(n_jobs=1)]: Done   1 out of   1 | elapsed:    0.5s remaining:    0.0s\n",
            "[Parallel(n_jobs=1)]: Done   8 out of   8 | elapsed:    4.0s finished\n",
            "\n",
            "[2021-07-29 16:04:18] Features: 3/5 -- score: 0.5181000000000001[Parallel(n_jobs=1)]: Using backend SequentialBackend with 1 concurrent workers.\n",
            "[Parallel(n_jobs=1)]: Done   1 out of   1 | elapsed:    0.5s remaining:    0.0s\n",
            "[Parallel(n_jobs=1)]: Done   7 out of   7 | elapsed:    3.6s finished\n",
            "\n",
            "[2021-07-29 16:04:21] Features: 4/5 -- score: 0.5220666666666667[Parallel(n_jobs=1)]: Using backend SequentialBackend with 1 concurrent workers.\n",
            "[Parallel(n_jobs=1)]: Done   1 out of   1 | elapsed:    0.6s remaining:    0.0s\n",
            "[Parallel(n_jobs=1)]: Done   6 out of   6 | elapsed:    3.3s finished\n",
            "\n",
            "[2021-07-29 16:04:24] Features: 5/5 -- score: 0.52288"
          ],
          "name": "stderr"
        },
        {
          "output_type": "stream",
          "text": [
            "   RevolvingUtilizationOfUnsecuredLines  age  ...  NumberOfDependents  Score\n",
            "0                              0.766127   45  ...                 2.0      0\n",
            "1                              0.957151   40  ...                 1.0      1\n",
            "2                              0.658180   38  ...                 0.0      0\n",
            "3                              0.233810   30  ...                 0.0      2\n",
            "4                              0.907239   49  ...                 0.0      0\n",
            "5                              0.213179   74  ...                 1.0      3\n",
            "6                              0.305682   57  ...                 0.0      3\n",
            "7                              0.754464   39  ...                 0.0      1\n",
            "8                              0.116951   27  ...                 0.0      2\n",
            "9                              0.189169   57  ...                 2.0      2\n",
            "\n",
            "[10 rows x 11 columns]\n",
            "   RevolvingUtilizationOfUnsecuredLines  age  ...  NumberOfDependents  Score\n",
            "0                              0.766127   45  ...                 2.0      0\n",
            "1                              0.957151   40  ...                 1.0      1\n",
            "2                              0.658180   38  ...                 0.0      0\n",
            "3                              0.233810   30  ...                 0.0      2\n",
            "4                              0.907239   49  ...                 0.0      0\n",
            "5                              0.213179   74  ...                 1.0      3\n",
            "6                              0.305682   57  ...                 0.0      3\n",
            "7                              0.754464   39  ...                 0.0      1\n",
            "8                              0.116951   27  ...                 0.0      2\n",
            "9                              0.189169   57  ...                 2.0      2\n",
            "\n",
            "[10 rows x 11 columns]\n",
            "['RevolvingUtilizationOfUnsecuredLines', 'age', 'NumberOfTime30-59DaysPastDueNotWorse', 'DebtRatio', 'Score']\n"
          ],
          "name": "stdout"
        },
        {
          "output_type": "display_data",
          "data": {
            "image/png": "[encoded data removed]",
            "text/plain": [
              "<Figure size 432x288 with 1 Axes>"
            ]
          },
          "metadata": {
            "tags": [],
            "needs_background": "light"
          }
        }
      ]
    },
    {
      "cell_type": "markdown",
      "metadata": {
        "id": "EeztncTXD5jx"
      },
      "source": [
        "We can see that there is a not feature where the lines of of the same color, are seperate from the rest so there is no one feature alone that can distinquish the categories. \n",
        "\n",
        "However It seems that RevolvingUtilizationOfsecuredLines and DebtRatio are  great indicators as to what category an entry might be in because of how more distinct those color are there."
      ]
    },
    {
      "cell_type": "markdown",
      "metadata": {
        "id": "RxRqFek0vMf1"
      },
      "source": [
        "##Some functions for visualization"
      ]
    },
    {
      "cell_type": "code",
      "metadata": {
        "id": "hKm5_9hyAnXN"
      },
      "source": [
        "from matplotlib import cm as cm\n",
        "\n",
        "#checked\n",
        "def make_heatmap_with_correlations(df,limit=10):\n",
        "    #get correlations of each features in dataset\n",
        "    corrmat = get_linear_correlations(df, interested_columns=[],sort_column_name=targetFeature) \n",
        "    num=0\n",
        "    if(\"Id\"in df.columns):\n",
        "        num=num+1\n",
        "    if(\"Score\"in df.columns):\n",
        "        num=num+1\n",
        "    if(limit>=len(df.columns)-num):\n",
        "        most_important_features=df.columns\n",
        "    else:\n",
        "        most_important_features=find_most_important_attribute_names(df,n=limit)\n",
        "    plt.figure()\n",
        "\n",
        "    #plot heat map\n",
        "    corr=df[most_important_features].corr(method='pearson')\n",
        "    cmap = cm.get_cmap('jet', 30)\n",
        "    _, ax = plt.subplots( figsize = ( 12 , 10 ) )\n",
        "    g=sns.heatmap(corr, cmap = cmap, square=True, cbar_kws={\n",
        "                  'shrink' : .9 }, ax=ax, annot = True, annot_kws = {\n",
        "                  'fontsize' : 12 }, xticklabels=corr.columns,\n",
        "                  yticklabels=most_important_features)\n",
        "\n",
        "\n",
        "    \n",
        "def create_column_chart_all_columns(df,limit=10):\n",
        "    num=0\n",
        "    if(\"Id\"in df.columns):\n",
        "        num=num+1\n",
        "    if(\"Score\"in df.columns):\n",
        "        num=num+1\n",
        "    if(limit>=len(df.columns)-num):\n",
        "        most_important_features=df.columns\n",
        "    else:\n",
        "        most_important_features=find_most_important_attribute_names(df,n=limit)\n",
        "    temp=df[most_important_features]\n",
        "    temp.plot.bar( align='center', alpha=0.5)\n",
        "\n",
        "\n",
        "# def create_column_chart_2_columns(df, x_aksonas_column_name, y_aksonas_column_name):\n",
        "#     plt.bar(df[x_aksonas_column_name], df[y_aksonas_column_name])\n",
        "#     plt.xlabel(x_aksonas_column_name)\n",
        "#     plt.ylabel(y_aksonas_column_name)\n",
        "#     plt.show()\n",
        "    \n",
        "\n",
        "# def create_pie_chart(df, column_name,shadow=True,radius =1,\n",
        "#                 labeldistance=1.1,pctdistance =0.6 ):\n",
        "#     plt.pie(df[column_name],\n",
        "#     autopct ='% 1.1f %%', shadow = shadow,radius =radius,\n",
        "#            labeldistance =labeldistance,pctdistance =pctdistance  )\n",
        "#     plt.show()\n",
        "\n",
        "\n",
        "# def create_scatter_plot(df, x_aksonas_column_name, y_aksonas_column_name):\n",
        "#     # scatter plot between income and age\n",
        "#     plt.scatter(df[x_aksonas_column_name], df[y_aksonas_column_name])\n",
        "#     plt.show()\n",
        "\n",
        "# #option to\n",
        "# # makes it much easier to visualize the places alpha\n",
        "# # 0.1where there is a high density of data points\n",
        "# def create_classsic_plot(column_x, column_y, column_name_x=\"x-axis\",\n",
        "#                          column_name_y=\"y-axis\", scatter=False, alpha=None):\n",
        "#     plt.xlabel(column_name_x)\n",
        "#     plt.ylabel(column_name_y)\n",
        "#     if (scatter == True):\n",
        "#         plt.scatter(column_x, column_y,alpha=alpha)\n",
        "#     else:\n",
        "#         plt.plot(column_x, column_y,alpha=alpha)\n",
        "\n",
        "        \n",
        "# def create_scatter_plot_for_df(df,column_x_name, column_y_name,  alpha=None):\n",
        "#     df.plot(kind=\"scatter\", x=column_x_name, y=column_y_name, alpha=alpha)\n",
        "\n",
        "# # The radius of each circle represents the value of radius_column(option s),\n",
        "# # and the color represents the color_column (option c).\n",
        "# # We will use a predefined color map (option cmap) called jet, which ranges from blue\n",
        "# # (low values) to red (high prices)\n",
        "# def advance_plot(df,column_x_name, column_y_name, radius_column_name,\n",
        "#                          color_column, alpha=None):\n",
        "#     df.plot(kind=\"scatter\", x=column_x_name, y=column_y_name, alpha=alpha,\n",
        "#                  s=df[radius_column_name], label=radius_column_name,\n",
        "#                  c=color_column, cmap=plt.get_cmap(\"jet\"), colorbar=True,\n",
        "#                  )\n",
        "#     plt.legend()\n",
        "\n",
        "\n",
        "\n",
        "def make_scatter_plot_with_grouped_attributes(df,target_column_name, limit=10):\n",
        "  categories= np.unique(df[target_column_name])\n",
        "  y_column_name= targetFeature;\n",
        "  num=0\n",
        "  if(\"Id\"in df.columns):\n",
        "      num=num+1\n",
        "  if(\"Score\"in df.columns):\n",
        "      num=num+1\n",
        "  if(limit>=len(df.columns)-num):\n",
        "      most_important_features=df.columns\n",
        "  else:\n",
        "      most_important_features=find_most_important_attribute_names(df,n=limit)\n",
        "  for feature1 in most_important_features:\n",
        "    for feature2 in most_important_features:\n",
        "      if(feature1==feature2):\n",
        "        continue\n",
        "      create_color_category_depended_plot(df, feature1,feature2,categories,target_column_name)\n",
        "\n",
        "\n",
        "\n",
        "def create_color_category_depended_plot(df, x_column,y_column,categories,target_column_name):\n",
        "  colors = (\"purple\",\"blue\",\"red\",\"green\")\n",
        "  for index,category in enumerate(categories):\n",
        "    tempDf=df[df[target_column_name]==category]\n",
        "    plt.scatter(tempDf[x_column], tempDf[y_column],c=colors[index], )\n",
        "  plt.xlabel(x_column)\n",
        "  plt.ylabel(y_column)\n",
        "  plt.show()\n",
        "\n",
        "def find_correlations_through_scatter_matrix(df, maxFeatures=10):\n",
        "    num=0\n",
        "    if(\"Id\"in df.columns):\n",
        "        num=num+1\n",
        "    if(\"Score\"in df.columns):\n",
        "        num=num+1\n",
        "    if(maxFeatures>=len(df.columns)-num):\n",
        "        most_important_features=df.columns\n",
        "    else:\n",
        "        most_important_features=list(find_most_important_attribute_names(df,n=maxFeatures))\n",
        "        most_important_features.append(targetFeature)\n",
        "    temp=df[most_important_features]\n",
        "\n",
        "    pdplt.scatter_matrix(temp)\n",
        "    plt.show()\n",
        "\n",
        "\n",
        "def divide1DlistTo2D(columns,sizeOfInnerList):\n",
        "    listOfColumns=[columns[i:i+sizeOfInnerList] for i in range(0, len(columns), sizeOfInnerList)]\n",
        "    return listOfColumns\n",
        "\n",
        "\n",
        "\n",
        "# box and whisker plots for whole dataframe\n",
        "def createBoxAndWhiskerPlotForAllFeature(dataframe, sizeOfRow=3):\n",
        "  columns=list(dataframe.columns)\n",
        "  listOfColumns=divide1DlistTo2D(columns, sizeOfRow)\n",
        "  for rowOfColumns in listOfColumns:\n",
        "    dataframe[rowOfColumns].plot(kind='box', subplots=True)\n",
        "    plt.show()\n",
        "  \n",
        "# box and whisker plots for one Feature\n",
        "def createBoxAndWhiskerPlotForOneFeature(dataframe, nameOfColumn):\n",
        "  dataframe[nameOfColumn].plot(kind='box', layout=(5,5), sharex=False, sharey=False)\n",
        "  plt.show()\n",
        "#A histogram shows the number of instances(on the vertical axis)\n",
        "#that have a given value range (on the horizontal axis).\n",
        "def create_histogram(df, figsize=None,limit=10,sizeOfRow=6):\n",
        "    num=0\n",
        "    if(\"Id\"in df.columns):\n",
        "        num=num+1\n",
        "    if(\"Score\"in df.columns):\n",
        "        num=num+1\n",
        "    if(limit>=len(df.columns)-num):\n",
        "        most_important_features=df.columns\n",
        "    else:\n",
        "        most_important_features=find_most_important_attribute_names(df,n=limit)\n",
        "    temp=df[most_important_features]\n",
        "\n",
        "    columns=list(temp.columns)\n",
        "    listOfColumns=divide1DlistTo2D(columns, sizeOfRow)\n",
        "    for rowOfColumns in listOfColumns:\n",
        "      temp[rowOfColumns].hist(column=rowOfColumns,figsize=figsize)\n",
        "      plt.show()\n",
        "\n",
        "def create_histogram_for_one_feature(dataframe, column_name):\n",
        "  dataframe[column_name].hist()\n",
        "  plt.show()\n"
      ],
      "execution_count": 37,
      "outputs": []
    },
    {
      "cell_type": "markdown",
      "metadata": {
        "id": "WdRJN8meD4W8"
      },
      "source": [
        "## Lets make a scatter plot of our data"
      ]
    },
    {
      "cell_type": "code",
      "metadata": {
        "colab": {
          "base_uri": "https://localhost:8080/",
          "height": 1000
        },
        "id": "Dvc79uUwCCLW",
        "outputId": "06c7a9ac-cfc0-40e2-870f-22b217baccf0"
      },
      "source": [
        "make_scatter_plot_with_grouped_attributes(oringinalDataset, targetFeature, limit=3)"
      ],
      "execution_count": 38,
      "outputs": [
        {
          "output_type": "stream",
          "text": [
            "initially\n",
            "   RevolvingUtilizationOfUnsecuredLines  age  ...  NumberOfDependents  Score\n",
            "0                              0.766127   45  ...                 2.0      0\n",
            "1                              0.957151   40  ...                 1.0      1\n",
            "2                              0.658180   38  ...                 0.0      0\n",
            "3                              0.233810   30  ...                 0.0      2\n",
            "4                              0.907239   49  ...                 0.0      0\n",
            "5                              0.213179   74  ...                 1.0      3\n",
            "6                              0.305682   57  ...                 0.0      3\n",
            "7                              0.754464   39  ...                 0.0      1\n",
            "8                              0.116951   27  ...                 0.0      2\n",
            "9                              0.189169   57  ...                 2.0      2\n",
            "\n",
            "[10 rows x 11 columns]\n"
          ],
          "name": "stdout"
        },
        {
          "output_type": "stream",
          "text": [
            "[Parallel(n_jobs=1)]: Using backend SequentialBackend with 1 concurrent workers.\n",
            "[Parallel(n_jobs=1)]: Done   1 out of   1 | elapsed:    0.3s remaining:    0.0s\n",
            "[Parallel(n_jobs=1)]: Done  10 out of  10 | elapsed:    2.5s finished\n",
            "\n",
            "[2021-07-29 16:08:29] Features: 1/4 -- score: 0.49192[Parallel(n_jobs=1)]: Using backend SequentialBackend with 1 concurrent workers.\n",
            "[Parallel(n_jobs=1)]: Done   1 out of   1 | elapsed:    0.5s remaining:    0.0s\n",
            "[Parallel(n_jobs=1)]: Done   9 out of   9 | elapsed:    4.2s finished\n",
            "\n",
            "[2021-07-29 16:08:33] Features: 2/4 -- score: 0.5112399999999999[Parallel(n_jobs=1)]: Using backend SequentialBackend with 1 concurrent workers.\n",
            "[Parallel(n_jobs=1)]: Done   1 out of   1 | elapsed:    0.5s remaining:    0.0s\n",
            "[Parallel(n_jobs=1)]: Done   8 out of   8 | elapsed:    4.0s finished\n",
            "\n",
            "[2021-07-29 16:08:37] Features: 3/4 -- score: 0.5181000000000001[Parallel(n_jobs=1)]: Using backend SequentialBackend with 1 concurrent workers.\n",
            "[Parallel(n_jobs=1)]: Done   1 out of   1 | elapsed:    0.5s remaining:    0.0s\n",
            "[Parallel(n_jobs=1)]: Done   7 out of   7 | elapsed:    3.7s finished\n",
            "\n",
            "[2021-07-29 16:08:41] Features: 4/4 -- score: 0.5220666666666667"
          ],
          "name": "stderr"
        },
        {
          "output_type": "stream",
          "text": [
            "   RevolvingUtilizationOfUnsecuredLines  age  ...  NumberOfDependents  Score\n",
            "0                              0.766127   45  ...                 2.0      0\n",
            "1                              0.957151   40  ...                 1.0      1\n",
            "2                              0.658180   38  ...                 0.0      0\n",
            "3                              0.233810   30  ...                 0.0      2\n",
            "4                              0.907239   49  ...                 0.0      0\n",
            "5                              0.213179   74  ...                 1.0      3\n",
            "6                              0.305682   57  ...                 0.0      3\n",
            "7                              0.754464   39  ...                 0.0      1\n",
            "8                              0.116951   27  ...                 0.0      2\n",
            "9                              0.189169   57  ...                 2.0      2\n",
            "\n",
            "[10 rows x 11 columns]\n",
            "   RevolvingUtilizationOfUnsecuredLines  age  ...  NumberOfDependents  Score\n",
            "0                              0.766127   45  ...                 2.0      0\n",
            "1                              0.957151   40  ...                 1.0      1\n",
            "2                              0.658180   38  ...                 0.0      0\n",
            "3                              0.233810   30  ...                 0.0      2\n",
            "4                              0.907239   49  ...                 0.0      0\n",
            "5                              0.213179   74  ...                 1.0      3\n",
            "6                              0.305682   57  ...                 0.0      3\n",
            "7                              0.754464   39  ...                 0.0      1\n",
            "8                              0.116951   27  ...                 0.0      2\n",
            "9                              0.189169   57  ...                 2.0      2\n",
            "\n",
            "[10 rows x 11 columns]\n"
          ],
          "name": "stdout"
        },
        {
          "output_type": "display_data",
          "data": {
            "image/png": "[encoded data removed]",
            "text/plain": [
              "<Figure size 432x288 with 1 Axes>"
            ]
          },
          "metadata": {
            "tags": [],
            "needs_background": "light"
          }
        },
        {
          "output_type": "display_data",
          "data": {
            "image/png": "[encoded data removed]",
            "text/plain": [
              "<Figure size 432x288 with 1 Axes>"
            ]
          },
          "metadata": {
            "tags": [],
            "needs_background": "light"
          }
        },
        {
          "output_type": "display_data",
          "data": {
            "image/png": "[encoded data removed]",
            "text/plain": [
              "<Figure size 432x288 with 1 Axes>"
            ]
          },
          "metadata": {
            "tags": [],
            "needs_background": "light"
          }
        },
        {
          "output_type": "display_data",
          "data": {
            "image/png": "[encoded data removed]",
            "text/plain": [
              "<Figure size 432x288 with 1 Axes>"
            ]
          },
          "metadata": {
            "tags": [],
            "needs_background": "light"
          }
        },
        {
          "output_type": "display_data",
          "data": {
            "image/png": "[encoded data removed]",
            "text/plain": [
              "<Figure size 432x288 with 1 Axes>"
            ]
          },
          "metadata": {
            "tags": [],
            "needs_background": "light"
          }
        },
        {
          "output_type": "display_data",
          "data": {
            "image/png": "[encoded data removed]",
            "text/plain": [
              "<Figure size 432x288 with 1 Axes>"
            ]
          },
          "metadata": {
            "tags": [],
            "needs_background": "light"
          }
        }
      ]
    },
    {
      "cell_type": "markdown",
      "metadata": {
        "id": "EJVfo20LebjG"
      },
      "source": [
        "## Lets continue by checking the distribution of the Data. \n",
        "## Box and whisper plots show how the data is spread out. \n",
        "![image.png](data:image/png;base64,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)\n",
        "\n",
        "1. As you can see from the picture above the line on the bottom of the plot  represents the minimum value of the feature\n",
        "2. the line on the top of the plot  represents the maximum value of the feature\n",
        "3. the line on the middle  of the plot represents the median value of the feature\n",
        "4. the line between the median and the min is the 25% \n",
        "5. the line between the median and the max is the 75% \n",
        "6. By extension the left box represents the values that are between the median and the 25% and the left the right box represents the values that are between the median and the 75% \n",
        "7. this means that 50% of all values are in the two boxes\n",
        "8. The dots represents the outliers \n",
        "\n",
        "Box and whisper plots allow us to see the distribuition of the data with less detail than histograms.\n",
        "\n",
        "We can see that if the distance between the 25% and the 75% is the same then it is resonable to concider that thsi feature might follow  normal distribuition"
      ]
    },
    {
      "cell_type": "code",
      "metadata": {
        "colab": {
          "base_uri": "https://localhost:8080/",
          "height": 1000
        },
        "id": "n2dBtu8x_7Gd",
        "outputId": "6352623e-9628-404b-e630-e60d6dab7581"
      },
      "source": [
        "createBoxAndWhiskerPlotForAllFeature(oringinalDataset)"
      ],
      "execution_count": 39,
      "outputs": [
        {
          "output_type": "display_data",
          "data": {
            "image/png": "[encoded data removed]",
            "text/plain": [
              "<Figure size 432x288 with 3 Axes>"
            ]
          },
          "metadata": {
            "tags": [],
            "needs_background": "light"
          }
        },
        {
          "output_type": "display_data",
          "data": {
            "image/png": "[encoded data removed]",
            "text/plain": [
              "<Figure size 432x288 with 3 Axes>"
            ]
          },
          "metadata": {
            "tags": [],
            "needs_background": "light"
          }
        },
        {
          "output_type": "display_data",
          "data": {
            "image/png": "[encoded data removed]",
            "text/plain": [
              "<Figure size 432x288 with 3 Axes>"
            ]
          },
          "metadata": {
            "tags": [],
            "needs_background": "light"
          }
        },
        {
          "output_type": "display_data",
          "data": {
            "image/png": "[encoded data removed]",
            "text/plain": [
              "<Figure size 432x288 with 3 Axes>"
            ]
          },
          "metadata": {
            "tags": [],
            "needs_background": "light"
          }
        }
      ]
    },
    {
      "cell_type": "markdown",
      "metadata": {
        "id": "LucBu7LmOIfd"
      },
      "source": [
        "### Histograms show the distribution of the data in greater detail\n"
      ]
    },
    {
      "cell_type": "code",
      "metadata": {
        "colab": {
          "base_uri": "https://localhost:8080/",
          "height": 545
        },
        "id": "JcFoFMFIOimD",
        "outputId": "5c42af12-a8e2-426b-eb30-37fae144a5a3"
      },
      "source": [
        "create_histogram(oringinalDataset, limit=len(oringinalDataset.columns))"
      ],
      "execution_count": 40,
      "outputs": [
        {
          "output_type": "display_data",
          "data": {
            "image/png": "[encoded data removed]",
            "text/plain": [
              "<Figure size 432x288 with 6 Axes>"
            ]
          },
          "metadata": {
            "tags": [],
            "needs_background": "light"
          }
        },
        {
          "output_type": "display_data",
          "data": {
            "image/png": "[encoded data removed]",
            "text/plain": [
              "<Figure size 432x288 with 6 Axes>"
            ]
          },
          "metadata": {
            "tags": [],
            "needs_background": "light"
          }
        }
      ]
    },
    {
      "cell_type": "markdown",
      "metadata": {
        "id": "ZHFcv8mlH4rJ"
      },
      "source": [
        "Let's focus on the distribution of the features we hypothesised before that they might follow normal distribuition."
      ]
    },
    {
      "cell_type": "code",
      "metadata": {
        "colab": {
          "base_uri": "https://localhost:8080/",
          "height": 761
        },
        "id": "EjQYOvxs-QnC",
        "outputId": "e53fe34b-3eb1-4dae-d942-c7213bc24015"
      },
      "source": [
        "createBoxAndWhiskerPlotForOneFeature(oringinalDataset, \"age\")\n",
        "createBoxAndWhiskerPlotForOneFeature(oringinalDataset, \"NumberOfOpenCreditLinesAndLoans\")\n",
        "createBoxAndWhiskerPlotForOneFeature(oringinalDataset, \"NumberRealEstateLoansOrLines\")\n",
        "\n",
        "\n",
        "# finalFeaturesDF[\"age\"].plot(kind='box', layout=(5,5), sharex=False, sharey=False)\n",
        "# plt.show()\n",
        "# finalFeaturesDF[\"NumberOfOpenCreditLinesAndLoans\"].plot(kind='box', layout=(5,5), sharex=False, sharey=False)\n",
        "# plt.show()\n",
        "# finalFeaturesDF[\"NumberRealEstateLoansOrLines\"].plot(kind='box', layout=(5,5), sharex=False, sharey=False)\n",
        "# plt.show()"
      ],
      "execution_count": 41,
      "outputs": [
        {
          "output_type": "display_data",
          "data": {
            "image/png": "[encoded data removed]",
            "text/plain": [
              "<Figure size 432x288 with 1 Axes>"
            ]
          },
          "metadata": {
            "tags": [],
            "needs_background": "light"
          }
        },
        {
          "output_type": "display_data",
          "data": {
            "image/png": "[encoded data removed]",
            "text/plain": [
              "<Figure size 432x288 with 1 Axes>"
            ]
          },
          "metadata": {
            "tags": [],
            "needs_background": "light"
          }
        },
        {
          "output_type": "display_data",
          "data": {
            "image/png": "[encoded data removed]",
            "text/plain": [
              "<Figure size 432x288 with 1 Axes>"
            ]
          },
          "metadata": {
            "tags": [],
            "needs_background": "light"
          }
        }
      ]
    },
    {
      "cell_type": "markdown",
      "metadata": {
        "id": "_NTIu0QwS58z"
      },
      "source": [
        "This Plots show graphically what we have already seen in the describe method above. We can see that if the distance between the 25% and the 75% is the same so it is resonable to assume that this feature might follow normal distribuition"
      ]
    },
    {
      "cell_type": "code",
      "metadata": {
        "colab": {
          "base_uri": "https://localhost:8080/",
          "height": 760
        },
        "id": "j5OIltB0-SFk",
        "outputId": "17f59a3c-8acf-4af7-f623-0815b43bba3c"
      },
      "source": [
        "# histograms\n",
        "create_histogram_for_one_feature(oringinalDataset, \"age\")\n",
        "create_histogram_for_one_feature(oringinalDataset, \"NumberOfOpenCreditLinesAndLoans\")\n",
        "create_histogram_for_one_feature(oringinalDataset, \"NumberRealEstateLoansOrLines\")\n"
      ],
      "execution_count": 42,
      "outputs": [
        {
          "output_type": "display_data",
          "data": {
            "image/png": "[encoded data removed]",
            "text/plain": [
              "<Figure size 432x288 with 1 Axes>"
            ]
          },
          "metadata": {
            "tags": [],
            "needs_background": "light"
          }
        },
        {
          "output_type": "display_data",
          "data": {
            "image/png": "[encoded data removed]",
            "text/plain": [
              "<Figure size 432x288 with 1 Axes>"
            ]
          },
          "metadata": {
            "tags": [],
            "needs_background": "light"
          }
        },
        {
          "output_type": "display_data",
          "data": {
            "image/png": "[encoded data removed]",
            "text/plain": [
              "<Figure size 432x288 with 1 Axes>"
            ]
          },
          "metadata": {
            "tags": [],
            "needs_background": "light"
          }
        }
      ]
    },
    {
      "cell_type": "markdown",
      "metadata": {
        "id": "-p3zChogf5jF"
      },
      "source": [
        "When we see the histogram of these features we get a clearer picture. \n",
        "\n",
        "The above graph clearly show that Age indeed follows normal distribution. This is easily undestood since the distribution of the data follow have a bell like shape.\n",
        "\n",
        "The same can not be said about NumberRealEstateLoansOrLines and NumberOfOpenCreditLinesAndLoans because their distributions are more disproportionate. "
      ]
    },
    {
      "cell_type": "markdown",
      "metadata": {
        "id": "bRq-QJ3TAln7"
      },
      "source": [
        "### Lets take a look at the interactions/correlations between features\n",
        "\n",
        "#### Note the diagonal grouping of some pairs of attributes suggests a high correlation and a predictable relationship!\n",
        "\n",
        "Two features are positivly correlated when the as the one increases the some is true for the other one and negativly correlated when as the one increases the other dicreases.\n",
        "\n",
        "When Two fetures are correlated i can reomve one of them and the ML model will achieve the same performance in less time. \n"
      ]
    },
    {
      "cell_type": "code",
      "metadata": {
        "colab": {
          "base_uri": "https://localhost:8080/",
          "height": 1000
        },
        "id": "cuQaqdGsfi-5",
        "outputId": "ca7c8173-e545-46d5-8e84-9ba063eafbf9"
      },
      "source": [
        "find_correlations_through_scatter_matrix(oringinalDataset, maxFeatures=3)"
      ],
      "execution_count": 43,
      "outputs": [
        {
          "output_type": "stream",
          "text": [
            "initially\n",
            "   RevolvingUtilizationOfUnsecuredLines  age  ...  NumberOfDependents  Score\n",
            "0                              0.766127   45  ...                 2.0      0\n",
            "1                              0.957151   40  ...                 1.0      1\n",
            "2                              0.658180   38  ...                 0.0      0\n",
            "3                              0.233810   30  ...                 0.0      2\n",
            "4                              0.907239   49  ...                 0.0      0\n",
            "5                              0.213179   74  ...                 1.0      3\n",
            "6                              0.305682   57  ...                 0.0      3\n",
            "7                              0.754464   39  ...                 0.0      1\n",
            "8                              0.116951   27  ...                 0.0      2\n",
            "9                              0.189169   57  ...                 2.0      2\n",
            "\n",
            "[10 rows x 11 columns]\n"
          ],
          "name": "stdout"
        },
        {
          "output_type": "stream",
          "text": [
            "[Parallel(n_jobs=1)]: Using backend SequentialBackend with 1 concurrent workers.\n",
            "[Parallel(n_jobs=1)]: Done   1 out of   1 | elapsed:    0.3s remaining:    0.0s\n",
            "[Parallel(n_jobs=1)]: Done  10 out of  10 | elapsed:    2.4s finished\n",
            "\n",
            "[2021-07-29 16:08:52] Features: 1/4 -- score: 0.49192[Parallel(n_jobs=1)]: Using backend SequentialBackend with 1 concurrent workers.\n",
            "[Parallel(n_jobs=1)]: Done   1 out of   1 | elapsed:    0.5s remaining:    0.0s\n",
            "[Parallel(n_jobs=1)]: Done   9 out of   9 | elapsed:    4.1s finished\n",
            "\n",
            "[2021-07-29 16:08:56] Features: 2/4 -- score: 0.5112399999999999[Parallel(n_jobs=1)]: Using backend SequentialBackend with 1 concurrent workers.\n",
            "[Parallel(n_jobs=1)]: Done   1 out of   1 | elapsed:    0.5s remaining:    0.0s\n",
            "[Parallel(n_jobs=1)]: Done   8 out of   8 | elapsed:    4.0s finished\n",
            "\n",
            "[2021-07-29 16:09:00] Features: 3/4 -- score: 0.5181000000000001[Parallel(n_jobs=1)]: Using backend SequentialBackend with 1 concurrent workers.\n",
            "[Parallel(n_jobs=1)]: Done   1 out of   1 | elapsed:    0.5s remaining:    0.0s\n",
            "[Parallel(n_jobs=1)]: Done   7 out of   7 | elapsed:    3.5s finished\n",
            "\n",
            "[2021-07-29 16:09:03] Features: 4/4 -- score: 0.5220666666666667"
          ],
          "name": "stderr"
        },
        {
          "output_type": "stream",
          "text": [
            "   RevolvingUtilizationOfUnsecuredLines  age  ...  NumberOfDependents  Score\n",
            "0                              0.766127   45  ...                 2.0      0\n",
            "1                              0.957151   40  ...                 1.0      1\n",
            "2                              0.658180   38  ...                 0.0      0\n",
            "3                              0.233810   30  ...                 0.0      2\n",
            "4                              0.907239   49  ...                 0.0      0\n",
            "5                              0.213179   74  ...                 1.0      3\n",
            "6                              0.305682   57  ...                 0.0      3\n",
            "7                              0.754464   39  ...                 0.0      1\n",
            "8                              0.116951   27  ...                 0.0      2\n",
            "9                              0.189169   57  ...                 2.0      2\n",
            "\n",
            "[10 rows x 11 columns]\n",
            "   RevolvingUtilizationOfUnsecuredLines  age  ...  NumberOfDependents  Score\n",
            "0                              0.766127   45  ...                 2.0      0\n",
            "1                              0.957151   40  ...                 1.0      1\n",
            "2                              0.658180   38  ...                 0.0      0\n",
            "3                              0.233810   30  ...                 0.0      2\n",
            "4                              0.907239   49  ...                 0.0      0\n",
            "5                              0.213179   74  ...                 1.0      3\n",
            "6                              0.305682   57  ...                 0.0      3\n",
            "7                              0.754464   39  ...                 0.0      1\n",
            "8                              0.116951   27  ...                 0.0      2\n",
            "9                              0.189169   57  ...                 2.0      2\n",
            "\n",
            "[10 rows x 11 columns]\n"
          ],
          "name": "stdout"
        },
        {
          "output_type": "display_data",
          "data": {
            "image/png": "[encoded data removed]",
            "text/plain": [
              "<Figure size 432x288 with 16 Axes>"
            ]
          },
          "metadata": {
            "tags": [],
            "needs_background": "light"
          }
        }
      ]
    },
    {
      "cell_type": "code",
      "metadata": {
        "colab": {
          "base_uri": "https://localhost:8080/"
        },
        "id": "pImTpysuA9IS",
        "outputId": "b5047772-583e-41b2-f912-743bd652f07e"
      },
      "source": [
        "make_scatter_plot_with_grouped_attributes"
      ],
      "execution_count": 44,
      "outputs": [
        {
          "output_type": "execute_result",
          "data": {
            "text/plain": [
              "<function __main__.make_scatter_plot_with_grouped_attributes>"
            ]
          },
          "metadata": {
            "tags": []
          },
          "execution_count": 44
        }
      ]
    },
    {
      "cell_type": "markdown",
      "metadata": {
        "id": "GLX58AuBk11U"
      },
      "source": [
        "A heatmap is a visual representation of how correlated each feature is with each other. \n",
        "\n",
        "It is very interesting to see that there are some features that are higly correlated with the tagrget feature. This will be more clear in the feature selection section of this nodebook."
      ]
    },
    {
      "cell_type": "code",
      "metadata": {
        "colab": {
          "base_uri": "https://localhost:8080/",
          "height": 809
        },
        "id": "O7NSh81kUIJc",
        "outputId": "d2a67a84-d636-4c69-a60b-9570a3e1a29a"
      },
      "source": [
        "# from matplotlib import cm as cm\n",
        "\n",
        "# plt.figure()\n",
        "# corr = oringinalDataset.corr(method='pearson')\n",
        "# cmap = cm.get_cmap('jet', 30)\n",
        "# _, ax = plt.subplots( figsize = ( 12 , 10 ) )\n",
        "# sns.heatmap(corr, cmap = cmap, square=True, cbar_kws={\n",
        "# 'shrink' : .9 }, ax=ax, annot = True, annot_kws = {\n",
        "# 'fontsize' : 12 }, xticklabels=corr.columns,\n",
        "# yticklabels=corr.columns)\n",
        "\n",
        "make_heatmap_with_correlations(oringinalDataset,limit=20)\n"
      ],
      "execution_count": 45,
      "outputs": [
        {
          "output_type": "display_data",
          "data": {
            "text/plain": [
              "<Figure size 432x288 with 0 Axes>"
            ]
          },
          "metadata": {
            "tags": []
          }
        },
        {
          "output_type": "display_data",
          "data": {
            "image/png": "[encoded data removed]",
            "text/plain": [
              "<Figure size 864x720 with 2 Axes>"
            ]
          },
          "metadata": {
            "tags": [],
            "needs_background": "light"
          }
        }
      ]
    },
    {
      "cell_type": "markdown",
      "metadata": {
        "id": "JYdQKk9WeiJ5"
      },
      "source": [
        "#Section 3: Scaling the Data"
      ]
    },
    {
      "cell_type": "markdown",
      "metadata": {
        "id": "o8muvCQwN_b6"
      },
      "source": [
        "Next we will Scale/ Normalize the Data. \n",
        "\n",
        "The reason we scale/ normalize the data is due to how the accuracy is measured. \n",
        "\n",
        "For Example if we use Least mean square Error the features with large values will have larger mean square error than those with smaller values. Since the ML model is trying to minimize the MSE it will undertand that the features with larger values are more important and the features with smaller values will \"drawn out\". \n",
        "\n",
        "The target value is not necessary to be scaled.\n",
        "\n",
        "* MinMaxScaler Rescales each feature individually into the range [0, 1]\n",
        "\n",
        "If our values have negatives values we might prefer to use MaxAbsScaler.\n",
        "\n",
        "We need to be careful of the scale the data are already in. For example if the data is int some large logarithmic scale the differrence in the new range becomes too small so we lose the sense of scale.\n",
        "\n",
        "If out Data follows Standard daviation then we should use StandardScaler\n",
        "\n",
        "* StandardScaler Rescales each feature individually so that it follows normal distribution( have zero mean 𝜇 = 0 and unit variance 𝜎^2 = 1)\n",
        "\n",
        "this method is not recommended for \n",
        "1. Data that don't follow normal distribuition \n",
        "\n",
        "2. sparse data because it destroys sparseness\n",
        "\n",
        "3. Not recommended for data with extreme outliers\n",
        "\n",
        "The above methods are sensitive to the presence of outliers. If we want to keep the outlier we might prefer to use RobustScaler. \n",
        "\n",
        "the centering and scaling statistics of RobustScaler is based on percentiles and are therefore not influenced by a few number of very large marginal outliers. \n",
        "\n",
        "finally there is the Binary scaling which Transform data to binary using a threshold\n",
        "\n",
        "if values > threshold marked 1, values < threshold marked as 0\n",
        "\n",
        "This is Useful when adding new ‘meaningful’ features."
      ]
    },
    {
      "cell_type": "markdown",
      "metadata": {
        "id": "gnP5NSqEtqjE"
      },
      "source": [
        "###We chose to use minMax scaler because we don't have negative data and we concluded from our experience above that only one feature follows normal distribution. Also we have already removed the outliers so this is the ideal choice for us. \n",
        "\n",
        "We could have used StandardScaler to normalize the one feature but after consultiing with Dr Agathocleus we thought it was best to use one scaler for all data."
      ]
    },
    {
      "cell_type": "code",
      "metadata": {
        "id": "ZJF4P0zUhvVt"
      },
      "source": [
        "from sklearn.preprocessing import MinMaxScaler\n",
        "from sklearn.preprocessing import RobustScaler\n",
        "from sklearn.preprocessing import StandardScaler\n",
        "from scipy.stats import shapiro\n",
        "\n",
        "def columnsToScale(df):\n",
        "  lista=[]\n",
        "  columnsToNotScale={ \"Id\",\"Score\"}\n",
        "  for feature in df.columns:\n",
        "    if(feature not in columnsToNotScale ):\n",
        "      lista.append(feature)\n",
        "  return lista\n",
        "\n",
        "\n",
        "def scaleDataFrame(df,nameOfScaler=\"MinMaxScaler\"):\n",
        "  new_df=df.copy()\n",
        "  columnsToScaleList =columnsToScale(df)\n",
        "\n",
        "  if (nameOfScaler==\"RobustScaler\"):\n",
        "    scaler = RobustScaler().fit(new_df[columnsToScaleList])\n",
        "  elif (nameOfScaler==\"MinMaxScaler\"):\n",
        "    scaler = MinMaxScaler(feature_range=(0, 1)).fit(new_df[columnsToScaleList])\n",
        "  elif (nameOfScaler==\"StandardScaler\"):\n",
        "    scaler = StandardScaler().fit(new_df[columnsToScaleList])\n",
        "  \n",
        "  new_df[columnsToScaleList] = scaler.fit_transform(new_df[columnsToScaleList])\n",
        "  return new_df\n",
        "  # new_df=df.copy()\n",
        "  # scalers={}\n",
        "  # for feature in df.columns:\n",
        "  #   data=df[feature]\n",
        "  #   # normality test\n",
        "  #   stat, p = shapiro(data)\n",
        "  #   print('Statistics=%.3f, p=%.3f' % (stat, p))\n",
        "  #   # interpret\n",
        "  #   alpha = 0.05\n",
        "  #   if p > alpha:\n",
        "  #     print(\"here!\")\n",
        "  #     scaler = StandardScaler().fit(data)\n",
        "  #   else:\n",
        "  #     scaler = MinMaxScaler(feature_range=(0, 1)).fit(data)\n",
        "  #   new_df[feature]=scaler.transform(data)\n",
        "  #   scalers[feature]=scaler;\n",
        "  # return new_df, scalers\n",
        "\n",
        "\n",
        "def scaleData(x_train, x_test, nameOfScaler=\"MinMaxScaler\"):\n",
        "\n",
        "  if (nameOfScaler==\"RobustScaler\"):\n",
        "    scaler = RobustScaler().fit(x_train)\n",
        "  elif (nameOfScaler==\"MinMaxScaler\"):\n",
        "    scaler = MinMaxScaler(feature_range=(0, 1)).fit(x_train)\n",
        "  elif (nameOfScaler==\"StandardScaler\"):\n",
        "    scaler = StandardScaler().fit(x_train)\n",
        "  scaled_x_train=scaler.fit_transform(x_train)\n",
        "  scaled_x_test=scaler.fit_transform(x_test)\n",
        "  scaled_x_train, scaled_x_test\n",
        "  \n"
      ],
      "execution_count": 46,
      "outputs": []
    },
    {
      "cell_type": "markdown",
      "metadata": {
        "id": "axi8MonaBIBJ"
      },
      "source": [
        "###As you see below. All have been normalized and the data is looking well\n"
      ]
    },
    {
      "cell_type": "code",
      "metadata": {
        "colab": {
          "base_uri": "https://localhost:8080/",
          "height": 241
        },
        "id": "AZBrwaOnJQvY",
        "outputId": "963b77e4-0e39-42c0-eff7-edac5ef9534c"
      },
      "source": [
        "scaledDF=scaleDataFrame(df_without_outliers)\n",
        "scaledDF.head()"
      ],
      "execution_count": 47,
      "outputs": [
        {
          "output_type": "execute_result",
          "data": {
            "text/html": [
              "<div>\n",
              "<style scoped>\n",
              "    .dataframe tbody tr th:only-of-type {\n",
              "        vertical-align: middle;\n",
              "    }\n",
              "\n",
              "    .dataframe tbody tr th {\n",
              "        vertical-align: top;\n",
              "    }\n",
              "\n",
              "    .dataframe thead th {\n",
              "        text-align: right;\n",
              "    }\n",
              "</style>\n",
              "<table border=\"1\" class=\"dataframe\">\n",
              "  <thead>\n",
              "    <tr style=\"text-align: right;\">\n",
              "      <th></th>\n",
              "      <th>Id</th>\n",
              "      <th>Score</th>\n",
              "      <th>RevolvingUtilizationOfUnsecuredLines</th>\n",
              "      <th>age</th>\n",
              "      <th>NumberOfTime30-59DaysPastDueNotWorse</th>\n",
              "      <th>DebtRatio</th>\n",
              "      <th>MonthlyIncome</th>\n",
              "      <th>NumberOfOpenCreditLinesAndLoans</th>\n",
              "      <th>NumberOfTimes90DaysLate</th>\n",
              "      <th>NumberRealEstateLoansOrLines</th>\n",
              "      <th>NumberOfTime60-89DaysPastDueNotWorse</th>\n",
              "      <th>NumberOfDependents</th>\n",
              "    </tr>\n",
              "  </thead>\n",
              "  <tbody>\n",
              "    <tr>\n",
              "      <th>1</th>\n",
              "      <td>2</td>\n",
              "      <td>1</td>\n",
              "      <td>0.383680</td>\n",
              "      <td>0.253333</td>\n",
              "      <td>0.0</td>\n",
              "      <td>0.000020</td>\n",
              "      <td>0.082540</td>\n",
              "      <td>0.173913</td>\n",
              "      <td>0.0</td>\n",
              "      <td>0.00</td>\n",
              "      <td>0.0</td>\n",
              "      <td>0.25</td>\n",
              "    </tr>\n",
              "    <tr>\n",
              "      <th>2</th>\n",
              "      <td>3</td>\n",
              "      <td>0</td>\n",
              "      <td>0.263836</td>\n",
              "      <td>0.226667</td>\n",
              "      <td>0.2</td>\n",
              "      <td>0.000014</td>\n",
              "      <td>0.096571</td>\n",
              "      <td>0.086957</td>\n",
              "      <td>0.5</td>\n",
              "      <td>0.00</td>\n",
              "      <td>0.0</td>\n",
              "      <td>0.00</td>\n",
              "    </tr>\n",
              "    <tr>\n",
              "      <th>3</th>\n",
              "      <td>4</td>\n",
              "      <td>2</td>\n",
              "      <td>0.093724</td>\n",
              "      <td>0.120000</td>\n",
              "      <td>0.0</td>\n",
              "      <td>0.000006</td>\n",
              "      <td>0.104762</td>\n",
              "      <td>0.217391</td>\n",
              "      <td>0.0</td>\n",
              "      <td>0.00</td>\n",
              "      <td>0.0</td>\n",
              "      <td>0.00</td>\n",
              "    </tr>\n",
              "    <tr>\n",
              "      <th>5</th>\n",
              "      <td>6</td>\n",
              "      <td>3</td>\n",
              "      <td>0.085454</td>\n",
              "      <td>0.706667</td>\n",
              "      <td>0.0</td>\n",
              "      <td>0.000061</td>\n",
              "      <td>0.111111</td>\n",
              "      <td>0.130435</td>\n",
              "      <td>0.0</td>\n",
              "      <td>0.25</td>\n",
              "      <td>0.0</td>\n",
              "      <td>0.25</td>\n",
              "    </tr>\n",
              "    <tr>\n",
              "      <th>6</th>\n",
              "      <td>7</td>\n",
              "      <td>3</td>\n",
              "      <td>0.122535</td>\n",
              "      <td>0.480000</td>\n",
              "      <td>0.0</td>\n",
              "      <td>0.933464</td>\n",
              "      <td>0.171429</td>\n",
              "      <td>0.347826</td>\n",
              "      <td>0.0</td>\n",
              "      <td>0.75</td>\n",
              "      <td>0.0</td>\n",
              "      <td>0.00</td>\n",
              "    </tr>\n",
              "  </tbody>\n",
              "</table>\n",
              "</div>"
            ],
            "text/plain": [
              "   Id  Score  ...  NumberOfTime60-89DaysPastDueNotWorse  NumberOfDependents\n",
              "1   2      1  ...                                   0.0                0.25\n",
              "2   3      0  ...                                   0.0                0.00\n",
              "3   4      2  ...                                   0.0                0.00\n",
              "5   6      3  ...                                   0.0                0.25\n",
              "6   7      3  ...                                   0.0                0.00\n",
              "\n",
              "[5 rows x 12 columns]"
            ]
          },
          "metadata": {
            "tags": []
          },
          "execution_count": 47
        }
      ]
    },
    {
      "cell_type": "markdown",
      "metadata": {
        "id": "0l3RFKEIFa0S"
      },
      "source": [
        "###Here we see some stats about them"
      ]
    },
    {
      "cell_type": "code",
      "metadata": {
        "colab": {
          "base_uri": "https://localhost:8080/",
          "height": 334
        },
        "id": "hne3BllHt631",
        "outputId": "9245cd02-cd04-4a96-fb3d-5d84b87e7efd"
      },
      "source": [
        "scaledDF.describe()"
      ],
      "execution_count": 48,
      "outputs": [
        {
          "output_type": "execute_result",
          "data": {
            "text/html": [
              "<div>\n",
              "<style scoped>\n",
              "    .dataframe tbody tr th:only-of-type {\n",
              "        vertical-align: middle;\n",
              "    }\n",
              "\n",
              "    .dataframe tbody tr th {\n",
              "        vertical-align: top;\n",
              "    }\n",
              "\n",
              "    .dataframe thead th {\n",
              "        text-align: right;\n",
              "    }\n",
              "</style>\n",
              "<table border=\"1\" class=\"dataframe\">\n",
              "  <thead>\n",
              "    <tr style=\"text-align: right;\">\n",
              "      <th></th>\n",
              "      <th>Id</th>\n",
              "      <th>Score</th>\n",
              "      <th>RevolvingUtilizationOfUnsecuredLines</th>\n",
              "      <th>age</th>\n",
              "      <th>NumberOfTime30-59DaysPastDueNotWorse</th>\n",
              "      <th>DebtRatio</th>\n",
              "      <th>MonthlyIncome</th>\n",
              "      <th>NumberOfOpenCreditLinesAndLoans</th>\n",
              "      <th>NumberOfTimes90DaysLate</th>\n",
              "      <th>NumberRealEstateLoansOrLines</th>\n",
              "      <th>NumberOfTime60-89DaysPastDueNotWorse</th>\n",
              "      <th>NumberOfDependents</th>\n",
              "    </tr>\n",
              "  </thead>\n",
              "  <tbody>\n",
              "    <tr>\n",
              "      <th>count</th>\n",
              "      <td>142250.000000</td>\n",
              "      <td>142250.000000</td>\n",
              "      <td>142250.000000</td>\n",
              "      <td>142250.000000</td>\n",
              "      <td>142250.000000</td>\n",
              "      <td>142250.000000</td>\n",
              "      <td>142250.000000</td>\n",
              "      <td>142250.000000</td>\n",
              "      <td>142250.000000</td>\n",
              "      <td>142250.000000</td>\n",
              "      <td>142250.000000</td>\n",
              "      <td>142250.000000</td>\n",
              "    </tr>\n",
              "    <tr>\n",
              "      <th>mean</th>\n",
              "      <td>74981.304478</td>\n",
              "      <td>2.131522</td>\n",
              "      <td>0.125687</td>\n",
              "      <td>0.418014</td>\n",
              "      <td>0.044219</td>\n",
              "      <td>0.048697</td>\n",
              "      <td>0.190992</td>\n",
              "      <td>0.354750</td>\n",
              "      <td>0.027360</td>\n",
              "      <td>0.237462</td>\n",
              "      <td>0.024517</td>\n",
              "      <td>0.175334</td>\n",
              "    </tr>\n",
              "    <tr>\n",
              "      <th>std</th>\n",
              "      <td>43287.797371</td>\n",
              "      <td>0.944079</td>\n",
              "      <td>0.141317</td>\n",
              "      <td>0.198138</td>\n",
              "      <td>0.124304</td>\n",
              "      <td>0.140398</td>\n",
              "      <td>0.116855</td>\n",
              "      <td>0.199641</td>\n",
              "      <td>0.134047</td>\n",
              "      <td>0.232907</td>\n",
              "      <td>0.122245</td>\n",
              "      <td>0.259209</td>\n",
              "    </tr>\n",
              "    <tr>\n",
              "      <th>min</th>\n",
              "      <td>2.000000</td>\n",
              "      <td>0.000000</td>\n",
              "      <td>0.000000</td>\n",
              "      <td>0.000000</td>\n",
              "      <td>0.000000</td>\n",
              "      <td>0.000000</td>\n",
              "      <td>0.000000</td>\n",
              "      <td>0.000000</td>\n",
              "      <td>0.000000</td>\n",
              "      <td>0.000000</td>\n",
              "      <td>0.000000</td>\n",
              "      <td>0.000000</td>\n",
              "    </tr>\n",
              "    <tr>\n",
              "      <th>25%</th>\n",
              "      <td>37492.250000</td>\n",
              "      <td>2.000000</td>\n",
              "      <td>0.011498</td>\n",
              "      <td>0.266667</td>\n",
              "      <td>0.000000</td>\n",
              "      <td>0.000028</td>\n",
              "      <td>0.122222</td>\n",
              "      <td>0.217391</td>\n",
              "      <td>0.000000</td>\n",
              "      <td>0.000000</td>\n",
              "      <td>0.000000</td>\n",
              "      <td>0.000000</td>\n",
              "    </tr>\n",
              "    <tr>\n",
              "      <th>50%</th>\n",
              "      <td>75009.000000</td>\n",
              "      <td>2.000000</td>\n",
              "      <td>0.058547</td>\n",
              "      <td>0.413333</td>\n",
              "      <td>0.000000</td>\n",
              "      <td>0.000059</td>\n",
              "      <td>0.171429</td>\n",
              "      <td>0.347826</td>\n",
              "      <td>0.000000</td>\n",
              "      <td>0.250000</td>\n",
              "      <td>0.000000</td>\n",
              "      <td>0.000000</td>\n",
              "    </tr>\n",
              "    <tr>\n",
              "      <th>75%</th>\n",
              "      <td>112436.750000</td>\n",
              "      <td>3.000000</td>\n",
              "      <td>0.215397</td>\n",
              "      <td>0.560000</td>\n",
              "      <td>0.000000</td>\n",
              "      <td>0.000139</td>\n",
              "      <td>0.228571</td>\n",
              "      <td>0.478261</td>\n",
              "      <td>0.000000</td>\n",
              "      <td>0.500000</td>\n",
              "      <td>0.000000</td>\n",
              "      <td>0.250000</td>\n",
              "    </tr>\n",
              "    <tr>\n",
              "      <th>max</th>\n",
              "      <td>150000.000000</td>\n",
              "      <td>3.000000</td>\n",
              "      <td>1.000000</td>\n",
              "      <td>1.000000</td>\n",
              "      <td>1.000000</td>\n",
              "      <td>1.000000</td>\n",
              "      <td>1.000000</td>\n",
              "      <td>1.000000</td>\n",
              "      <td>1.000000</td>\n",
              "      <td>1.000000</td>\n",
              "      <td>1.000000</td>\n",
              "      <td>1.000000</td>\n",
              "    </tr>\n",
              "  </tbody>\n",
              "</table>\n",
              "</div>"
            ],
            "text/plain": [
              "                  Id  ...  NumberOfDependents\n",
              "count  142250.000000  ...       142250.000000\n",
              "mean    74981.304478  ...            0.175334\n",
              "std     43287.797371  ...            0.259209\n",
              "min         2.000000  ...            0.000000\n",
              "25%     37492.250000  ...            0.000000\n",
              "50%     75009.000000  ...            0.000000\n",
              "75%    112436.750000  ...            0.250000\n",
              "max    150000.000000  ...            1.000000\n",
              "\n",
              "[8 rows x 12 columns]"
            ]
          },
          "metadata": {
            "tags": []
          },
          "execution_count": 48
        }
      ]
    },
    {
      "cell_type": "code",
      "metadata": {
        "id": "a9uIaFF_TY_V",
        "colab": {
          "base_uri": "https://localhost:8080/",
          "height": 1115
        },
        "outputId": "79b8923a-c5b3-44e8-8418-ad759cc1e148"
      },
      "source": [
        "getResultsOfCurrentDataframe(scaledDF,targetFeature= targetFeature, max_iterations=25)"
      ],
      "execution_count": null,
      "outputs": [
        {
          "output_type": "stream",
          "text": [
            "Model  logistic_reggresion_model  Achived score:  0.5764586994727592 \n",
            "\n",
            "time needed to do crossvalidation:  8.083250045776367 \n",
            "\n",
            "\n",
            "Model  gaussian_naive_bayes_model  Achived score:  0.5341388400702988 \n",
            "\n",
            "time needed to do crossvalidation:  0.25150465965270996 \n",
            "\n",
            "\n",
            "Model  decision_tree_classifier_model  Achived score:  0.7750439367311073 \n",
            "\n",
            "time needed to do crossvalidation:  3.4563865661621094 \n",
            "\n",
            "\n",
            "Model  support_vector_classification_model  Achived score:  0.14396309314586994 \n",
            "\n",
            "time needed to do crossvalidation:  5.090054035186768 \n",
            "\n",
            "\n",
            "Model  SGDClasifier_model  Achived score:  0.5404217926186291 \n",
            "\n",
            "time needed to do crossvalidation:  3.40981125831604 \n",
            "\n",
            "\n",
            "Model  random_forest_model  Achived score:  0.8021792618629174 \n",
            "\n",
            "time needed to do crossvalidation:  90.66069412231445 \n",
            "\n",
            "\n",
            "Model  XGBoost_model  Achived score:  0.8279349736379613 \n",
            "\n",
            "time needed to do crossvalidation:  1035.675194978714 \n",
            "\n",
            "\n"
          ],
          "name": "stdout"
        },
        {
          "output_type": "display_data",
          "data": {
            "image/png": "[encoded data removed]",
            "text/plain": [
              "<Figure size 2160x1080 with 1 Axes>"
            ]
          },
          "metadata": {
            "tags": [],
            "needs_background": "light"
          }
        }
      ]
    },
    {
      "cell_type": "markdown",
      "metadata": {
        "id": "tWEZsHSOvgtV"
      },
      "source": [
        "As you can see, scaling heled the other models expect the forest once's who are also the best"
      ]
    },
    {
      "cell_type": "markdown",
      "metadata": {
        "id": "rjq-STQGXbJj"
      },
      "source": [
        "#Section 4: Dimentionality Reduction\n",
        "\n",
        "Here we reduce the dimensions (number of features) of our dataset. By removing features or combining features together to make something that has a higher correletion to our target.\n",
        "\n",
        "\n",
        "For example if we were predicting the values of a house, then if we had the area of the house along with number of floors, number of bedrooms, baths and more.\n",
        "\n",
        "Then that data alone would not help peredicting the price good enough. But if we had area/floors and numberOfBedrooms/numberOfBathrooms as collumns without the used features. Then it would show a much better correlation and make for better predictors.\n",
        "\n",
        "This thus results in faster model training and testing, and better accuracy."
      ]
    },
    {
      "cell_type": "markdown",
      "metadata": {
        "id": "eYGwWJaEva-y"
      },
      "source": [
        "##The functions we are going to use"
      ]
    },
    {
      "cell_type": "code",
      "metadata": {
        "id": "Q0aD_lRexEcV"
      },
      "source": [
        "def find_columns(df, column_indexes):\n",
        "    all_columns=df.columns\n",
        "    new_columns=[]\n",
        "    for index in column_indexes:\n",
        "        new_columns.append(all_columns[index])\n",
        "    return new_columns\n",
        "\n",
        "#checked\n",
        "def remove_features_with_low_variance(df):\n",
        "    variances=df.var(axis=0)\n",
        "    n=math.ceil((len(variances)/3))\n",
        "    nsmallest=variances.nsmallest(n=n)\n",
        "    threshold=nsmallest.mean()\n",
        "    sel = VarianceThreshold(threshold=threshold)\n",
        "    sel.fit_transform(df)\n",
        "    column_indexes=sel.get_support([\"index\"])\n",
        "    new_columns=find_columns(df,column_indexes)\n",
        "    if(\"Score\" not in new_columns):\n",
        "        new_columns.append(\"Score\")\n",
        "    new_df=df[new_columns]\n",
        "    return new_df\n",
        "\n",
        "#checked\n",
        "def SelectKBest_attributes(df,k=10,score_function=chi2):\n",
        "    if(k>=len(df.columns)):\n",
        "        return df\n",
        "    X = df.iloc[:,0:-1]  #independent columns\n",
        "    y = df.iloc[:,-1]    #target column i.e price range\n",
        "    if(\"Id\" in X.columns):\n",
        "        X=X.drop(\"Id\",axis=1)\n",
        "    #apply SelectKBest class to extract top 10 best features\n",
        "    bestfeatures = SelectKBest(score_func=score_function, k=k)\n",
        "    bestfeatures.fit_transform(X,y)\n",
        "    column_indexes=bestfeatures.get_support([\"index\"])\n",
        "    new_columns=find_columns(df,column_indexes)\n",
        "    if(\"Id\" not in new_columns):\n",
        "        new_columns.append(\"Id\")\n",
        "    if(\"Score\" not in new_columns):\n",
        "        new_columns.append(\"Score\")\n",
        "    new_df=df[new_columns]\n",
        "    return new_df\n",
        "\n",
        "    #checked\n",
        "def l1_l2_based_feaure_selection(df, c=0.01,penalty=\"l1\",sparse_estimator=\"lsvc\"):\n",
        "    X = df.iloc[:,0:-1]  #independent columns\n",
        "    y = df.iloc[:,-1]    #target column i.e price range\n",
        "    if(sparse_estimator==\"lsvc\"):\n",
        "        lsvc = LinearSVC(C=0.01, penalty=penalty, dual=False).fit(X, y)\n",
        "        model = SelectFromModel(lsvc, prefit=True)\n",
        "        X_new = model.transform(X)\n",
        "        \n",
        "    else:\n",
        "        lreg = LogisticRegression(C=0.01, penalty=\"l2\", dual=False).fit(X, y)\n",
        "        model = SelectFromModel(lreg, prefit=True)\n",
        "        X_new = model.transform(X)\n",
        "    column_indexes=model.get_support([\"index\"])\n",
        "    new_columns=find_columns(df,column_indexes)\n",
        "    if(\"Score\" not in new_columns):\n",
        "        new_columns.append(\"Score\")\n",
        "    new_df=df[new_columns]\n",
        "    return new_df\n",
        "\n",
        "def Tree_based_feature_selection(df,n_estimators=50):\n",
        "    X = df.iloc[:,0:-1]  #independent columns\n",
        "    y = df.iloc[:,-1]    #target column i.e price range\n",
        "    clf = ExtraTreesClassifier(n_estimators=n_estimators)\n",
        "    clf = clf.fit(X, y)\n",
        "    model = SelectFromModel(clf, prefit=True)\n",
        "    model.transform(X)\n",
        "    column_indexes=model.get_support([\"index\"])\n",
        "    new_columns=find_columns(df,column_indexes)\n",
        "    if(\"Score\" not in new_columns):\n",
        "        new_columns.append(\"Score\")\n",
        "    new_df=df[new_columns]\n",
        "    return new_df\n",
        "\n",
        "#checked\n",
        "def Recursive_feature_elimination_with_cross_validation(df,c=1.0):\n",
        "    # Build a classification task using 3 informative features\n",
        "    X = df.iloc[:,0:-1]  #independent columns\n",
        "    y = df.iloc[:,-1]    #target column i.e price range\n",
        "    # Create the RFE object and compute a cross-validated score.\n",
        "    svc = SVC(C=c,kernel=\"linear\")\n",
        "    # The \"accuracy\" scoring is proportional to the number of correct\n",
        "    # classifications\n",
        "    rfecv = RFECV(estimator=svc, step=1, cv=StratifiedKFold(2),\n",
        "                  scoring='accuracy')\n",
        "    rfecv.fit_transform(X, y)\n",
        "    column_indexes=rfecv.get_support([\"index\"])\n",
        "    new_columns=find_columns(df,column_indexes)\n",
        "    if(\"Score\" not in new_columns):\n",
        "        new_columns.append(\"Score\")\n",
        "    new_df=df[new_columns]\n",
        "    return new_df\n",
        "\n",
        "#checked\n",
        "def Recursive_feature_elimination(df,c=1.0):\n",
        "    X = df.iloc[:,0:-1]  #independent columns\n",
        "    y = df.iloc[:,-1]    #target column i.e price range\n",
        "\n",
        "    # Create the RFE object and rank each pixel\n",
        "    svc = SVC(C=c,kernel=\"linear\")\n",
        "    rfe = RFE(estimator=svc, n_features_to_select=1, step=1)\n",
        "    rfe.fit_transform(X, y)\n",
        "    column_indexes=rfe.get_support([\"index\"])\n",
        "    new_columns=find_columns(df,column_indexes)\n",
        "    if(\"Score\" not in new_columns):\n",
        "        new_columns.append(\"Score\")\n",
        "    new_df=df[new_columns]\n",
        "    return new_df\n",
        "\n",
        "\n",
        "#NEEDS checking\n",
        "# Forward selection\n",
        "#start with a model with no features\n",
        "# add a feature that maximizes criterion function\n",
        "# repeat for all other features. \n",
        "# choose and add only the feature that had the best performance. \n",
        "# Now the model has one model, repat for from the third line. After doing it for all features then you add the second one. \n",
        "# finish when you reach desired number of features. \n",
        "from sklearn.naive_bayes import GaussianNB\n",
        "from mlxtend.feature_selection import SequentialFeatureSelector as SFS\n",
        "\n",
        "def forwardSelection(df,NumberofFeatures=5, forward=True):\n",
        "  X = df.iloc[:,0:-1]  #independent columns\n",
        "  y = df.iloc[:,-1]    #target column i.e price range\n",
        "  classifier =  GaussianNB()\n",
        "  # Sequential Forward Selection\n",
        "  sfs = SFS(classifier, \n",
        "            k_features=NumberofFeatures, \n",
        "            forward=forward, \n",
        "            floating=False, \n",
        "            verbose=2,\n",
        "            scoring='accuracy',\n",
        "            cv=10)\n",
        "\n",
        "  sfs = sfs.fit(X, y)\n",
        "  column_indexes=sfs.k_feature_idx_\n",
        "  new_columns=find_columns(df,column_indexes)\n",
        "  if(\"Score\" not in new_columns):\n",
        "      new_columns.append(\"Score\")\n",
        "  new_df=df[new_columns]\n",
        "  return new_df\n",
        "\n",
        "  \n",
        "  # print('\\nSequential Forward Selection (k=5):')\n",
        "  # print('Selected features:',sfs.k_feature_idx_)\n",
        "  # print('Prediction score:',sfs.k_score_)\n",
        "\n",
        "\n",
        "  # backward selection\n",
        "#start with a model with all features\n",
        "# remove a feature that maximizes criterion function\n",
        "# repeat for all other features. \n",
        "# choose and remove only the feature that made the least performance diference performance. \n",
        "# Now the model has -1 features model, repat for from the third line. After doing it for all features then you remove the second one\n",
        "# finish when you reach desired number of features. \n",
        "\n",
        "# Example 2\n",
        "# Sequential Backward Selection\n",
        "def backwardSelection(df,NumberofFeatures=5):\n",
        "  return forwardSelection(df,NumberofFeatures=NumberofFeatures, forward=True)\n",
        "\n",
        "\n",
        "\n",
        "def select_features(df,k=None,c=0.1,list_of_eliminations=(1,1,1,1,1,1,1)):\n",
        "\n",
        "    temp=df.to_dict()\n",
        "    temp.pop(\"Id\")\n",
        "    temp[\"Score\"]=temp.pop(\"Score\")\n",
        "    if(k==None):\n",
        "      k=df.shape[1]-1\n",
        "    new_df=pd.DataFrame(temp)\n",
        "    print(\"initially\\n\"+ str(new_df.head(10)))\n",
        "    if(list_of_eliminations[0]==1):\n",
        "        new_df=remove_features_with_low_variance(new_df)\n",
        "        print(new_df.head(10))\n",
        "    if(list_of_eliminations[1]==1):\n",
        "        new_df=l1_l2_based_feaure_selection(new_df,c=c)\n",
        "        print(new_df.head(10))\n",
        "    if(list_of_eliminations[2]==1):\n",
        "      ##dont Use this one.\n",
        "      print(\"Nothing\")\n",
        "        # new_df=l1_l2_based_feaure_selection(new_df,sparse_estimator=\"any\",c=c)\n",
        "    if(list_of_eliminations[3]==1):\n",
        "        new_df=Tree_based_feature_selection(new_df)\n",
        "        print(new_df.head(10))\n",
        "    if(list_of_eliminations[4]==1):\n",
        "        new_df=Recursive_feature_elimination(new_df,c*10)\n",
        "        print(new_df.head(10))\n",
        "    if(list_of_eliminations[5]==1):\n",
        "        new_df=Recursive_feature_elimination_with_cross_validation(new_df,c*10)\n",
        "        print(new_df.head(10))\n",
        "    if(list_of_eliminations[6]==1):\n",
        "        try:\n",
        "            new_df=SelectKBest_attributes(new_df, k=k)\n",
        "            print(new_df.head(10))\n",
        "        except:\n",
        "            print(\"could not do select k\")\n",
        "    if(list_of_eliminations[7]==1):\n",
        "      try:\n",
        "        backwardSelection(new_df, NumberofFeatures=k)\n",
        "        print(new_df.head(10))\n",
        "      except:\n",
        "        print(\"could not do select k\")\n",
        "      \n",
        "      print(new_df.head(10))\n",
        "\n",
        "    ans=new_df\n",
        "    if(\"Id\"in df.columns):\n",
        "        ans[\"Id\"]=df[\"Id\"]\n",
        "        ans[\"Id\"]=ans.pop(\"Id\")\n",
        "    if(\"Score\"in df.columns):\n",
        "        ans[\"Score\"]=df[\"Score\"]\n",
        "        ans[\"Score\"]=ans.pop(\"Score\")\n",
        "    return pd.DataFrame(ans)\n",
        "\n",
        "def find_most_important_attribute_names(df,n=1):\n",
        "    temp=setNAValuesInDataframeToMedian(df.copy())\n",
        "    n=n+1\n",
        "    temp=select_features(temp,list_of_eliminations=(0,0,0,0,0,0,0,1),k=n)\n",
        "    if(n<=2):\n",
        "        return temp.columns[0]\n",
        "    else:\n",
        "        return temp.columns[:n-1]\n",
        "    \n",
        "\n",
        "#The correlation coefficient ranges from –1 to 1. When it is close to 1, it means that\n",
        "# there is a strong positive correlation; When the coefficient is close to –1, it means\n",
        "# that there is a strong negative correlation\n",
        "# Finally, coefficients close to zero mean that there is no linear correlation.\n",
        "# The correlation coefficient only measures linear correlations (“if x\n",
        "# goes up, then y generally goes up/down”). It may completely miss\n",
        "# out on nonlinear relationships\n",
        "def get_linear_correlations(df, interested_columns=[],sort_column_name=None ):\n",
        "    corr_matrix = df.corr()\n",
        "    if(len(interested_columns)==0):\n",
        "        if(sort_column_name!=None): \n",
        "            corr_matrix.sort_values(by=sort_column_name,ascending=True)\n",
        "        return corr_matrix\n",
        "    else:\n",
        "        ans=corr_matrix[interested_columns]\n",
        "        return ans\n",
        "    \n",
        "def helperFunction(column,threshold, columns_that_dont_find_corelation):\n",
        "  set_of_correlated_columns=set() \n",
        "  for index in column.index:\n",
        "    # print(index)\n",
        "    if(index in columns_that_dont_find_corelation ):\n",
        "        continue\n",
        "    if(column[index]>threshold):\n",
        "        set_of_correlated_columns.add(index)\n",
        "    elif(column[index]<(-threshold)):\n",
        "        set_of_correlated_columns.add(index)\n",
        "  return set_of_correlated_columns\n",
        "\n",
        "\n",
        "\n",
        "def merge_highly_correlated_columns(df,columns_that_dont_find_corelation=[\"Id\"],\n",
        "                            threshold=0.83):\n",
        "    temp=df.copy()\n",
        "    corr_matrix=get_linear_correlations(df,df.columns)\n",
        "    # print(corr_matrix)\n",
        "    to_remove=set()\n",
        "    for column_name in corr_matrix.columns:\n",
        "        if(column_name in columns_that_dont_find_corelation):\n",
        "            continue\n",
        "        # column=corr_matrix[column_name].drop(column_name)\n",
        "        column=corr_matrix[column_name].drop(column_name)\n",
        "        tempSet=helperFunction(column,threshold,columns_that_dont_find_corelation)\n",
        "        if(len(tempSet)>0):\n",
        "          tempSet.add(column_name)\n",
        "          tempList=list(tempSet)\n",
        "          tempList.sort()\n",
        "          nameInSet=tempList[0]\n",
        "          for column_name in tempList[1:]:\n",
        "            nameInSet+=\",\"+column_name\n",
        "          to_remove.add(nameInSet)\n",
        "    to_remove_columns=set()\n",
        "    for tempString in to_remove:\n",
        "      tempList=tempString.split(\",\")\n",
        "      print(tempList)\n",
        "      new_column_name=tempList[0]\n",
        "      value=temp[tempList[0]]\n",
        "      to_remove_columns.add(tempList[0])\n",
        "      for column_name in tempList[1:]:\n",
        "        new_column_name+= column_name+ \"_plus_\"\n",
        "        value+=temp[column_name]\n",
        "        to_remove_columns.add(column_name)\n",
        "      temp[new_column_name]=value\n",
        "    temp=temp.drop(to_remove_columns,axis=1)      \n",
        "\n",
        "    return temp\n",
        "\n",
        "\n",
        "\n",
        "def check_for_correlations_visually(df,promising_column_names):\n",
        "    from pandas.plotting import scatter_matrix\n",
        "    scatter_matrix(df[promising_column_names], figsize=(df.shape[0], 3*len(promising_column_names)),grid=True)\n"
      ],
      "execution_count": 49,
      "outputs": []
    },
    {
      "cell_type": "code",
      "metadata": {
        "id": "Ew_PDntKyNe8"
      },
      "source": [
        "from sklearn.discriminant_analysis import LinearDiscriminantAnalysis\n",
        "\n",
        "def linearDiscriminantAnalysis(df, componentsNum=None, columnsToDrop=[\"Id\"]):\n",
        "  tempDF=df.copy();\n",
        "  tempDF.drop(columnsToDrop, axis=1)\n",
        "  lda = LinearDiscriminantAnalysis(n_components=componentsNum)\n",
        "  X = tempDF.drop(targetFeature, axis=1)  #independent columns\n",
        "  y = tempDF[targetFeature]    #target column i.e price range\n",
        "\n",
        "\n",
        "\n",
        "  lda_data = lda.fit(X, y).transform(X)\n",
        "  print(lda_data.shape)\n",
        "  print(X.shape)\n",
        "  # for feature in lda_data:\n",
        "  #   print(feature)\n",
        "  # print(str(lda.get_support([\"index\"])))\n",
        "  # Percentage of variance explained for each components\n",
        "  print('LDA explained variance ratio (first two components): %s'\n",
        "        % str(lda.explained_variance_ratio_))\n",
        "    # new_df=df[new_columns]\n",
        "  getResultsOfCurrentDataframe(None,targetFeature= targetFeature,X=X, Y=y,  max_iterations=25)\n"
      ],
      "execution_count": 50,
      "outputs": []
    },
    {
      "cell_type": "markdown",
      "metadata": {
        "id": "ocMUy1N-bGpd"
      },
      "source": [
        "##We have implemented multiple ways of reducing dimentions of the problem \n",
        "These Methods belong to 3 categories:\n",
        "1. Removal of features\n",
        "2. Merging Features\n",
        "3. Project features into new Dimentions such that they Optimize Categorization. "
      ]
    },
    {
      "cell_type": "code",
      "metadata": {
        "id": "t1s1C3qDEidT"
      },
      "source": [
        "def bringUpToSpeed(dataset):\n",
        "    columnsThatShouldNotHvaNegativeValues=set([\"RevolvingUtilizationOfUnsecuredLines\",\n",
        "    \"age\"                                 ,    \n",
        "    \"NumberOfTime30-59DaysPastDueNotWorse\", \n",
        "    \"MonthlyIncome\"                          , \n",
        "    \"NumberOfOpenCreditLinesAndLoans\"        , \n",
        "    \"NumberOfTimes90DaysLate\"                , \n",
        "    \"NumberRealEstateLoansOrLines\"           , \n",
        "    \"NumberOfTime60-89DaysPastDueNotWorse\"   , \n",
        "    \"NumberOfDependents\"\n",
        "    ])\n",
        "    columnsThatShouldNotHvaNegativeValues=columnsThatShouldNotHvaNegativeValues- set(np.setdiff1d(oringinalDataset.columns,dataset.columns))\n",
        "    dataset[dataset[columnsThatShouldNotHvaNegativeValues]<0]=np.nan\n",
        "    dataset= setNAValuesInDataframeToMedian(dataset)\n",
        "    indexes_of_not_outliers=detect_and_remove_outliers_for_all_columns(oringinalDataset, methodName=\"both\",threshold =4.5, lowPercent=5, upperPercent=95, get_indexes_of_not_outliers=True)\n",
        "    dataset=dataset[dataset.index.isin(indexes_of_not_outliers)]\n",
        "    dataset=scaleDataFrame(dataset)\n",
        "    return dataset\n",
        "\n",
        "\n",
        "\n",
        "  "
      ],
      "execution_count": 51,
      "outputs": []
    },
    {
      "cell_type": "code",
      "metadata": {
        "id": "BRJLASrs2Qtn",
        "colab": {
          "base_uri": "https://localhost:8080/"
        },
        "outputId": "3641000c-8702-4b65-c49a-3d9c93a16952"
      },
      "source": [
        "featuresMerged =merge_highly_correlated_columns(oringinalDataset, columns_that_dont_find_corelation=[\"Id\",\"Score\"],\n",
        "                            threshold=0.8) #Maybe en xriazete na to treksis tuto. Check again.\n",
        "\n",
        "\n",
        "\n"
      ],
      "execution_count": 52,
      "outputs": [
        {
          "output_type": "stream",
          "text": [
            "['NumberOfTime30-59DaysPastDueNotWorse', 'NumberOfTime60-89DaysPastDueNotWorse', 'NumberOfTimes90DaysLate']\n"
          ],
          "name": "stdout"
        }
      ]
    },
    {
      "cell_type": "code",
      "metadata": {
        "colab": {
          "base_uri": "https://localhost:8080/",
          "height": 873
        },
        "id": "EA4T3RNF7vWM",
        "outputId": "1324d509-a9f9-4854-f9b9-1fe7274f24b4"
      },
      "source": [
        "make_heatmap_with_correlations(featuresMerged, limit=len(featuresMerged.columns)+100)"
      ],
      "execution_count": 53,
      "outputs": [
        {
          "output_type": "display_data",
          "data": {
            "text/plain": [
              "<Figure size 432x288 with 0 Axes>"
            ]
          },
          "metadata": {
            "tags": []
          }
        },
        {
          "output_type": "display_data",
          "data": {
            "image/png": "[encoded data removed]",
            "text/plain": [
              "<Figure size 864x720 with 2 Axes>"
            ]
          },
          "metadata": {
            "tags": [],
            "needs_background": "light"
          }
        }
      ]
    },
    {
      "cell_type": "code",
      "metadata": {
        "colab": {
          "base_uri": "https://localhost:8080/"
        },
        "id": "VB0efGWPGYf4",
        "outputId": "152cdad5-aaeb-4d04-d5f7-0389cec7053d"
      },
      "source": [
        "featuresMerged= bringUpToSpeed(featuresMerged)"
      ],
      "execution_count": 54,
      "outputs": [
        {
          "output_type": "stream",
          "text": [
            "number of outliers  4213\n"
          ],
          "name": "stdout"
        }
      ]
    },
    {
      "cell_type": "code",
      "metadata": {
        "colab": {
          "base_uri": "https://localhost:8080/"
        },
        "id": "3BySlZXSYwo0",
        "scrolled": true,
        "outputId": "c09eeb23-2865-4496-a7a7-3b2c4e5d3db0"
      },
      "source": [
        "print(len(featuresMerged.columns))\n",
        "print(len(oringinalDataset.columns))\n",
        "np.setdiff1d(oringinalDataset.columns,featuresMerged.columns)"
      ],
      "execution_count": 55,
      "outputs": [
        {
          "output_type": "stream",
          "text": [
            "10\n",
            "12\n"
          ],
          "name": "stdout"
        },
        {
          "output_type": "execute_result",
          "data": {
            "text/plain": [
              "array(['NumberOfTime30-59DaysPastDueNotWorse',\n",
              "       'NumberOfTime60-89DaysPastDueNotWorse', 'NumberOfTimes90DaysLate'],\n",
              "      dtype=object)"
            ]
          },
          "metadata": {
            "tags": []
          },
          "execution_count": 55
        }
      ]
    },
    {
      "cell_type": "markdown",
      "metadata": {
        "id": "UhwT6RiKw7o0"
      },
      "source": [
        "As you see it merged those 3 collumns to 1!"
      ]
    },
    {
      "cell_type": "code",
      "metadata": {
        "colab": {
          "base_uri": "https://localhost:8080/"
        },
        "id": "KKusvS4fn9Nz",
        "outputId": "7fbf176c-59c5-4192-d77d-e9c4c22b50ca"
      },
      "source": [
        "featuresMerged.columns"
      ],
      "execution_count": 56,
      "outputs": [
        {
          "output_type": "execute_result",
          "data": {
            "text/plain": [
              "Index(['Id', 'Score', 'RevolvingUtilizationOfUnsecuredLines', 'age',\n",
              "       'DebtRatio', 'MonthlyIncome', 'NumberOfOpenCreditLinesAndLoans',\n",
              "       'NumberRealEstateLoansOrLines', 'NumberOfDependents',\n",
              "       'NumberOfTime30-59DaysPastDueNotWorseNumberOfTime60-89DaysPastDueNotWorse_plus_NumberOfTimes90DaysLate_plus_'],\n",
              "      dtype='object')"
            ]
          },
          "metadata": {
            "tags": []
          },
          "execution_count": 56
        }
      ]
    },
    {
      "cell_type": "code",
      "metadata": {
        "id": "6JMpQg5Vm5cY",
        "colab": {
          "base_uri": "https://localhost:8080/",
          "height": 783
        },
        "outputId": "87e8de2d-3857-4d16-901d-bd6479ef8fdc"
      },
      "source": [
        "getResultsOfCurrentDataframe(featuresMerged,targetFeature= targetFeature, max_iterations=25)"
      ],
      "execution_count": null,
      "outputs": [
        {
          "output_type": "stream",
          "text": [
            "Model  logistic_reggresion_model  Achived score:  0.5675174884086217 \n",
            "\n",
            "time needed to do crossvalidation:  7.848720550537109 \n",
            "\n",
            "\n",
            "Model  gaussian_naive_bayes_model  Achived score:  0.5698839747430038 \n",
            "\n",
            "time needed to do crossvalidation:  0.24421024322509766 \n",
            "\n",
            "\n",
            "Model  decision_tree_classifier_model  Achived score:  0.7581647637718755 \n",
            "\n",
            "time needed to do crossvalidation:  3.3081836700439453 \n",
            "\n",
            "\n",
            "Model  support_vector_classification_model  Achived score:  0.17869548086725281 \n",
            "\n",
            "time needed to do crossvalidation:  4.615633726119995 \n",
            "\n",
            "\n",
            "Model  SGDClasifier_model  Achived score:  0.5378594231590839 \n",
            "\n",
            "time needed to do crossvalidation:  2.7433571815490723 \n",
            "\n",
            "\n",
            "Model  random_forest_model  Achived score:  0.7833643481336671 \n",
            "\n",
            "time needed to do crossvalidation:  78.29529452323914 \n",
            "\n",
            "\n"
          ],
          "name": "stdout"
        },
        {
          "output_type": "error",
          "ename": "KeyboardInterrupt",
          "evalue": "ignored",
          "traceback": [
            "\u001b[0;31m---------------------------------------------------------------------------\u001b[0m",
            "\u001b[0;31mKeyboardInterrupt\u001b[0m                         Traceback (most recent call last)",
            "\u001b[0;32m<ipython-input-58-41be887570fd>\u001b[0m in \u001b[0;36m<module>\u001b[0;34m()\u001b[0m\n\u001b[0;32m----> 1\u001b[0;31m \u001b[0mgetResultsOfCurrentDataframe\u001b[0m\u001b[0;34m(\u001b[0m\u001b[0mfeaturesMerged\u001b[0m\u001b[0;34m,\u001b[0m\u001b[0mtargetFeature\u001b[0m\u001b[0;34m=\u001b[0m \u001b[0mtargetFeature\u001b[0m\u001b[0;34m,\u001b[0m \u001b[0mmax_iterations\u001b[0m\u001b[0;34m=\u001b[0m\u001b[0;36m25\u001b[0m\u001b[0;34m)\u001b[0m\u001b[0;34m\u001b[0m\u001b[0;34m\u001b[0m\u001b[0m\n\u001b[0m",
            "\u001b[0;32m<ipython-input-12-6d9475f9452c>\u001b[0m in \u001b[0;36mgetResultsOfCurrentDataframe\u001b[0;34m(dataframe, targetFeature, columns_to_drop, max_iterations, cv, X, Y)\u001b[0m\n\u001b[1;32m    113\u001b[0m   \u001b[0;32mfor\u001b[0m \u001b[0mname\u001b[0m\u001b[0;34m,\u001b[0m \u001b[0mmodel\u001b[0m \u001b[0;32min\u001b[0m \u001b[0mmodels\u001b[0m\u001b[0;34m:\u001b[0m\u001b[0;34m\u001b[0m\u001b[0;34m\u001b[0m\u001b[0m\n\u001b[1;32m    114\u001b[0m       \u001b[0mstart\u001b[0m \u001b[0;34m=\u001b[0m \u001b[0mtime\u001b[0m\u001b[0;34m.\u001b[0m\u001b[0mtime\u001b[0m\u001b[0;34m(\u001b[0m\u001b[0;34m)\u001b[0m\u001b[0;34m\u001b[0m\u001b[0;34m\u001b[0m\u001b[0m\n\u001b[0;32m--> 115\u001b[0;31m       \u001b[0mscore\u001b[0m \u001b[0;34m=\u001b[0m \u001b[0mcross_val_score\u001b[0m\u001b[0;34m(\u001b[0m\u001b[0mmodel\u001b[0m\u001b[0;34m,\u001b[0m \u001b[0mx_train\u001b[0m\u001b[0;34m,\u001b[0m \u001b[0my_train\u001b[0m\u001b[0;34m,\u001b[0m\u001b[0mscoring\u001b[0m\u001b[0;34m=\u001b[0m\u001b[0;34m\"accuracy\"\u001b[0m\u001b[0;34m,\u001b[0m \u001b[0mcv\u001b[0m\u001b[0;34m=\u001b[0m\u001b[0mcv\u001b[0m\u001b[0;34m,\u001b[0m\u001b[0mverbose\u001b[0m\u001b[0;34m=\u001b[0m\u001b[0;36m0\u001b[0m\u001b[0;34m)\u001b[0m\u001b[0;34m.\u001b[0m\u001b[0mmean\u001b[0m\u001b[0;34m(\u001b[0m\u001b[0;34m)\u001b[0m\u001b[0;34m\u001b[0m\u001b[0;34m\u001b[0m\u001b[0m\n\u001b[0m\u001b[1;32m    116\u001b[0m       \u001b[0mprint\u001b[0m \u001b[0;34m(\u001b[0m\u001b[0;34m\"Model \"\u001b[0m\u001b[0;34m,\u001b[0m \u001b[0mname\u001b[0m\u001b[0;34m,\u001b[0m  \u001b[0;34m\" Achived score: \"\u001b[0m\u001b[0;34m,\u001b[0m  \u001b[0mscore\u001b[0m \u001b[0;34m,\u001b[0m\u001b[0;34m'\\n'\u001b[0m\u001b[0;34m)\u001b[0m\u001b[0;34m\u001b[0m\u001b[0;34m\u001b[0m\u001b[0m\n\u001b[1;32m    117\u001b[0m       \u001b[0mprint\u001b[0m \u001b[0;34m(\u001b[0m\u001b[0;34m'time needed to do crossvalidation: '\u001b[0m\u001b[0;34m,\u001b[0m \u001b[0mtime\u001b[0m\u001b[0;34m.\u001b[0m\u001b[0mtime\u001b[0m\u001b[0;34m(\u001b[0m\u001b[0;34m)\u001b[0m \u001b[0;34m-\u001b[0m \u001b[0mstart\u001b[0m\u001b[0;34m,\u001b[0m \u001b[0;34m'\\n\\n'\u001b[0m\u001b[0;34m)\u001b[0m\u001b[0;34m\u001b[0m\u001b[0;34m\u001b[0m\u001b[0m\n",
            "\u001b[0;32m/usr/local/lib/python3.7/dist-packages/sklearn/model_selection/_validation.py\u001b[0m in \u001b[0;36mcross_val_score\u001b[0;34m(estimator, X, y, groups, scoring, cv, n_jobs, verbose, fit_params, pre_dispatch, error_score)\u001b[0m\n\u001b[1;32m    388\u001b[0m                                 \u001b[0mfit_params\u001b[0m\u001b[0;34m=\u001b[0m\u001b[0mfit_params\u001b[0m\u001b[0;34m,\u001b[0m\u001b[0;34m\u001b[0m\u001b[0;34m\u001b[0m\u001b[0m\n\u001b[1;32m    389\u001b[0m                                 \u001b[0mpre_dispatch\u001b[0m\u001b[0;34m=\u001b[0m\u001b[0mpre_dispatch\u001b[0m\u001b[0;34m,\u001b[0m\u001b[0;34m\u001b[0m\u001b[0;34m\u001b[0m\u001b[0m\n\u001b[0;32m--> 390\u001b[0;31m                                 error_score=error_score)\n\u001b[0m\u001b[1;32m    391\u001b[0m     \u001b[0;32mreturn\u001b[0m \u001b[0mcv_results\u001b[0m\u001b[0;34m[\u001b[0m\u001b[0;34m'test_score'\u001b[0m\u001b[0;34m]\u001b[0m\u001b[0;34m\u001b[0m\u001b[0;34m\u001b[0m\u001b[0m\n\u001b[1;32m    392\u001b[0m \u001b[0;34m\u001b[0m\u001b[0m\n",
            "\u001b[0;32m/usr/local/lib/python3.7/dist-packages/sklearn/model_selection/_validation.py\u001b[0m in \u001b[0;36mcross_validate\u001b[0;34m(estimator, X, y, groups, scoring, cv, n_jobs, verbose, fit_params, pre_dispatch, return_train_score, return_estimator, error_score)\u001b[0m\n\u001b[1;32m    234\u001b[0m             \u001b[0mreturn_times\u001b[0m\u001b[0;34m=\u001b[0m\u001b[0;32mTrue\u001b[0m\u001b[0;34m,\u001b[0m \u001b[0mreturn_estimator\u001b[0m\u001b[0;34m=\u001b[0m\u001b[0mreturn_estimator\u001b[0m\u001b[0;34m,\u001b[0m\u001b[0;34m\u001b[0m\u001b[0;34m\u001b[0m\u001b[0m\n\u001b[1;32m    235\u001b[0m             error_score=error_score)\n\u001b[0;32m--> 236\u001b[0;31m         for train, test in cv.split(X, y, groups))\n\u001b[0m\u001b[1;32m    237\u001b[0m \u001b[0;34m\u001b[0m\u001b[0m\n\u001b[1;32m    238\u001b[0m     \u001b[0mzipped_scores\u001b[0m \u001b[0;34m=\u001b[0m \u001b[0mlist\u001b[0m\u001b[0;34m(\u001b[0m\u001b[0mzip\u001b[0m\u001b[0;34m(\u001b[0m\u001b[0;34m*\u001b[0m\u001b[0mscores\u001b[0m\u001b[0;34m)\u001b[0m\u001b[0;34m)\u001b[0m\u001b[0;34m\u001b[0m\u001b[0;34m\u001b[0m\u001b[0m\n",
            "\u001b[0;32m/usr/local/lib/python3.7/dist-packages/joblib/parallel.py\u001b[0m in \u001b[0;36m__call__\u001b[0;34m(self, iterable)\u001b[0m\n\u001b[1;32m   1042\u001b[0m                 \u001b[0mself\u001b[0m\u001b[0;34m.\u001b[0m\u001b[0m_iterating\u001b[0m \u001b[0;34m=\u001b[0m \u001b[0mself\u001b[0m\u001b[0;34m.\u001b[0m\u001b[0m_original_iterator\u001b[0m \u001b[0;32mis\u001b[0m \u001b[0;32mnot\u001b[0m \u001b[0;32mNone\u001b[0m\u001b[0;34m\u001b[0m\u001b[0;34m\u001b[0m\u001b[0m\n\u001b[1;32m   1043\u001b[0m \u001b[0;34m\u001b[0m\u001b[0m\n\u001b[0;32m-> 1044\u001b[0;31m             \u001b[0;32mwhile\u001b[0m \u001b[0mself\u001b[0m\u001b[0;34m.\u001b[0m\u001b[0mdispatch_one_batch\u001b[0m\u001b[0;34m(\u001b[0m\u001b[0miterator\u001b[0m\u001b[0;34m)\u001b[0m\u001b[0;34m:\u001b[0m\u001b[0;34m\u001b[0m\u001b[0;34m\u001b[0m\u001b[0m\n\u001b[0m\u001b[1;32m   1045\u001b[0m                 \u001b[0;32mpass\u001b[0m\u001b[0;34m\u001b[0m\u001b[0;34m\u001b[0m\u001b[0m\n\u001b[1;32m   1046\u001b[0m \u001b[0;34m\u001b[0m\u001b[0m\n",
            "\u001b[0;32m/usr/local/lib/python3.7/dist-packages/joblib/parallel.py\u001b[0m in \u001b[0;36mdispatch_one_batch\u001b[0;34m(self, iterator)\u001b[0m\n\u001b[1;32m    857\u001b[0m                 \u001b[0;32mreturn\u001b[0m \u001b[0;32mFalse\u001b[0m\u001b[0;34m\u001b[0m\u001b[0;34m\u001b[0m\u001b[0m\n\u001b[1;32m    858\u001b[0m             \u001b[0;32melse\u001b[0m\u001b[0;34m:\u001b[0m\u001b[0;34m\u001b[0m\u001b[0;34m\u001b[0m\u001b[0m\n\u001b[0;32m--> 859\u001b[0;31m                 \u001b[0mself\u001b[0m\u001b[0;34m.\u001b[0m\u001b[0m_dispatch\u001b[0m\u001b[0;34m(\u001b[0m\u001b[0mtasks\u001b[0m\u001b[0;34m)\u001b[0m\u001b[0;34m\u001b[0m\u001b[0;34m\u001b[0m\u001b[0m\n\u001b[0m\u001b[1;32m    860\u001b[0m                 \u001b[0;32mreturn\u001b[0m \u001b[0;32mTrue\u001b[0m\u001b[0;34m\u001b[0m\u001b[0;34m\u001b[0m\u001b[0m\n\u001b[1;32m    861\u001b[0m \u001b[0;34m\u001b[0m\u001b[0m\n",
            "\u001b[0;32m/usr/local/lib/python3.7/dist-packages/joblib/parallel.py\u001b[0m in \u001b[0;36m_dispatch\u001b[0;34m(self, batch)\u001b[0m\n\u001b[1;32m    775\u001b[0m         \u001b[0;32mwith\u001b[0m \u001b[0mself\u001b[0m\u001b[0;34m.\u001b[0m\u001b[0m_lock\u001b[0m\u001b[0;34m:\u001b[0m\u001b[0;34m\u001b[0m\u001b[0;34m\u001b[0m\u001b[0m\n\u001b[1;32m    776\u001b[0m             \u001b[0mjob_idx\u001b[0m \u001b[0;34m=\u001b[0m \u001b[0mlen\u001b[0m\u001b[0;34m(\u001b[0m\u001b[0mself\u001b[0m\u001b[0;34m.\u001b[0m\u001b[0m_jobs\u001b[0m\u001b[0;34m)\u001b[0m\u001b[0;34m\u001b[0m\u001b[0;34m\u001b[0m\u001b[0m\n\u001b[0;32m--> 777\u001b[0;31m             \u001b[0mjob\u001b[0m \u001b[0;34m=\u001b[0m \u001b[0mself\u001b[0m\u001b[0;34m.\u001b[0m\u001b[0m_backend\u001b[0m\u001b[0;34m.\u001b[0m\u001b[0mapply_async\u001b[0m\u001b[0;34m(\u001b[0m\u001b[0mbatch\u001b[0m\u001b[0;34m,\u001b[0m \u001b[0mcallback\u001b[0m\u001b[0;34m=\u001b[0m\u001b[0mcb\u001b[0m\u001b[0;34m)\u001b[0m\u001b[0;34m\u001b[0m\u001b[0;34m\u001b[0m\u001b[0m\n\u001b[0m\u001b[1;32m    778\u001b[0m             \u001b[0;31m# A job can complete so quickly than its callback is\u001b[0m\u001b[0;34m\u001b[0m\u001b[0;34m\u001b[0m\u001b[0;34m\u001b[0m\u001b[0m\n\u001b[1;32m    779\u001b[0m             \u001b[0;31m# called before we get here, causing self._jobs to\u001b[0m\u001b[0;34m\u001b[0m\u001b[0;34m\u001b[0m\u001b[0;34m\u001b[0m\u001b[0m\n",
            "\u001b[0;32m/usr/local/lib/python3.7/dist-packages/joblib/_parallel_backends.py\u001b[0m in \u001b[0;36mapply_async\u001b[0;34m(self, func, callback)\u001b[0m\n\u001b[1;32m    206\u001b[0m     \u001b[0;32mdef\u001b[0m \u001b[0mapply_async\u001b[0m\u001b[0;34m(\u001b[0m\u001b[0mself\u001b[0m\u001b[0;34m,\u001b[0m \u001b[0mfunc\u001b[0m\u001b[0;34m,\u001b[0m \u001b[0mcallback\u001b[0m\u001b[0;34m=\u001b[0m\u001b[0;32mNone\u001b[0m\u001b[0;34m)\u001b[0m\u001b[0;34m:\u001b[0m\u001b[0;34m\u001b[0m\u001b[0;34m\u001b[0m\u001b[0m\n\u001b[1;32m    207\u001b[0m         \u001b[0;34m\"\"\"Schedule a func to be run\"\"\"\u001b[0m\u001b[0;34m\u001b[0m\u001b[0;34m\u001b[0m\u001b[0m\n\u001b[0;32m--> 208\u001b[0;31m         \u001b[0mresult\u001b[0m \u001b[0;34m=\u001b[0m \u001b[0mImmediateResult\u001b[0m\u001b[0;34m(\u001b[0m\u001b[0mfunc\u001b[0m\u001b[0;34m)\u001b[0m\u001b[0;34m\u001b[0m\u001b[0;34m\u001b[0m\u001b[0m\n\u001b[0m\u001b[1;32m    209\u001b[0m         \u001b[0;32mif\u001b[0m \u001b[0mcallback\u001b[0m\u001b[0;34m:\u001b[0m\u001b[0;34m\u001b[0m\u001b[0;34m\u001b[0m\u001b[0m\n\u001b[1;32m    210\u001b[0m             \u001b[0mcallback\u001b[0m\u001b[0;34m(\u001b[0m\u001b[0mresult\u001b[0m\u001b[0;34m)\u001b[0m\u001b[0;34m\u001b[0m\u001b[0;34m\u001b[0m\u001b[0m\n",
            "\u001b[0;32m/usr/local/lib/python3.7/dist-packages/joblib/_parallel_backends.py\u001b[0m in \u001b[0;36m__init__\u001b[0;34m(self, batch)\u001b[0m\n\u001b[1;32m    570\u001b[0m         \u001b[0;31m# Don't delay the application, to avoid keeping the input\u001b[0m\u001b[0;34m\u001b[0m\u001b[0;34m\u001b[0m\u001b[0;34m\u001b[0m\u001b[0m\n\u001b[1;32m    571\u001b[0m         \u001b[0;31m# arguments in memory\u001b[0m\u001b[0;34m\u001b[0m\u001b[0;34m\u001b[0m\u001b[0;34m\u001b[0m\u001b[0m\n\u001b[0;32m--> 572\u001b[0;31m         \u001b[0mself\u001b[0m\u001b[0;34m.\u001b[0m\u001b[0mresults\u001b[0m \u001b[0;34m=\u001b[0m \u001b[0mbatch\u001b[0m\u001b[0;34m(\u001b[0m\u001b[0;34m)\u001b[0m\u001b[0;34m\u001b[0m\u001b[0;34m\u001b[0m\u001b[0m\n\u001b[0m\u001b[1;32m    573\u001b[0m \u001b[0;34m\u001b[0m\u001b[0m\n\u001b[1;32m    574\u001b[0m     \u001b[0;32mdef\u001b[0m \u001b[0mget\u001b[0m\u001b[0;34m(\u001b[0m\u001b[0mself\u001b[0m\u001b[0;34m)\u001b[0m\u001b[0;34m:\u001b[0m\u001b[0;34m\u001b[0m\u001b[0;34m\u001b[0m\u001b[0m\n",
            "\u001b[0;32m/usr/local/lib/python3.7/dist-packages/joblib/parallel.py\u001b[0m in \u001b[0;36m__call__\u001b[0;34m(self)\u001b[0m\n\u001b[1;32m    261\u001b[0m         \u001b[0;32mwith\u001b[0m \u001b[0mparallel_backend\u001b[0m\u001b[0;34m(\u001b[0m\u001b[0mself\u001b[0m\u001b[0;34m.\u001b[0m\u001b[0m_backend\u001b[0m\u001b[0;34m,\u001b[0m \u001b[0mn_jobs\u001b[0m\u001b[0;34m=\u001b[0m\u001b[0mself\u001b[0m\u001b[0;34m.\u001b[0m\u001b[0m_n_jobs\u001b[0m\u001b[0;34m)\u001b[0m\u001b[0;34m:\u001b[0m\u001b[0;34m\u001b[0m\u001b[0;34m\u001b[0m\u001b[0m\n\u001b[1;32m    262\u001b[0m             return [func(*args, **kwargs)\n\u001b[0;32m--> 263\u001b[0;31m                     for func, args, kwargs in self.items]\n\u001b[0m\u001b[1;32m    264\u001b[0m \u001b[0;34m\u001b[0m\u001b[0m\n\u001b[1;32m    265\u001b[0m     \u001b[0;32mdef\u001b[0m \u001b[0m__reduce__\u001b[0m\u001b[0;34m(\u001b[0m\u001b[0mself\u001b[0m\u001b[0;34m)\u001b[0m\u001b[0;34m:\u001b[0m\u001b[0;34m\u001b[0m\u001b[0;34m\u001b[0m\u001b[0m\n",
            "\u001b[0;32m/usr/local/lib/python3.7/dist-packages/joblib/parallel.py\u001b[0m in \u001b[0;36m<listcomp>\u001b[0;34m(.0)\u001b[0m\n\u001b[1;32m    261\u001b[0m         \u001b[0;32mwith\u001b[0m \u001b[0mparallel_backend\u001b[0m\u001b[0;34m(\u001b[0m\u001b[0mself\u001b[0m\u001b[0;34m.\u001b[0m\u001b[0m_backend\u001b[0m\u001b[0;34m,\u001b[0m \u001b[0mn_jobs\u001b[0m\u001b[0;34m=\u001b[0m\u001b[0mself\u001b[0m\u001b[0;34m.\u001b[0m\u001b[0m_n_jobs\u001b[0m\u001b[0;34m)\u001b[0m\u001b[0;34m:\u001b[0m\u001b[0;34m\u001b[0m\u001b[0;34m\u001b[0m\u001b[0m\n\u001b[1;32m    262\u001b[0m             return [func(*args, **kwargs)\n\u001b[0;32m--> 263\u001b[0;31m                     for func, args, kwargs in self.items]\n\u001b[0m\u001b[1;32m    264\u001b[0m \u001b[0;34m\u001b[0m\u001b[0m\n\u001b[1;32m    265\u001b[0m     \u001b[0;32mdef\u001b[0m \u001b[0m__reduce__\u001b[0m\u001b[0;34m(\u001b[0m\u001b[0mself\u001b[0m\u001b[0;34m)\u001b[0m\u001b[0;34m:\u001b[0m\u001b[0;34m\u001b[0m\u001b[0;34m\u001b[0m\u001b[0m\n",
            "\u001b[0;32m/usr/local/lib/python3.7/dist-packages/sklearn/model_selection/_validation.py\u001b[0m in \u001b[0;36m_fit_and_score\u001b[0;34m(estimator, X, y, scorer, train, test, verbose, parameters, fit_params, return_train_score, return_parameters, return_n_test_samples, return_times, return_estimator, error_score)\u001b[0m\n\u001b[1;32m    513\u001b[0m             \u001b[0mestimator\u001b[0m\u001b[0;34m.\u001b[0m\u001b[0mfit\u001b[0m\u001b[0;34m(\u001b[0m\u001b[0mX_train\u001b[0m\u001b[0;34m,\u001b[0m \u001b[0;34m**\u001b[0m\u001b[0mfit_params\u001b[0m\u001b[0;34m)\u001b[0m\u001b[0;34m\u001b[0m\u001b[0;34m\u001b[0m\u001b[0m\n\u001b[1;32m    514\u001b[0m         \u001b[0;32melse\u001b[0m\u001b[0;34m:\u001b[0m\u001b[0;34m\u001b[0m\u001b[0;34m\u001b[0m\u001b[0m\n\u001b[0;32m--> 515\u001b[0;31m             \u001b[0mestimator\u001b[0m\u001b[0;34m.\u001b[0m\u001b[0mfit\u001b[0m\u001b[0;34m(\u001b[0m\u001b[0mX_train\u001b[0m\u001b[0;34m,\u001b[0m \u001b[0my_train\u001b[0m\u001b[0;34m,\u001b[0m \u001b[0;34m**\u001b[0m\u001b[0mfit_params\u001b[0m\u001b[0;34m)\u001b[0m\u001b[0;34m\u001b[0m\u001b[0;34m\u001b[0m\u001b[0m\n\u001b[0m\u001b[1;32m    516\u001b[0m \u001b[0;34m\u001b[0m\u001b[0m\n\u001b[1;32m    517\u001b[0m     \u001b[0;32mexcept\u001b[0m \u001b[0mException\u001b[0m \u001b[0;32mas\u001b[0m \u001b[0me\u001b[0m\u001b[0;34m:\u001b[0m\u001b[0;34m\u001b[0m\u001b[0;34m\u001b[0m\u001b[0m\n",
            "\u001b[0;32m/usr/local/lib/python3.7/dist-packages/xgboost/sklearn.py\u001b[0m in \u001b[0;36mfit\u001b[0;34m(self, X, y, sample_weight, eval_set, eval_metric, early_stopping_rounds, verbose, xgb_model, sample_weight_eval_set, callbacks)\u001b[0m\n\u001b[1;32m    730\u001b[0m                               \u001b[0mevals_result\u001b[0m\u001b[0;34m=\u001b[0m\u001b[0mevals_result\u001b[0m\u001b[0;34m,\u001b[0m \u001b[0mobj\u001b[0m\u001b[0;34m=\u001b[0m\u001b[0mobj\u001b[0m\u001b[0;34m,\u001b[0m \u001b[0mfeval\u001b[0m\u001b[0;34m=\u001b[0m\u001b[0mfeval\u001b[0m\u001b[0;34m,\u001b[0m\u001b[0;34m\u001b[0m\u001b[0;34m\u001b[0m\u001b[0m\n\u001b[1;32m    731\u001b[0m                               \u001b[0mverbose_eval\u001b[0m\u001b[0;34m=\u001b[0m\u001b[0mverbose\u001b[0m\u001b[0;34m,\u001b[0m \u001b[0mxgb_model\u001b[0m\u001b[0;34m=\u001b[0m\u001b[0mxgb_model\u001b[0m\u001b[0;34m,\u001b[0m\u001b[0;34m\u001b[0m\u001b[0;34m\u001b[0m\u001b[0m\n\u001b[0;32m--> 732\u001b[0;31m                               callbacks=callbacks)\n\u001b[0m\u001b[1;32m    733\u001b[0m \u001b[0;34m\u001b[0m\u001b[0m\n\u001b[1;32m    734\u001b[0m         \u001b[0mself\u001b[0m\u001b[0;34m.\u001b[0m\u001b[0mobjective\u001b[0m \u001b[0;34m=\u001b[0m \u001b[0mxgb_options\u001b[0m\u001b[0;34m[\u001b[0m\u001b[0;34m\"objective\"\u001b[0m\u001b[0;34m]\u001b[0m\u001b[0;34m\u001b[0m\u001b[0;34m\u001b[0m\u001b[0m\n",
            "\u001b[0;32m/usr/local/lib/python3.7/dist-packages/xgboost/training.py\u001b[0m in \u001b[0;36mtrain\u001b[0;34m(params, dtrain, num_boost_round, evals, obj, feval, maximize, early_stopping_rounds, evals_result, verbose_eval, xgb_model, callbacks, learning_rates)\u001b[0m\n\u001b[1;32m    214\u001b[0m                            \u001b[0mevals\u001b[0m\u001b[0;34m=\u001b[0m\u001b[0mevals\u001b[0m\u001b[0;34m,\u001b[0m\u001b[0;34m\u001b[0m\u001b[0;34m\u001b[0m\u001b[0m\n\u001b[1;32m    215\u001b[0m                            \u001b[0mobj\u001b[0m\u001b[0;34m=\u001b[0m\u001b[0mobj\u001b[0m\u001b[0;34m,\u001b[0m \u001b[0mfeval\u001b[0m\u001b[0;34m=\u001b[0m\u001b[0mfeval\u001b[0m\u001b[0;34m,\u001b[0m\u001b[0;34m\u001b[0m\u001b[0;34m\u001b[0m\u001b[0m\n\u001b[0;32m--> 216\u001b[0;31m                            xgb_model=xgb_model, callbacks=callbacks)\n\u001b[0m\u001b[1;32m    217\u001b[0m \u001b[0;34m\u001b[0m\u001b[0m\n\u001b[1;32m    218\u001b[0m \u001b[0;34m\u001b[0m\u001b[0m\n",
            "\u001b[0;32m/usr/local/lib/python3.7/dist-packages/xgboost/training.py\u001b[0m in \u001b[0;36m_train_internal\u001b[0;34m(params, dtrain, num_boost_round, evals, obj, feval, xgb_model, callbacks)\u001b[0m\n\u001b[1;32m     72\u001b[0m         \u001b[0;31m# Skip the first update if it is a recovery step.\u001b[0m\u001b[0;34m\u001b[0m\u001b[0;34m\u001b[0m\u001b[0;34m\u001b[0m\u001b[0m\n\u001b[1;32m     73\u001b[0m         \u001b[0;32mif\u001b[0m \u001b[0mversion\u001b[0m \u001b[0;34m%\u001b[0m \u001b[0;36m2\u001b[0m \u001b[0;34m==\u001b[0m \u001b[0;36m0\u001b[0m\u001b[0;34m:\u001b[0m\u001b[0;34m\u001b[0m\u001b[0;34m\u001b[0m\u001b[0m\n\u001b[0;32m---> 74\u001b[0;31m             \u001b[0mbst\u001b[0m\u001b[0;34m.\u001b[0m\u001b[0mupdate\u001b[0m\u001b[0;34m(\u001b[0m\u001b[0mdtrain\u001b[0m\u001b[0;34m,\u001b[0m \u001b[0mi\u001b[0m\u001b[0;34m,\u001b[0m \u001b[0mobj\u001b[0m\u001b[0;34m)\u001b[0m\u001b[0;34m\u001b[0m\u001b[0;34m\u001b[0m\u001b[0m\n\u001b[0m\u001b[1;32m     75\u001b[0m             \u001b[0mbst\u001b[0m\u001b[0;34m.\u001b[0m\u001b[0msave_rabit_checkpoint\u001b[0m\u001b[0;34m(\u001b[0m\u001b[0;34m)\u001b[0m\u001b[0;34m\u001b[0m\u001b[0;34m\u001b[0m\u001b[0m\n\u001b[1;32m     76\u001b[0m             \u001b[0mversion\u001b[0m \u001b[0;34m+=\u001b[0m \u001b[0;36m1\u001b[0m\u001b[0;34m\u001b[0m\u001b[0;34m\u001b[0m\u001b[0m\n",
            "\u001b[0;32m/usr/local/lib/python3.7/dist-packages/xgboost/core.py\u001b[0m in \u001b[0;36mupdate\u001b[0;34m(self, dtrain, iteration, fobj)\u001b[0m\n\u001b[1;32m   1107\u001b[0m         \u001b[0;32mif\u001b[0m \u001b[0mfobj\u001b[0m \u001b[0;32mis\u001b[0m \u001b[0;32mNone\u001b[0m\u001b[0;34m:\u001b[0m\u001b[0;34m\u001b[0m\u001b[0;34m\u001b[0m\u001b[0m\n\u001b[1;32m   1108\u001b[0m             _check_call(_LIB.XGBoosterUpdateOneIter(self.handle, ctypes.c_int(iteration),\n\u001b[0;32m-> 1109\u001b[0;31m                                                     dtrain.handle))\n\u001b[0m\u001b[1;32m   1110\u001b[0m         \u001b[0;32melse\u001b[0m\u001b[0;34m:\u001b[0m\u001b[0;34m\u001b[0m\u001b[0;34m\u001b[0m\u001b[0m\n\u001b[1;32m   1111\u001b[0m             \u001b[0mpred\u001b[0m \u001b[0;34m=\u001b[0m \u001b[0mself\u001b[0m\u001b[0;34m.\u001b[0m\u001b[0mpredict\u001b[0m\u001b[0;34m(\u001b[0m\u001b[0mdtrain\u001b[0m\u001b[0;34m)\u001b[0m\u001b[0;34m\u001b[0m\u001b[0;34m\u001b[0m\u001b[0m\n",
            "\u001b[0;31mKeyboardInterrupt\u001b[0m: "
          ]
        }
      ]
    },
    {
      "cell_type": "code",
      "metadata": {
        "colab": {
          "base_uri": "https://localhost:8080/"
        },
        "id": "xhGBimwnYwk4",
        "scrolled": true,
        "outputId": "a09a2f56-dc0f-4531-bda4-e25f1d948258"
      },
      "source": [
        "featureSelectedDF=select_features(featuresMerged,k=len(featuresMerged.columns), list_of_eliminations=(1,1,1,0,0,0,0,1) )\n",
        "\n",
        "featureSelectedDF.shape"
      ],
      "execution_count": 57,
      "outputs": [
        {
          "output_type": "stream",
          "text": [
            "initially\n",
            "   RevolvingUtilizationOfUnsecuredLines  ...  Score\n",
            "0                              0.307107  ...      0\n",
            "1                              0.383680  ...      1\n",
            "2                              0.263836  ...      0\n",
            "3                              0.093724  ...      2\n",
            "4                              0.363673  ...      0\n",
            "5                              0.085454  ...      3\n",
            "6                              0.122535  ...      3\n",
            "7                              0.302432  ...      1\n",
            "8                              0.046880  ...      2\n",
            "9                              0.075830  ...      2\n",
            "\n",
            "[10 rows x 9 columns]\n",
            "   RevolvingUtilizationOfUnsecuredLines       age  ...  NumberOfDependents  Score\n",
            "0                              0.307107  0.412844  ...                 0.4      0\n",
            "1                              0.383680  0.366972  ...                 0.2      1\n",
            "2                              0.263836  0.348624  ...                 0.0      0\n",
            "3                              0.093724  0.275229  ...                 0.0      2\n",
            "4                              0.363673  0.449541  ...                 0.0      0\n",
            "5                              0.085454  0.678899  ...                 0.2      3\n",
            "6                              0.122535  0.522936  ...                 0.0      3\n",
            "7                              0.302432  0.357798  ...                 0.0      1\n",
            "8                              0.046880  0.247706  ...                 0.0      2\n",
            "9                              0.075830  0.522936  ...                 0.4      2\n",
            "\n",
            "[10 rows x 7 columns]\n",
            "   RevolvingUtilizationOfUnsecuredLines       age  ...  NumberOfDependents  Score\n",
            "0                              0.307107  0.412844  ...                 0.4      0\n",
            "1                              0.383680  0.366972  ...                 0.2      1\n",
            "2                              0.263836  0.348624  ...                 0.0      0\n",
            "3                              0.093724  0.275229  ...                 0.0      2\n",
            "4                              0.363673  0.449541  ...                 0.0      0\n",
            "5                              0.085454  0.678899  ...                 0.2      3\n",
            "6                              0.122535  0.522936  ...                 0.0      3\n",
            "7                              0.302432  0.357798  ...                 0.0      1\n",
            "8                              0.046880  0.247706  ...                 0.0      2\n",
            "9                              0.075830  0.522936  ...                 0.4      2\n",
            "\n",
            "[10 rows x 7 columns]\n",
            "Nothing\n",
            "could not do select k\n",
            "   RevolvingUtilizationOfUnsecuredLines       age  ...  NumberOfDependents  Score\n",
            "0                              0.307107  0.412844  ...                 0.4      0\n",
            "1                              0.383680  0.366972  ...                 0.2      1\n",
            "2                              0.263836  0.348624  ...                 0.0      0\n",
            "3                              0.093724  0.275229  ...                 0.0      2\n",
            "4                              0.363673  0.449541  ...                 0.0      0\n",
            "5                              0.085454  0.678899  ...                 0.2      3\n",
            "6                              0.122535  0.522936  ...                 0.0      3\n",
            "7                              0.302432  0.357798  ...                 0.0      1\n",
            "8                              0.046880  0.247706  ...                 0.0      2\n",
            "9                              0.075830  0.522936  ...                 0.4      2\n",
            "\n",
            "[10 rows x 7 columns]\n"
          ],
          "name": "stdout"
        },
        {
          "output_type": "execute_result",
          "data": {
            "text/plain": [
              "(145787, 8)"
            ]
          },
          "metadata": {
            "tags": []
          },
          "execution_count": 57
        }
      ]
    },
    {
      "cell_type": "code",
      "metadata": {
        "colab": {
          "base_uri": "https://localhost:8080/"
        },
        "id": "KGGi5LcnoVoS",
        "scrolled": false,
        "outputId": "cd49e683-f298-44dd-e276-b58358887b04"
      },
      "source": [
        "print(len(featureSelectedDF.columns))\n",
        "print(len(featuresMerged.columns))\n",
        "np.setdiff1d(featuresMerged.columns,featureSelectedDF.columns)"
      ],
      "execution_count": 58,
      "outputs": [
        {
          "output_type": "stream",
          "text": [
            "8\n",
            "10\n"
          ],
          "name": "stdout"
        },
        {
          "output_type": "execute_result",
          "data": {
            "text/plain": [
              "array(['MonthlyIncome',\n",
              "       'NumberOfTime30-59DaysPastDueNotWorseNumberOfTime60-89DaysPastDueNotWorse_plus_NumberOfTimes90DaysLate_plus_'],\n",
              "      dtype=object)"
            ]
          },
          "metadata": {
            "tags": []
          },
          "execution_count": 58
        }
      ]
    },
    {
      "cell_type": "code",
      "metadata": {
        "colab": {
          "base_uri": "https://localhost:8080/",
          "height": 317
        },
        "id": "OqeOfBvjmQKF",
        "scrolled": false,
        "outputId": "fe9800a5-3f87-4d2f-8b92-602f3c822493"
      },
      "source": [
        "featureSelectedDF.describe()"
      ],
      "execution_count": 59,
      "outputs": [
        {
          "output_type": "execute_result",
          "data": {
            "text/html": [
              "<div>\n",
              "<style scoped>\n",
              "    .dataframe tbody tr th:only-of-type {\n",
              "        vertical-align: middle;\n",
              "    }\n",
              "\n",
              "    .dataframe tbody tr th {\n",
              "        vertical-align: top;\n",
              "    }\n",
              "\n",
              "    .dataframe thead th {\n",
              "        text-align: right;\n",
              "    }\n",
              "</style>\n",
              "<table border=\"1\" class=\"dataframe\">\n",
              "  <thead>\n",
              "    <tr style=\"text-align: right;\">\n",
              "      <th></th>\n",
              "      <th>RevolvingUtilizationOfUnsecuredLines</th>\n",
              "      <th>age</th>\n",
              "      <th>DebtRatio</th>\n",
              "      <th>NumberOfOpenCreditLinesAndLoans</th>\n",
              "      <th>NumberRealEstateLoansOrLines</th>\n",
              "      <th>NumberOfDependents</th>\n",
              "      <th>Id</th>\n",
              "      <th>Score</th>\n",
              "    </tr>\n",
              "  </thead>\n",
              "  <tbody>\n",
              "    <tr>\n",
              "      <th>count</th>\n",
              "      <td>145787.000000</td>\n",
              "      <td>145787.000000</td>\n",
              "      <td>145787.000000</td>\n",
              "      <td>145787.000000</td>\n",
              "      <td>145787.000000</td>\n",
              "      <td>145787.000000</td>\n",
              "      <td>145787.000000</td>\n",
              "      <td>145787.000000</td>\n",
              "    </tr>\n",
              "    <tr>\n",
              "      <th>mean</th>\n",
              "      <td>0.125460</td>\n",
              "      <td>0.480717</td>\n",
              "      <td>0.048527</td>\n",
              "      <td>0.270535</td>\n",
              "      <td>0.164432</td>\n",
              "      <td>0.145112</td>\n",
              "      <td>74979.748153</td>\n",
              "      <td>2.125992</td>\n",
              "    </tr>\n",
              "    <tr>\n",
              "      <th>std</th>\n",
              "      <td>0.140893</td>\n",
              "      <td>0.135855</td>\n",
              "      <td>0.140841</td>\n",
              "      <td>0.159292</td>\n",
              "      <td>0.165821</td>\n",
              "      <td>0.215784</td>\n",
              "      <td>43298.161500</td>\n",
              "      <td>0.945113</td>\n",
              "    </tr>\n",
              "    <tr>\n",
              "      <th>min</th>\n",
              "      <td>0.000000</td>\n",
              "      <td>0.000000</td>\n",
              "      <td>0.000000</td>\n",
              "      <td>0.000000</td>\n",
              "      <td>0.000000</td>\n",
              "      <td>0.000000</td>\n",
              "      <td>1.000000</td>\n",
              "      <td>0.000000</td>\n",
              "    </tr>\n",
              "    <tr>\n",
              "      <th>25%</th>\n",
              "      <td>0.011601</td>\n",
              "      <td>0.376147</td>\n",
              "      <td>0.000029</td>\n",
              "      <td>0.161290</td>\n",
              "      <td>0.000000</td>\n",
              "      <td>0.000000</td>\n",
              "      <td>37479.500000</td>\n",
              "      <td>2.000000</td>\n",
              "    </tr>\n",
              "    <tr>\n",
              "      <th>50%</th>\n",
              "      <td>0.058893</td>\n",
              "      <td>0.477064</td>\n",
              "      <td>0.000059</td>\n",
              "      <td>0.258065</td>\n",
              "      <td>0.166667</td>\n",
              "      <td>0.000000</td>\n",
              "      <td>74982.000000</td>\n",
              "      <td>2.000000</td>\n",
              "    </tr>\n",
              "    <tr>\n",
              "      <th>75%</th>\n",
              "      <td>0.214332</td>\n",
              "      <td>0.577982</td>\n",
              "      <td>0.000137</td>\n",
              "      <td>0.354839</td>\n",
              "      <td>0.333333</td>\n",
              "      <td>0.200000</td>\n",
              "      <td>112442.500000</td>\n",
              "      <td>3.000000</td>\n",
              "    </tr>\n",
              "    <tr>\n",
              "      <th>max</th>\n",
              "      <td>1.000000</td>\n",
              "      <td>1.000000</td>\n",
              "      <td>1.000000</td>\n",
              "      <td>1.000000</td>\n",
              "      <td>1.000000</td>\n",
              "      <td>1.000000</td>\n",
              "      <td>150000.000000</td>\n",
              "      <td>3.000000</td>\n",
              "    </tr>\n",
              "  </tbody>\n",
              "</table>\n",
              "</div>"
            ],
            "text/plain": [
              "       RevolvingUtilizationOfUnsecuredLines  ...          Score\n",
              "count                         145787.000000  ...  145787.000000\n",
              "mean                               0.125460  ...       2.125992\n",
              "std                                0.140893  ...       0.945113\n",
              "min                                0.000000  ...       0.000000\n",
              "25%                                0.011601  ...       2.000000\n",
              "50%                                0.058893  ...       2.000000\n",
              "75%                                0.214332  ...       3.000000\n",
              "max                                1.000000  ...       3.000000\n",
              "\n",
              "[8 rows x 8 columns]"
            ]
          },
          "metadata": {
            "tags": []
          },
          "execution_count": 59
        }
      ]
    },
    {
      "cell_type": "markdown",
      "metadata": {
        "id": "_2DUrWMe8X8f"
      },
      "source": [
        "As you see, it removed an additional 2 features , Monthly income and the merged collumns."
      ]
    },
    {
      "cell_type": "code",
      "metadata": {
        "colab": {
          "base_uri": "https://localhost:8080/"
        },
        "id": "B4eQwd0k-gT1",
        "outputId": "a5fcc2d9-781f-4d5f-cb7f-83f411540d50"
      },
      "source": [
        "featureSelectedDF.shape"
      ],
      "execution_count": 60,
      "outputs": [
        {
          "output_type": "execute_result",
          "data": {
            "text/plain": [
              "(145787, 8)"
            ]
          },
          "metadata": {
            "tags": []
          },
          "execution_count": 60
        }
      ]
    },
    {
      "cell_type": "code",
      "metadata": {
        "colab": {
          "base_uri": "https://localhost:8080/",
          "height": 1115
        },
        "id": "j1beVUm-laRj",
        "outputId": "5e90b702-2cc4-4d9d-904a-9aeffbe0dc86"
      },
      "source": [
        "getResultsOfCurrentDataframe(featureSelectedDF,targetFeature= targetFeature, max_iterations=25)"
      ],
      "execution_count": null,
      "outputs": [
        {
          "output_type": "stream",
          "text": [
            "Model  logistic_reggresion_model  Achived score:  0.5093501584650536 \n",
            "\n",
            "time needed to do crossvalidation:  7.614867210388184 \n",
            "\n",
            "\n",
            "Model  gaussian_naive_bayes_model  Achived score:  0.5123339739572722 \n",
            "\n",
            "time needed to do crossvalidation:  0.22479510307312012 \n",
            "\n",
            "\n",
            "Model  decision_tree_classifier_model  Achived score:  0.5607524407992627 \n",
            "\n",
            "time needed to do crossvalidation:  2.829416275024414 \n",
            "\n",
            "\n",
            "Model  support_vector_classification_model  Achived score:  0.1515578314507481 \n",
            "\n",
            "time needed to do crossvalidation:  4.282500267028809 \n",
            "\n",
            "\n",
            "Model  SGDClasifier_model  Achived score:  0.49139583988684 \n",
            "\n",
            "time needed to do crossvalidation:  2.4450602531433105 \n",
            "\n",
            "\n",
            "Model  random_forest_model  Achived score:  0.6421473299049707 \n",
            "\n",
            "time needed to do crossvalidation:  82.51572775840759 \n",
            "\n",
            "\n",
            "Model  XGBoost_model  Achived score:  0.6325442452791089 \n",
            "\n",
            "time needed to do crossvalidation:  848.2521395683289 \n",
            "\n",
            "\n"
          ],
          "name": "stdout"
        },
        {
          "output_type": "display_data",
          "data": {
            "image/png": "[encoded data removed]",
            "text/plain": [
              "<Figure size 2160x1080 with 1 Axes>"
            ]
          },
          "metadata": {
            "tags": [],
            "needs_background": "light"
          }
        }
      ]
    },
    {
      "cell_type": "markdown",
      "metadata": {
        "id": "blqAZlYgx89U"
      },
      "source": [
        "##Feature EXTRACTION\n",
        "\n"
      ]
    },
    {
      "cell_type": "code",
      "metadata": {
        "colab": {
          "base_uri": "https://localhost:8080/",
          "height": 869
        },
        "id": "EzMvO1bbUhBA",
        "outputId": "9f1f742a-516b-472e-ec62-47ac8f2eb086"
      },
      "source": [
        "linearDiscriminantAnalysis(scaledDF)"
      ],
      "execution_count": 61,
      "outputs": [
        {
          "output_type": "stream",
          "text": [
            "(142250, 3)\n",
            "(142250, 11)\n",
            "LDA explained variance ratio (first two components): [0.88655875 0.09112204 0.02231921]\n",
            "Model  logistic_reggresion_model  Achived score:  0.44425307557117744 \n",
            "\n",
            "time needed to do crossvalidation:  4.566062688827515 \n",
            "\n",
            "\n",
            "Model  gaussian_naive_bayes_model  Achived score:  0.44425307557117744 \n",
            "\n",
            "time needed to do crossvalidation:  0.31831789016723633 \n",
            "\n",
            "\n",
            "Model  decision_tree_classifier_model  Achived score:  0.7623374340949033 \n",
            "\n",
            "time needed to do crossvalidation:  5.143195629119873 \n",
            "\n",
            "\n",
            "Model  support_vector_classification_model  Achived score:  0.21158172231985942 \n",
            "\n",
            "time needed to do crossvalidation:  5.859636068344116 \n",
            "\n",
            "\n",
            "Model  SGDClasifier_model  Achived score:  0.2151493848857645 \n",
            "\n",
            "time needed to do crossvalidation:  8.375787496566772 \n",
            "\n",
            "\n",
            "Model  random_forest_model  Achived score:  0.7834094903339193 \n",
            "\n",
            "time needed to do crossvalidation:  118.68009901046753 \n",
            "\n",
            "\n"
          ],
          "name": "stdout"
        },
        {
          "output_type": "error",
          "ename": "KeyboardInterrupt",
          "evalue": "ignored",
          "traceback": [
            "\u001b[0;31m---------------------------------------------------------------------------\u001b[0m",
            "\u001b[0;31mKeyboardInterrupt\u001b[0m                         Traceback (most recent call last)",
            "\u001b[0;32m<ipython-input-61-7ac0bcdb6caf>\u001b[0m in \u001b[0;36m<module>\u001b[0;34m()\u001b[0m\n\u001b[0;32m----> 1\u001b[0;31m \u001b[0mlinearDiscriminantAnalysis\u001b[0m\u001b[0;34m(\u001b[0m\u001b[0mscaledDF\u001b[0m\u001b[0;34m)\u001b[0m\u001b[0;34m\u001b[0m\u001b[0;34m\u001b[0m\u001b[0m\n\u001b[0m",
            "\u001b[0;32m<ipython-input-50-0b09136ffd86>\u001b[0m in \u001b[0;36mlinearDiscriminantAnalysis\u001b[0;34m(df, componentsNum, columnsToDrop)\u001b[0m\n\u001b[1;32m     20\u001b[0m         % str(lda.explained_variance_ratio_))\n\u001b[1;32m     21\u001b[0m     \u001b[0;31m# new_df=df[new_columns]\u001b[0m\u001b[0;34m\u001b[0m\u001b[0;34m\u001b[0m\u001b[0;34m\u001b[0m\u001b[0m\n\u001b[0;32m---> 22\u001b[0;31m   \u001b[0mgetResultsOfCurrentDataframe\u001b[0m\u001b[0;34m(\u001b[0m\u001b[0;32mNone\u001b[0m\u001b[0;34m,\u001b[0m\u001b[0mtargetFeature\u001b[0m\u001b[0;34m=\u001b[0m \u001b[0mtargetFeature\u001b[0m\u001b[0;34m,\u001b[0m\u001b[0mX\u001b[0m\u001b[0;34m=\u001b[0m\u001b[0mX\u001b[0m\u001b[0;34m,\u001b[0m \u001b[0mY\u001b[0m\u001b[0;34m=\u001b[0m\u001b[0my\u001b[0m\u001b[0;34m,\u001b[0m  \u001b[0mmax_iterations\u001b[0m\u001b[0;34m=\u001b[0m\u001b[0;36m25\u001b[0m\u001b[0;34m)\u001b[0m\u001b[0;34m\u001b[0m\u001b[0;34m\u001b[0m\u001b[0m\n\u001b[0m",
            "\u001b[0;32m<ipython-input-10-6d9475f9452c>\u001b[0m in \u001b[0;36mgetResultsOfCurrentDataframe\u001b[0;34m(dataframe, targetFeature, columns_to_drop, max_iterations, cv, X, Y)\u001b[0m\n\u001b[1;32m    113\u001b[0m   \u001b[0;32mfor\u001b[0m \u001b[0mname\u001b[0m\u001b[0;34m,\u001b[0m \u001b[0mmodel\u001b[0m \u001b[0;32min\u001b[0m \u001b[0mmodels\u001b[0m\u001b[0;34m:\u001b[0m\u001b[0;34m\u001b[0m\u001b[0;34m\u001b[0m\u001b[0m\n\u001b[1;32m    114\u001b[0m       \u001b[0mstart\u001b[0m \u001b[0;34m=\u001b[0m \u001b[0mtime\u001b[0m\u001b[0;34m.\u001b[0m\u001b[0mtime\u001b[0m\u001b[0;34m(\u001b[0m\u001b[0;34m)\u001b[0m\u001b[0;34m\u001b[0m\u001b[0;34m\u001b[0m\u001b[0m\n\u001b[0;32m--> 115\u001b[0;31m       \u001b[0mscore\u001b[0m \u001b[0;34m=\u001b[0m \u001b[0mcross_val_score\u001b[0m\u001b[0;34m(\u001b[0m\u001b[0mmodel\u001b[0m\u001b[0;34m,\u001b[0m \u001b[0mx_train\u001b[0m\u001b[0;34m,\u001b[0m \u001b[0my_train\u001b[0m\u001b[0;34m,\u001b[0m\u001b[0mscoring\u001b[0m\u001b[0;34m=\u001b[0m\u001b[0;34m\"accuracy\"\u001b[0m\u001b[0;34m,\u001b[0m \u001b[0mcv\u001b[0m\u001b[0;34m=\u001b[0m\u001b[0mcv\u001b[0m\u001b[0;34m,\u001b[0m\u001b[0mverbose\u001b[0m\u001b[0;34m=\u001b[0m\u001b[0;36m0\u001b[0m\u001b[0;34m)\u001b[0m\u001b[0;34m.\u001b[0m\u001b[0mmean\u001b[0m\u001b[0;34m(\u001b[0m\u001b[0;34m)\u001b[0m\u001b[0;34m\u001b[0m\u001b[0;34m\u001b[0m\u001b[0m\n\u001b[0m\u001b[1;32m    116\u001b[0m       \u001b[0mprint\u001b[0m \u001b[0;34m(\u001b[0m\u001b[0;34m\"Model \"\u001b[0m\u001b[0;34m,\u001b[0m \u001b[0mname\u001b[0m\u001b[0;34m,\u001b[0m  \u001b[0;34m\" Achived score: \"\u001b[0m\u001b[0;34m,\u001b[0m  \u001b[0mscore\u001b[0m \u001b[0;34m,\u001b[0m\u001b[0;34m'\\n'\u001b[0m\u001b[0;34m)\u001b[0m\u001b[0;34m\u001b[0m\u001b[0;34m\u001b[0m\u001b[0m\n\u001b[1;32m    117\u001b[0m       \u001b[0mprint\u001b[0m \u001b[0;34m(\u001b[0m\u001b[0;34m'time needed to do crossvalidation: '\u001b[0m\u001b[0;34m,\u001b[0m \u001b[0mtime\u001b[0m\u001b[0;34m.\u001b[0m\u001b[0mtime\u001b[0m\u001b[0;34m(\u001b[0m\u001b[0;34m)\u001b[0m \u001b[0;34m-\u001b[0m \u001b[0mstart\u001b[0m\u001b[0;34m,\u001b[0m \u001b[0;34m'\\n\\n'\u001b[0m\u001b[0;34m)\u001b[0m\u001b[0;34m\u001b[0m\u001b[0;34m\u001b[0m\u001b[0m\n",
            "\u001b[0;32m/usr/local/lib/python3.7/dist-packages/sklearn/model_selection/_validation.py\u001b[0m in \u001b[0;36mcross_val_score\u001b[0;34m(estimator, X, y, groups, scoring, cv, n_jobs, verbose, fit_params, pre_dispatch, error_score)\u001b[0m\n\u001b[1;32m    388\u001b[0m                                 \u001b[0mfit_params\u001b[0m\u001b[0;34m=\u001b[0m\u001b[0mfit_params\u001b[0m\u001b[0;34m,\u001b[0m\u001b[0;34m\u001b[0m\u001b[0;34m\u001b[0m\u001b[0m\n\u001b[1;32m    389\u001b[0m                                 \u001b[0mpre_dispatch\u001b[0m\u001b[0;34m=\u001b[0m\u001b[0mpre_dispatch\u001b[0m\u001b[0;34m,\u001b[0m\u001b[0;34m\u001b[0m\u001b[0;34m\u001b[0m\u001b[0m\n\u001b[0;32m--> 390\u001b[0;31m                                 error_score=error_score)\n\u001b[0m\u001b[1;32m    391\u001b[0m     \u001b[0;32mreturn\u001b[0m \u001b[0mcv_results\u001b[0m\u001b[0;34m[\u001b[0m\u001b[0;34m'test_score'\u001b[0m\u001b[0;34m]\u001b[0m\u001b[0;34m\u001b[0m\u001b[0;34m\u001b[0m\u001b[0m\n\u001b[1;32m    392\u001b[0m \u001b[0;34m\u001b[0m\u001b[0m\n",
            "\u001b[0;32m/usr/local/lib/python3.7/dist-packages/sklearn/model_selection/_validation.py\u001b[0m in \u001b[0;36mcross_validate\u001b[0;34m(estimator, X, y, groups, scoring, cv, n_jobs, verbose, fit_params, pre_dispatch, return_train_score, return_estimator, error_score)\u001b[0m\n\u001b[1;32m    234\u001b[0m             \u001b[0mreturn_times\u001b[0m\u001b[0;34m=\u001b[0m\u001b[0;32mTrue\u001b[0m\u001b[0;34m,\u001b[0m \u001b[0mreturn_estimator\u001b[0m\u001b[0;34m=\u001b[0m\u001b[0mreturn_estimator\u001b[0m\u001b[0;34m,\u001b[0m\u001b[0;34m\u001b[0m\u001b[0;34m\u001b[0m\u001b[0m\n\u001b[1;32m    235\u001b[0m             error_score=error_score)\n\u001b[0;32m--> 236\u001b[0;31m         for train, test in cv.split(X, y, groups))\n\u001b[0m\u001b[1;32m    237\u001b[0m \u001b[0;34m\u001b[0m\u001b[0m\n\u001b[1;32m    238\u001b[0m     \u001b[0mzipped_scores\u001b[0m \u001b[0;34m=\u001b[0m \u001b[0mlist\u001b[0m\u001b[0;34m(\u001b[0m\u001b[0mzip\u001b[0m\u001b[0;34m(\u001b[0m\u001b[0;34m*\u001b[0m\u001b[0mscores\u001b[0m\u001b[0;34m)\u001b[0m\u001b[0;34m)\u001b[0m\u001b[0;34m\u001b[0m\u001b[0;34m\u001b[0m\u001b[0m\n",
            "\u001b[0;32m/usr/local/lib/python3.7/dist-packages/joblib/parallel.py\u001b[0m in \u001b[0;36m__call__\u001b[0;34m(self, iterable)\u001b[0m\n\u001b[1;32m   1039\u001b[0m             \u001b[0;31m# remaining jobs.\u001b[0m\u001b[0;34m\u001b[0m\u001b[0;34m\u001b[0m\u001b[0;34m\u001b[0m\u001b[0m\n\u001b[1;32m   1040\u001b[0m             \u001b[0mself\u001b[0m\u001b[0;34m.\u001b[0m\u001b[0m_iterating\u001b[0m \u001b[0;34m=\u001b[0m \u001b[0;32mFalse\u001b[0m\u001b[0;34m\u001b[0m\u001b[0;34m\u001b[0m\u001b[0m\n\u001b[0;32m-> 1041\u001b[0;31m             \u001b[0;32mif\u001b[0m \u001b[0mself\u001b[0m\u001b[0;34m.\u001b[0m\u001b[0mdispatch_one_batch\u001b[0m\u001b[0;34m(\u001b[0m\u001b[0miterator\u001b[0m\u001b[0;34m)\u001b[0m\u001b[0;34m:\u001b[0m\u001b[0;34m\u001b[0m\u001b[0;34m\u001b[0m\u001b[0m\n\u001b[0m\u001b[1;32m   1042\u001b[0m                 \u001b[0mself\u001b[0m\u001b[0;34m.\u001b[0m\u001b[0m_iterating\u001b[0m \u001b[0;34m=\u001b[0m \u001b[0mself\u001b[0m\u001b[0;34m.\u001b[0m\u001b[0m_original_iterator\u001b[0m \u001b[0;32mis\u001b[0m \u001b[0;32mnot\u001b[0m \u001b[0;32mNone\u001b[0m\u001b[0;34m\u001b[0m\u001b[0;34m\u001b[0m\u001b[0m\n\u001b[1;32m   1043\u001b[0m \u001b[0;34m\u001b[0m\u001b[0m\n",
            "\u001b[0;32m/usr/local/lib/python3.7/dist-packages/joblib/parallel.py\u001b[0m in \u001b[0;36mdispatch_one_batch\u001b[0;34m(self, iterator)\u001b[0m\n\u001b[1;32m    857\u001b[0m                 \u001b[0;32mreturn\u001b[0m \u001b[0;32mFalse\u001b[0m\u001b[0;34m\u001b[0m\u001b[0;34m\u001b[0m\u001b[0m\n\u001b[1;32m    858\u001b[0m             \u001b[0;32melse\u001b[0m\u001b[0;34m:\u001b[0m\u001b[0;34m\u001b[0m\u001b[0;34m\u001b[0m\u001b[0m\n\u001b[0;32m--> 859\u001b[0;31m                 \u001b[0mself\u001b[0m\u001b[0;34m.\u001b[0m\u001b[0m_dispatch\u001b[0m\u001b[0;34m(\u001b[0m\u001b[0mtasks\u001b[0m\u001b[0;34m)\u001b[0m\u001b[0;34m\u001b[0m\u001b[0;34m\u001b[0m\u001b[0m\n\u001b[0m\u001b[1;32m    860\u001b[0m                 \u001b[0;32mreturn\u001b[0m \u001b[0;32mTrue\u001b[0m\u001b[0;34m\u001b[0m\u001b[0;34m\u001b[0m\u001b[0m\n\u001b[1;32m    861\u001b[0m \u001b[0;34m\u001b[0m\u001b[0m\n",
            "\u001b[0;32m/usr/local/lib/python3.7/dist-packages/joblib/parallel.py\u001b[0m in \u001b[0;36m_dispatch\u001b[0;34m(self, batch)\u001b[0m\n\u001b[1;32m    775\u001b[0m         \u001b[0;32mwith\u001b[0m \u001b[0mself\u001b[0m\u001b[0;34m.\u001b[0m\u001b[0m_lock\u001b[0m\u001b[0;34m:\u001b[0m\u001b[0;34m\u001b[0m\u001b[0;34m\u001b[0m\u001b[0m\n\u001b[1;32m    776\u001b[0m             \u001b[0mjob_idx\u001b[0m \u001b[0;34m=\u001b[0m \u001b[0mlen\u001b[0m\u001b[0;34m(\u001b[0m\u001b[0mself\u001b[0m\u001b[0;34m.\u001b[0m\u001b[0m_jobs\u001b[0m\u001b[0;34m)\u001b[0m\u001b[0;34m\u001b[0m\u001b[0;34m\u001b[0m\u001b[0m\n\u001b[0;32m--> 777\u001b[0;31m             \u001b[0mjob\u001b[0m \u001b[0;34m=\u001b[0m \u001b[0mself\u001b[0m\u001b[0;34m.\u001b[0m\u001b[0m_backend\u001b[0m\u001b[0;34m.\u001b[0m\u001b[0mapply_async\u001b[0m\u001b[0;34m(\u001b[0m\u001b[0mbatch\u001b[0m\u001b[0;34m,\u001b[0m \u001b[0mcallback\u001b[0m\u001b[0;34m=\u001b[0m\u001b[0mcb\u001b[0m\u001b[0;34m)\u001b[0m\u001b[0;34m\u001b[0m\u001b[0;34m\u001b[0m\u001b[0m\n\u001b[0m\u001b[1;32m    778\u001b[0m             \u001b[0;31m# A job can complete so quickly than its callback is\u001b[0m\u001b[0;34m\u001b[0m\u001b[0;34m\u001b[0m\u001b[0;34m\u001b[0m\u001b[0m\n\u001b[1;32m    779\u001b[0m             \u001b[0;31m# called before we get here, causing self._jobs to\u001b[0m\u001b[0;34m\u001b[0m\u001b[0;34m\u001b[0m\u001b[0;34m\u001b[0m\u001b[0m\n",
            "\u001b[0;32m/usr/local/lib/python3.7/dist-packages/joblib/_parallel_backends.py\u001b[0m in \u001b[0;36mapply_async\u001b[0;34m(self, func, callback)\u001b[0m\n\u001b[1;32m    206\u001b[0m     \u001b[0;32mdef\u001b[0m \u001b[0mapply_async\u001b[0m\u001b[0;34m(\u001b[0m\u001b[0mself\u001b[0m\u001b[0;34m,\u001b[0m \u001b[0mfunc\u001b[0m\u001b[0;34m,\u001b[0m \u001b[0mcallback\u001b[0m\u001b[0;34m=\u001b[0m\u001b[0;32mNone\u001b[0m\u001b[0;34m)\u001b[0m\u001b[0;34m:\u001b[0m\u001b[0;34m\u001b[0m\u001b[0;34m\u001b[0m\u001b[0m\n\u001b[1;32m    207\u001b[0m         \u001b[0;34m\"\"\"Schedule a func to be run\"\"\"\u001b[0m\u001b[0;34m\u001b[0m\u001b[0;34m\u001b[0m\u001b[0m\n\u001b[0;32m--> 208\u001b[0;31m         \u001b[0mresult\u001b[0m \u001b[0;34m=\u001b[0m \u001b[0mImmediateResult\u001b[0m\u001b[0;34m(\u001b[0m\u001b[0mfunc\u001b[0m\u001b[0;34m)\u001b[0m\u001b[0;34m\u001b[0m\u001b[0;34m\u001b[0m\u001b[0m\n\u001b[0m\u001b[1;32m    209\u001b[0m         \u001b[0;32mif\u001b[0m \u001b[0mcallback\u001b[0m\u001b[0;34m:\u001b[0m\u001b[0;34m\u001b[0m\u001b[0;34m\u001b[0m\u001b[0m\n\u001b[1;32m    210\u001b[0m             \u001b[0mcallback\u001b[0m\u001b[0;34m(\u001b[0m\u001b[0mresult\u001b[0m\u001b[0;34m)\u001b[0m\u001b[0;34m\u001b[0m\u001b[0;34m\u001b[0m\u001b[0m\n",
            "\u001b[0;32m/usr/local/lib/python3.7/dist-packages/joblib/_parallel_backends.py\u001b[0m in \u001b[0;36m__init__\u001b[0;34m(self, batch)\u001b[0m\n\u001b[1;32m    570\u001b[0m         \u001b[0;31m# Don't delay the application, to avoid keeping the input\u001b[0m\u001b[0;34m\u001b[0m\u001b[0;34m\u001b[0m\u001b[0;34m\u001b[0m\u001b[0m\n\u001b[1;32m    571\u001b[0m         \u001b[0;31m# arguments in memory\u001b[0m\u001b[0;34m\u001b[0m\u001b[0;34m\u001b[0m\u001b[0;34m\u001b[0m\u001b[0m\n\u001b[0;32m--> 572\u001b[0;31m         \u001b[0mself\u001b[0m\u001b[0;34m.\u001b[0m\u001b[0mresults\u001b[0m \u001b[0;34m=\u001b[0m \u001b[0mbatch\u001b[0m\u001b[0;34m(\u001b[0m\u001b[0;34m)\u001b[0m\u001b[0;34m\u001b[0m\u001b[0;34m\u001b[0m\u001b[0m\n\u001b[0m\u001b[1;32m    573\u001b[0m \u001b[0;34m\u001b[0m\u001b[0m\n\u001b[1;32m    574\u001b[0m     \u001b[0;32mdef\u001b[0m \u001b[0mget\u001b[0m\u001b[0;34m(\u001b[0m\u001b[0mself\u001b[0m\u001b[0;34m)\u001b[0m\u001b[0;34m:\u001b[0m\u001b[0;34m\u001b[0m\u001b[0;34m\u001b[0m\u001b[0m\n",
            "\u001b[0;32m/usr/local/lib/python3.7/dist-packages/joblib/parallel.py\u001b[0m in \u001b[0;36m__call__\u001b[0;34m(self)\u001b[0m\n\u001b[1;32m    261\u001b[0m         \u001b[0;32mwith\u001b[0m \u001b[0mparallel_backend\u001b[0m\u001b[0;34m(\u001b[0m\u001b[0mself\u001b[0m\u001b[0;34m.\u001b[0m\u001b[0m_backend\u001b[0m\u001b[0;34m,\u001b[0m \u001b[0mn_jobs\u001b[0m\u001b[0;34m=\u001b[0m\u001b[0mself\u001b[0m\u001b[0;34m.\u001b[0m\u001b[0m_n_jobs\u001b[0m\u001b[0;34m)\u001b[0m\u001b[0;34m:\u001b[0m\u001b[0;34m\u001b[0m\u001b[0;34m\u001b[0m\u001b[0m\n\u001b[1;32m    262\u001b[0m             return [func(*args, **kwargs)\n\u001b[0;32m--> 263\u001b[0;31m                     for func, args, kwargs in self.items]\n\u001b[0m\u001b[1;32m    264\u001b[0m \u001b[0;34m\u001b[0m\u001b[0m\n\u001b[1;32m    265\u001b[0m     \u001b[0;32mdef\u001b[0m \u001b[0m__reduce__\u001b[0m\u001b[0;34m(\u001b[0m\u001b[0mself\u001b[0m\u001b[0;34m)\u001b[0m\u001b[0;34m:\u001b[0m\u001b[0;34m\u001b[0m\u001b[0;34m\u001b[0m\u001b[0m\n",
            "\u001b[0;32m/usr/local/lib/python3.7/dist-packages/joblib/parallel.py\u001b[0m in \u001b[0;36m<listcomp>\u001b[0;34m(.0)\u001b[0m\n\u001b[1;32m    261\u001b[0m         \u001b[0;32mwith\u001b[0m \u001b[0mparallel_backend\u001b[0m\u001b[0;34m(\u001b[0m\u001b[0mself\u001b[0m\u001b[0;34m.\u001b[0m\u001b[0m_backend\u001b[0m\u001b[0;34m,\u001b[0m \u001b[0mn_jobs\u001b[0m\u001b[0;34m=\u001b[0m\u001b[0mself\u001b[0m\u001b[0;34m.\u001b[0m\u001b[0m_n_jobs\u001b[0m\u001b[0;34m)\u001b[0m\u001b[0;34m:\u001b[0m\u001b[0;34m\u001b[0m\u001b[0;34m\u001b[0m\u001b[0m\n\u001b[1;32m    262\u001b[0m             return [func(*args, **kwargs)\n\u001b[0;32m--> 263\u001b[0;31m                     for func, args, kwargs in self.items]\n\u001b[0m\u001b[1;32m    264\u001b[0m \u001b[0;34m\u001b[0m\u001b[0m\n\u001b[1;32m    265\u001b[0m     \u001b[0;32mdef\u001b[0m \u001b[0m__reduce__\u001b[0m\u001b[0;34m(\u001b[0m\u001b[0mself\u001b[0m\u001b[0;34m)\u001b[0m\u001b[0;34m:\u001b[0m\u001b[0;34m\u001b[0m\u001b[0;34m\u001b[0m\u001b[0m\n",
            "\u001b[0;32m/usr/local/lib/python3.7/dist-packages/sklearn/model_selection/_validation.py\u001b[0m in \u001b[0;36m_fit_and_score\u001b[0;34m(estimator, X, y, scorer, train, test, verbose, parameters, fit_params, return_train_score, return_parameters, return_n_test_samples, return_times, return_estimator, error_score)\u001b[0m\n\u001b[1;32m    513\u001b[0m             \u001b[0mestimator\u001b[0m\u001b[0;34m.\u001b[0m\u001b[0mfit\u001b[0m\u001b[0;34m(\u001b[0m\u001b[0mX_train\u001b[0m\u001b[0;34m,\u001b[0m \u001b[0;34m**\u001b[0m\u001b[0mfit_params\u001b[0m\u001b[0;34m)\u001b[0m\u001b[0;34m\u001b[0m\u001b[0;34m\u001b[0m\u001b[0m\n\u001b[1;32m    514\u001b[0m         \u001b[0;32melse\u001b[0m\u001b[0;34m:\u001b[0m\u001b[0;34m\u001b[0m\u001b[0;34m\u001b[0m\u001b[0m\n\u001b[0;32m--> 515\u001b[0;31m             \u001b[0mestimator\u001b[0m\u001b[0;34m.\u001b[0m\u001b[0mfit\u001b[0m\u001b[0;34m(\u001b[0m\u001b[0mX_train\u001b[0m\u001b[0;34m,\u001b[0m \u001b[0my_train\u001b[0m\u001b[0;34m,\u001b[0m \u001b[0;34m**\u001b[0m\u001b[0mfit_params\u001b[0m\u001b[0;34m)\u001b[0m\u001b[0;34m\u001b[0m\u001b[0;34m\u001b[0m\u001b[0m\n\u001b[0m\u001b[1;32m    516\u001b[0m \u001b[0;34m\u001b[0m\u001b[0m\n\u001b[1;32m    517\u001b[0m     \u001b[0;32mexcept\u001b[0m \u001b[0mException\u001b[0m \u001b[0;32mas\u001b[0m \u001b[0me\u001b[0m\u001b[0;34m:\u001b[0m\u001b[0;34m\u001b[0m\u001b[0;34m\u001b[0m\u001b[0m\n",
            "\u001b[0;32m/usr/local/lib/python3.7/dist-packages/xgboost/sklearn.py\u001b[0m in \u001b[0;36mfit\u001b[0;34m(self, X, y, sample_weight, eval_set, eval_metric, early_stopping_rounds, verbose, xgb_model, sample_weight_eval_set, callbacks)\u001b[0m\n\u001b[1;32m    730\u001b[0m                               \u001b[0mevals_result\u001b[0m\u001b[0;34m=\u001b[0m\u001b[0mevals_result\u001b[0m\u001b[0;34m,\u001b[0m \u001b[0mobj\u001b[0m\u001b[0;34m=\u001b[0m\u001b[0mobj\u001b[0m\u001b[0;34m,\u001b[0m \u001b[0mfeval\u001b[0m\u001b[0;34m=\u001b[0m\u001b[0mfeval\u001b[0m\u001b[0;34m,\u001b[0m\u001b[0;34m\u001b[0m\u001b[0;34m\u001b[0m\u001b[0m\n\u001b[1;32m    731\u001b[0m                               \u001b[0mverbose_eval\u001b[0m\u001b[0;34m=\u001b[0m\u001b[0mverbose\u001b[0m\u001b[0;34m,\u001b[0m \u001b[0mxgb_model\u001b[0m\u001b[0;34m=\u001b[0m\u001b[0mxgb_model\u001b[0m\u001b[0;34m,\u001b[0m\u001b[0;34m\u001b[0m\u001b[0;34m\u001b[0m\u001b[0m\n\u001b[0;32m--> 732\u001b[0;31m                               callbacks=callbacks)\n\u001b[0m\u001b[1;32m    733\u001b[0m \u001b[0;34m\u001b[0m\u001b[0m\n\u001b[1;32m    734\u001b[0m         \u001b[0mself\u001b[0m\u001b[0;34m.\u001b[0m\u001b[0mobjective\u001b[0m \u001b[0;34m=\u001b[0m \u001b[0mxgb_options\u001b[0m\u001b[0;34m[\u001b[0m\u001b[0;34m\"objective\"\u001b[0m\u001b[0;34m]\u001b[0m\u001b[0;34m\u001b[0m\u001b[0;34m\u001b[0m\u001b[0m\n",
            "\u001b[0;32m/usr/local/lib/python3.7/dist-packages/xgboost/training.py\u001b[0m in \u001b[0;36mtrain\u001b[0;34m(params, dtrain, num_boost_round, evals, obj, feval, maximize, early_stopping_rounds, evals_result, verbose_eval, xgb_model, callbacks, learning_rates)\u001b[0m\n\u001b[1;32m    214\u001b[0m                            \u001b[0mevals\u001b[0m\u001b[0;34m=\u001b[0m\u001b[0mevals\u001b[0m\u001b[0;34m,\u001b[0m\u001b[0;34m\u001b[0m\u001b[0;34m\u001b[0m\u001b[0m\n\u001b[1;32m    215\u001b[0m                            \u001b[0mobj\u001b[0m\u001b[0;34m=\u001b[0m\u001b[0mobj\u001b[0m\u001b[0;34m,\u001b[0m \u001b[0mfeval\u001b[0m\u001b[0;34m=\u001b[0m\u001b[0mfeval\u001b[0m\u001b[0;34m,\u001b[0m\u001b[0;34m\u001b[0m\u001b[0;34m\u001b[0m\u001b[0m\n\u001b[0;32m--> 216\u001b[0;31m                            xgb_model=xgb_model, callbacks=callbacks)\n\u001b[0m\u001b[1;32m    217\u001b[0m \u001b[0;34m\u001b[0m\u001b[0m\n\u001b[1;32m    218\u001b[0m \u001b[0;34m\u001b[0m\u001b[0m\n",
            "\u001b[0;32m/usr/local/lib/python3.7/dist-packages/xgboost/training.py\u001b[0m in \u001b[0;36m_train_internal\u001b[0;34m(params, dtrain, num_boost_round, evals, obj, feval, xgb_model, callbacks)\u001b[0m\n\u001b[1;32m     72\u001b[0m         \u001b[0;31m# Skip the first update if it is a recovery step.\u001b[0m\u001b[0;34m\u001b[0m\u001b[0;34m\u001b[0m\u001b[0;34m\u001b[0m\u001b[0m\n\u001b[1;32m     73\u001b[0m         \u001b[0;32mif\u001b[0m \u001b[0mversion\u001b[0m \u001b[0;34m%\u001b[0m \u001b[0;36m2\u001b[0m \u001b[0;34m==\u001b[0m \u001b[0;36m0\u001b[0m\u001b[0;34m:\u001b[0m\u001b[0;34m\u001b[0m\u001b[0;34m\u001b[0m\u001b[0m\n\u001b[0;32m---> 74\u001b[0;31m             \u001b[0mbst\u001b[0m\u001b[0;34m.\u001b[0m\u001b[0mupdate\u001b[0m\u001b[0;34m(\u001b[0m\u001b[0mdtrain\u001b[0m\u001b[0;34m,\u001b[0m \u001b[0mi\u001b[0m\u001b[0;34m,\u001b[0m \u001b[0mobj\u001b[0m\u001b[0;34m)\u001b[0m\u001b[0;34m\u001b[0m\u001b[0;34m\u001b[0m\u001b[0m\n\u001b[0m\u001b[1;32m     75\u001b[0m             \u001b[0mbst\u001b[0m\u001b[0;34m.\u001b[0m\u001b[0msave_rabit_checkpoint\u001b[0m\u001b[0;34m(\u001b[0m\u001b[0;34m)\u001b[0m\u001b[0;34m\u001b[0m\u001b[0;34m\u001b[0m\u001b[0m\n\u001b[1;32m     76\u001b[0m             \u001b[0mversion\u001b[0m \u001b[0;34m+=\u001b[0m \u001b[0;36m1\u001b[0m\u001b[0;34m\u001b[0m\u001b[0;34m\u001b[0m\u001b[0m\n",
            "\u001b[0;32m/usr/local/lib/python3.7/dist-packages/xgboost/core.py\u001b[0m in \u001b[0;36mupdate\u001b[0;34m(self, dtrain, iteration, fobj)\u001b[0m\n\u001b[1;32m   1107\u001b[0m         \u001b[0;32mif\u001b[0m \u001b[0mfobj\u001b[0m \u001b[0;32mis\u001b[0m \u001b[0;32mNone\u001b[0m\u001b[0;34m:\u001b[0m\u001b[0;34m\u001b[0m\u001b[0;34m\u001b[0m\u001b[0m\n\u001b[1;32m   1108\u001b[0m             _check_call(_LIB.XGBoosterUpdateOneIter(self.handle, ctypes.c_int(iteration),\n\u001b[0;32m-> 1109\u001b[0;31m                                                     dtrain.handle))\n\u001b[0m\u001b[1;32m   1110\u001b[0m         \u001b[0;32melse\u001b[0m\u001b[0;34m:\u001b[0m\u001b[0;34m\u001b[0m\u001b[0;34m\u001b[0m\u001b[0m\n\u001b[1;32m   1111\u001b[0m             \u001b[0mpred\u001b[0m \u001b[0;34m=\u001b[0m \u001b[0mself\u001b[0m\u001b[0;34m.\u001b[0m\u001b[0mpredict\u001b[0m\u001b[0;34m(\u001b[0m\u001b[0mdtrain\u001b[0m\u001b[0;34m)\u001b[0m\u001b[0;34m\u001b[0m\u001b[0;34m\u001b[0m\u001b[0m\n",
            "\u001b[0;31mKeyboardInterrupt\u001b[0m: "
          ]
        }
      ]
    },
    {
      "cell_type": "markdown",
      "metadata": {
        "id": "KDuLmjFscq6z"
      },
      "source": [
        "After careful testing of the above methods we decided that we would not be using any of them because the accuracy is actually decreasing when we remove a feature.\n",
        "\n",
        "Our Dataset already has very few fetures, only 11 (without the ID) so these information are all needed for the model to have the best prediction. "
      ]
    },
    {
      "cell_type": "markdown",
      "metadata": {
        "id": "j7L-Nk_zwLAQ"
      },
      "source": [
        "##These are the functions"
      ]
    },
    {
      "cell_type": "code",
      "metadata": {
        "id": "9R8lSjND8tPN"
      },
      "source": [
        "# One way to compare classifiers is to measure the area under the curve (AUC).\n",
        "# A perfectclassifier will have a ROC AUC equal to 1, whereas a purely random classifier will\n",
        "# have a ROC AUC equal to 0.5. \n",
        "def get_optimal_hyperparamteres_of_model_usig_grid_search (model,data,\n",
        "    labels, param_grid, cv=5,scoring='f1',get_estimator=False):\n",
        "    grid_search = GridSearchCV(model, param_grid, cv=cv,scoring=scoring)\n",
        "    grid_search.fit(data, labels)\n",
        "    if(get_estimator==False):\n",
        "        return grid_search.best_params_\n",
        "    else:\n",
        "        return grid_search.best_estimator_\n",
        "\n",
        "from sklearn.model_selection import RandomizedSearchCV\n",
        "def get_optimal_hyperparamteres_of_model_using_randomized_search_CV (model,\n",
        "    data,labels, param_grid, cv=5,scoring='f1',\n",
        "    get_estimator=False):\n",
        "    grid_search = RandomizedSearchCV(model, param_grid, cv=cv,\n",
        "                        scoring=scoring,random_state=42)\n",
        "    grid_search.fit(data, labels)\n",
        "    if(get_estimator==False):\n",
        "        return grid_search.best_params_\n",
        "    else:\n",
        "        return grid_search.best_estimator_"
      ],
      "execution_count": 62,
      "outputs": []
    },
    {
      "cell_type": "code",
      "metadata": {
        "id": "gT7GDrQL8tUp"
      },
      "source": [
        "def display_scores(scores,median_tora,mean_tora,std_tora,fkati_tora):\n",
        "    print(\"Scores:\", scores)\n",
        "    print(\"Median\", median_tora)\n",
        "    print(\"Mean:\", mean_tora)\n",
        "    print(\"Standard deviation:\", std_tora)\n",
        "    print(\"fkati:\", fkati_tora)\n",
        "\n",
        "\n",
        "#default scoring method should probably change giaa binary classification model.\n",
        "from sklearn.model_selection import StratifiedKFold\n",
        "def show_comparison_of_models_using_cross_validation(models,data,labels,\n",
        "    scoring_method=\"f1\",cv=5,column_category_name=\"Score\",weight_of_median=0.5):\n",
        "    \n",
        "    \n",
        "    best_mean_index=0\n",
        "    best_mean=None\n",
        "    best_std_index=0\n",
        "    best_std=None\n",
        "    best_median_index=0\n",
        "    best_median=None\n",
        "    best_fkati=0\n",
        "    best_fkati_index=None\n",
        "    for i,model in enumerate(models):\n",
        "        scores = cross_val_score(model, data, labels,\n",
        "        scoring=scoring_method, cv=cv)\n",
        "#         rmse_scores = np.sqrt(scores)\n",
        "        rmse_scores = scores\n",
        "\n",
        "        median_tora=np.median(rmse_scores)\n",
        "        mean_tora=rmse_scores.mean()\n",
        "        std_tora=rmse_scores.std()\n",
        "        fkati_tora=  (((1-weight_of_median)*mean_tora)+ (weight_of_median*median_tora))/std_tora\n",
        "#         display_scores(rmse_scores,median_tora,\n",
        "#                      mean_tora,std_tora,fkati_tora )\n",
        "        if(best_mean==None or best_mean<mean_tora ):\n",
        "            best_mean=mean_tora\n",
        "            best_mean_index=i\n",
        "        if(best_std==None or best_std>std_tora ):\n",
        "            best_std=std_tora\n",
        "            best_std_index=i\n",
        "        if(best_median==None or best_median<median_tora ):\n",
        "            best_median=median_tora\n",
        "            best_median_index=i\n",
        "        if(best_fkati==None or best_fkati<fkati_tora):\n",
        "            best_fkati=fkati_tora\n",
        "            best_fkati_index=i\n",
        "            \n",
        "    print(\"best_median \",best_median,\"was with model \",best_median_index,\n",
        "          \"best mean \",best_mean,\"was with model \",best_mean_index,\n",
        "          \"best_std \",best_std,\"was with model \",best_std_index,\n",
        "         \"best_fkati \",best_fkati,\"was with model \", best_fkati_index)\n",
        "    \n",
        "    return best_fkati_index\n",
        "    \n",
        "def find_most_important_attribute_names(df,n=1):\n",
        "    temp=df.copy()\n",
        "    n=n+1\n",
        "    temp=select_features(s,list_of_eliminations=(0,0,0,0,0,0,1),k=n)\n",
        "    if(n<=2):\n",
        "        return temp.columns[0]\n",
        "    else:\n",
        "        return temp.columns[:n-1]\n",
        "\n",
        "  \n",
        "from sklearn.metrics import classification_report\n",
        "def find_classifiction_report(predictions,y_test):\n",
        "    report=classification_report(y_test, predictions,output_dict=True)\n",
        "    return report"
      ],
      "execution_count": 63,
      "outputs": []
    },
    {
      "cell_type": "markdown",
      "metadata": {
        "id": "FSnKBKQsr9Tm"
      },
      "source": [
        "# Section 5:  Fine tuning Hyperparameters\n",
        "These are functions that finds the optimal hyperparameters of the models we saw though out this notebook with the final verison of the data"
      ]
    },
    {
      "cell_type": "markdown",
      "metadata": {
        "id": "tHfDby7dHwyG"
      },
      "source": [
        "###The fucntions we will use"
      ]
    },
    {
      "cell_type": "code",
      "metadata": {
        "id": "z8VOhvS9hFO_"
      },
      "source": [
        "def create_logistic_regression_model(x_train,y_train):\n",
        "    # all parameters not specified are set to their defaults\n",
        "    logisticRegr = LogisticRegression()\n",
        "    param_grid=dict(C=[0,2,0.5,0.8],\n",
        "    penalty=[\"l1\", \"l2\", \"elasticnet\"],random_state=[42],max_iter=[20,50,100,150,200,250])\n",
        "    best_estimator=get_optimal_hyperparamteres_of_model_using_randomized_search_CV (model=logisticRegr,\n",
        "    data=x_train,labels=y_train, param_grid=param_grid, cv=cv,scoring='accuracy',\n",
        "    get_estimator=True)\n",
        "    best_estimator.fit(x_train, y_train)\n",
        "    return best_estimator\n",
        "\n",
        "def create_k_neighbors_classifier_model(x_train,y_train,n_neighbors=5):\n",
        "    neigh = KNeighborsClassifier()\n",
        "    param_grid=dict(weights=[\"uniform\", \"distance\"],p=[1,2],leaf_size=[10,20,30,40,50,60,80,100],\n",
        "                   n_jobs=[1,2,3,4],metric=[\"minkowski\",\"euclidean\",\"manhattan\",\"chebyshev\"],\n",
        "                   algorithm=[\"auto\",\"ball_tree\",\"kd_tree\"])\n",
        "    best_estimator=get_optimal_hyperparamteres_of_model_using_randomized_search_CV (model=neigh,\n",
        "    data=x_train,labels=y_train, param_grid=param_grid, cv=cv,scoring='accuracy',\n",
        "    get_estimator=True)\n",
        "    best_estimator.fit(x_train, y_train)\n",
        "    return best_estimator\n",
        "\n",
        "def create_gaussian_naive_bayes_model(x_train,y_train,max_depth=None,\n",
        "                                     max_features=10):\n",
        "    gnb = GaussianNB()\n",
        "    param_grid=dict()\n",
        "    best_estimator=get_optimal_hyperparamteres_of_model_using_randomized_search_CV (model=gnb,\n",
        "    data=x_train,labels=y_train, param_grid=param_grid, cv=cv,scoring='accuracy',\n",
        "    get_estimator=True)\n",
        "    best_estimator.fit(x_train, y_train)\n",
        "    return best_estimator\n",
        "                                      \n",
        "\n",
        "def create_decision_tree_classifier_model(x_train,y_train):\n",
        "    clf = DecisionTreeClassifier(random_state=0)\n",
        "    param_grid=dict(criterion=[\"gini\",\"entropy\"],splitter=[\"best\"],\n",
        "                  max_depth=[300,650,1000,None],min_samples_split=[1,2,3,5,8],\n",
        "                   max_features=[\"auto\",\"sqrt\",\"log2\",None],\n",
        "                   random_state=[42],class_weight=[\"balanced\",None])\n",
        "    best_estimator=get_optimal_hyperparamteres_of_model_using_randomized_search_CV (model=clf,\n",
        "    data=x_train,labels=y_train, param_grid=param_grid, cv=cv,scoring='accuracy',\n",
        "    get_estimator=True)\n",
        "    best_estimator.fit(x_train, y_train)\n",
        "    return best_estimator\n",
        "\n",
        "def create_support_vector_classification_model(x_train, y_train):\n",
        "    svc=SVC()\n",
        "    param_grid=dict(C=[0.5,0.8,1,1.5,2,2.5],kernel=[\"linear\",\"poly\",\"rbf\",\n",
        "        \"sigmoid\" ],degree=[2,3,4],gamma=[\"scale\",\"auto\"],\n",
        "        class_weight=[\"balanced\",None],decision_function_shape=[\"ovo\",\"ovr\"],\n",
        "                   break_ties=[True,False],random_state=[42])\n",
        "    best_estimator=get_optimal_hyperparamteres_of_model_using_randomized_search_CV (model=svc,\n",
        "    data=x_train,labels=y_train, param_grid=param_grid, cv=cv,scoring='accuracy',\n",
        "    get_estimator=True)\n",
        "    clf = make_pipeline(StandardScaler(), best_estimator)\n",
        "    clf.fit(x_train, y_train)\n",
        "    return clf\n",
        "\n",
        "\n",
        "def create_SGDClasifier_model(x_train,y_train ):\n",
        "    sgdc=SGDClassifier()\n",
        "    param_grid=dict(loss=[\"hinge\",\"log\", \"modified_huber\", \"squared_hinge\", \"perceptron\"],\n",
        "            penalty=[\"l1\",\"l2\"],alpha=[0.00005,0.0001,0.00015,0.0002,0.0003,0.001],\n",
        "                    fit_intercept=[True],max_iter=[500,1000,1500,2000],epsilon=[0.05,0.1,0.2],\n",
        "                     n_jobs=[1,2,3,4],learning_rate=[\"optimal\"],warm_start=[False,True],\n",
        "                    class_weight=[\"balanced\",None],power_t=[0.2,0.4,0.5,0,7,0.9])\n",
        "    best_estimator=get_optimal_hyperparamteres_of_model_using_randomized_search_CV (model=sgdc,\n",
        "    data=x_train,labels=y_train, param_grid=param_grid, cv=cv,scoring='accuracy',\n",
        "    get_estimator=True)\n",
        "    clf = make_pipeline(StandardScaler(),best_estimator)\n",
        "    clf.fit(x_train, y_train)\n",
        "    return clf\n",
        "    \n",
        "def create_random_forest_model(x_train,y_train,n_estimators=100,\n",
        "                max_depth=None):\n",
        "    clf = RandomForestClassifier(max_depth=max_depth,n_estimators=n_estimators,\n",
        "                                 random_state=42)\n",
        "    param_grid=dict(n_estimators=[50,100,150,200,250],criterion=[\"gini\",\"entropy\"],\n",
        "                  max_depth=[300,650,1000,None],min_samples_split=[1,2,3,5,8],\n",
        "                   max_features=[\"auto\",\"sqrt\",\"log2\",None],oob_score=[False,True],\n",
        "                   random_state=[42],class_weight=[\"balanced\",None],n_jobs=[1,2,3,4],\n",
        "                   )\n",
        "    best_estimator=get_optimal_hyperparamteres_of_model_using_randomized_search_CV (model=clf,\n",
        "    data=x_train,labels=y_train, param_grid=param_grid, cv=cv,scoring='accuracy',\n",
        "    get_estimator=True)\n",
        "    best_estimator.fit(x_train, y_train)\n",
        "    return best_estimator\n",
        "def create_XGBClassifier_model(x_train,y_train):\n",
        "    # all parameters not specified are set to their defaults\n",
        "    model = XGBClassifier()\n",
        "    param_grid=dict(\n",
        "                    max_depth=[15],\n",
        "                    learning_rate=[0.15,0.2,0.25,0.3],\n",
        "                    n_estimators=[110,120,130],\n",
        "                    objective=['multi:softmax'],\n",
        "                    booster=[\"gbtree\", \"gblinear\", \"dart\"],\n",
        "                    n_jobs=[-1],\n",
        "                    reg_alpha=[0.1, 0.2,0.3],\n",
        "                    reg_lambda=[1, 0.7]\n",
        "                    # random_state=[42]\n",
        "    )\n",
        "\n",
        "\n",
        "    best_estimator=get_optimal_hyperparamteres_of_model_using_randomized_search_CV (model=model,\n",
        "    data=x_train,labels=y_train, param_grid=param_grid, cv=cv,scoring='accuracy',\n",
        "    get_estimator=True)\n",
        "    best_estimator.fit(x_train, y_train)\n",
        "    return best_estimator\n",
        "\n",
        "# this one actually tries possible combinations at random protimas to.\n",
        "def get_optimal_hyperparamteres_of_model_using_randomized_search_CV (model,\n",
        "    data,labels, param_grid, cv=5,scoring='accuracy',\n",
        "    get_estimator=False):\n",
        "    grid_search = RandomizedSearchCV(model, param_grid, cv=cv,\n",
        "                        scoring=scoring, n_jobs=-1,n_iter=15)\n",
        "    grid_search.fit(data, labels)\n",
        "    if(get_estimator==False):\n",
        "        return grid_search.best_params_\n",
        "    else:\n",
        "        return grid_search.best_estimator_\n",
        "from sklearn.metrics import classification_report\n",
        "def find_classifiction_report(predictions,y_test):\n",
        "    report=classification_report(y_test, predictions,output_dict=True)\n",
        "    return report"
      ],
      "execution_count": 64,
      "outputs": []
    },
    {
      "cell_type": "markdown",
      "metadata": {
        "id": "Ea3JdjtVH4hM"
      },
      "source": [
        "###Lets create the training and test sets"
      ]
    },
    {
      "cell_type": "code",
      "metadata": {
        "id": "Fa6wHHJlCX2h"
      },
      "source": [
        "# smalldf=np.array_split(featureSelectedDF, 50)[0]\n",
        "smalldf=scaledDF\n",
        "# smalldf=featureSelectedDF\n",
        "# smalldf=featuresMerged\n"
      ],
      "execution_count": 65,
      "outputs": []
    },
    {
      "cell_type": "code",
      "metadata": {
        "id": "8QnNmqI5ih8I"
      },
      "source": [
        "X = smalldf.drop(columns=['Id','Score'],axis=1)\n",
        "Y = smalldf['Score']"
      ],
      "execution_count": 66,
      "outputs": []
    },
    {
      "cell_type": "code",
      "metadata": {
        "colab": {
          "base_uri": "https://localhost:8080/"
        },
        "id": "8PoI-4iGHxHA",
        "outputId": "ed1a2ee0-dc11-4b7a-a4fa-708e96b52367"
      },
      "source": [
        "Y.shape"
      ],
      "execution_count": 67,
      "outputs": [
        {
          "output_type": "execute_result",
          "data": {
            "text/plain": [
              "(142250,)"
            ]
          },
          "metadata": {
            "tags": []
          },
          "execution_count": 67
        }
      ]
    },
    {
      "cell_type": "code",
      "metadata": {
        "id": "yK1EGunJih-R"
      },
      "source": [
        "\n",
        "x_train, x_test,y_train,y_test = train_test_split(X,Y,test_size=0.2,stratify=Y, random_state=42)\n"
      ],
      "execution_count": 68,
      "outputs": []
    },
    {
      "cell_type": "code",
      "metadata": {
        "id": "Y5qURXhaFdAa"
      },
      "source": [
        "# cv=None;\n",
        "# logistic_reggresion_model=create_logistic_regression_model(x_train,y_train)\n",
        "# logistic_reggresion_model\n",
        "# k_neighbors_classifier_model=create_k_neighbors_classifier_model(x_train,y_train)\n",
        "# k_neighbors_classifier_model\n",
        "# gaussian_naive_bayes_model=create_gaussian_naive_bayes_model(x_train,y_train)\n",
        "# gaussian_naive_bayes_model\n",
        "# decision_tree_classifier_model=create_decision_tree_classifier_model(x_train,y_train)\n",
        "# decision_tree_classifier_model\n",
        "# support_vector_classification_model=create_support_vector_classification_model(x_train,y_train)\n",
        "# support_vector_classification_model\n",
        "# SGDClasifier_model=create_SGDClasifier_model(x_train,y_train)\n",
        "# SGDClasifier_model\n",
        "# random_forest_model=create_random_forest_model(x_train,y_train)\n",
        "# random_forest_model\n",
        "# models=[\n",
        "#     logistic_reggresion_model,\n",
        "#     k_neighbors_classifier_model,\n",
        "#       gaussian_naive_bayes_model,\n",
        "#       decision_tree_classifier_model,\n",
        "#       support_vector_classification_model,\n",
        "#       SGDClasifier_model,\n",
        "#       random_forest_model\n",
        "#       ]"
      ],
      "execution_count": 69,
      "outputs": []
    },
    {
      "cell_type": "markdown",
      "metadata": {
        "id": "Sp9ij494doe8"
      },
      "source": [
        "##The methods below where used to find actual best parameters for the best model. They take too long so we commented them out."
      ]
    },
    {
      "cell_type": "code",
      "metadata": {
        "id": "FE3EnSPMoU3S"
      },
      "source": [
        "# best_model_index=show_comparison_of_models_using_cross_validation(\n",
        "# models,x_train,y_train,scoring_method=\"accuracy\",cv=cv,column_category_name=targetFeature,\n",
        "# weight_of_median=0.60)\n",
        "# best_model=models[best_model_index]\n",
        "# final_model=best_model.fit(x_train,y_train, max_depth=100)\n"
      ],
      "execution_count": 70,
      "outputs": []
    },
    {
      "cell_type": "code",
      "metadata": {
        "id": "MWdWy6RjNcLY"
      },
      "source": [
        "# def create_random_forest_model(x_train,y_train,max_depth=None):\n",
        "#     clf = RandomForestClassifier(max_depth=max_depth )\n",
        "#     param_grid=dict(n_estimators=[100,150,180,200,250],criterion=[\"gini\",\"entropy\"],\n",
        "#                   max_depth=[400,600,1000,None], min_samples_split=[2,3,5],\n",
        "#                   min_samples_leaf=[1,2],\n",
        "#                   min_weight_fraction_leaf=[0.0,0.3,0.8,1.5,2],\n",
        "#                    max_features=[\"auto\",\"sqrt\",\"log2\"],max_leaf_nodes=[None, 1000, 2000,5000, 10000],\n",
        "#                    min_impurity_decrease=[0.0, 0.2, 0.4],bootstrap=[True, False],\n",
        "#                     oob_score=[True, False],warm_start=[True, False],\n",
        "#                    class_weight=[\"balanced\",None],n_jobs=[-1],ccp_alpha=[0.0, 0.2, 0.4 ,2, 4],\n",
        "#                     max_samples=[100, 500, 1000, None]\n",
        "#                    )\n",
        "#     best_estimator=get_optimal_hyperparamteres_of_model_using_randomized_search_CV (model=clf,\n",
        "#     data=x_train,labels=y_train, param_grid=param_grid, cv=cv,scoring='accuracy',\n",
        "#     get_estimator=True)\n",
        "#     best_estimator.fit(x_train, y_train)\n",
        "#     return best_estimator\n",
        "\n",
        "    # def create_random_forest_model(x_train,y_train,max_depth=None):\n",
        "    # clf = RandomForestClassifier(max_depth=max_depth )\n",
        "    # param_grid=dict(\n",
        "    #     n_estimators=[100,150,180],criterion=[\"gini\",\"entropy\"],\n",
        "    #               max_depth=[500], \n",
        "    #                max_features=[\"auto\",\"sqrt\",\"log2\"],\n",
        "    #                class_weight=[\"balanced\",None],n_jobs=[-1],ccp_alpha=[0.0, 0.2, 0.4],\n",
        "    #                 random_state=[42]\n",
        "    #                )\n",
        "    # best_estimator=get_optimal_hyperparamteres_of_model_using_randomized_search_CV (model=clf,\n",
        "    # data=x_train,labels=y_train, param_grid=param_grid, cv=cv,scoring='accuracy',\n",
        "    # get_estimator=True)\n",
        "    # best_estimator.fit(x_train, y_train)\n",
        "    # return best_estimator\n",
        "\n",
        "\n"
      ],
      "execution_count": 71,
      "outputs": []
    },
    {
      "cell_type": "code",
      "metadata": {
        "id": "bg8l7oMWtE6Y"
      },
      "source": [
        "# cv=None;\n",
        "# xgboost_model=create_XGBClassifier_model(x_train,y_train)\n",
        "# models=[\n",
        "#       xgboost_model\n",
        "#       ]"
      ],
      "execution_count": 72,
      "outputs": []
    },
    {
      "cell_type": "code",
      "metadata": {
        "id": "ZSUL4mfGPPLq"
      },
      "source": [
        "# import pickle\n",
        "# filename=\"xgbclassifier\" + \".sav\"\n",
        "# pickle.dump(model, open(filename, 'wb'))\n",
        "# print(\"all done, saved the thing.\")"
      ],
      "execution_count": 73,
      "outputs": []
    },
    {
      "cell_type": "code",
      "metadata": {
        "id": "sBXsMlr0RkNo"
      },
      "source": [
        "# while True:pass"
      ],
      "execution_count": 74,
      "outputs": []
    },
    {
      "cell_type": "markdown",
      "metadata": {
        "id": "_oSUoGYu5luc"
      },
      "source": [
        "#Section 6: Final results"
      ]
    },
    {
      "cell_type": "markdown",
      "metadata": {
        "id": "ut6RkiA8IKEQ"
      },
      "source": [
        "##The following model is the best model for this problem with Accuracy = 85%"
      ]
    },
    {
      "cell_type": "code",
      "metadata": {
        "colab": {
          "base_uri": "https://localhost:8080/"
        },
        "id": "fZhfn0QKlUZZ",
        "outputId": "935357b7-e038-49c3-8348-1a28a74d5829"
      },
      "source": [
        "model= XGBClassifier(base_score= 0.5,\n",
        " booster= 'gbtree',\n",
        " colsample_bylevel= 1,\n",
        " colsample_bynode= 1,\n",
        " colsample_bytree= 1,\n",
        " amma= 0,\n",
        " learning_rate= 0.2,\n",
        " max_delta_step= 0,\n",
        " max_depth= 100,\n",
        " min_child_weight= 1,\n",
        " issing= None,\n",
        " n_estimators= 120,\n",
        " n_jobs= -1,\n",
        " nthread= None,\n",
        " objective= 'multi=softprob',\n",
        " random_state= 42,\n",
        " reg_alpha= 0.2,\n",
        " reg_lambda= 1,\n",
        " cale_pos_weight= 1,\n",
        " seed= 42,\n",
        " silent= None,\n",
        " subsample= 1,\n",
        " verbosity= 1)\n",
        "model\n"
      ],
      "execution_count": 75,
      "outputs": [
        {
          "output_type": "execute_result",
          "data": {
            "text/plain": [
              "XGBClassifier(amma=0, base_score=0.5, booster='gbtree', cale_pos_weight=1,\n",
              "              colsample_bylevel=1, colsample_bynode=1, colsample_bytree=1,\n",
              "              gamma=0, issing=None, learning_rate=0.2, max_delta_step=0,\n",
              "              max_depth=100, min_child_weight=1, missing=None, n_estimators=120,\n",
              "              n_jobs=-1, nthread=None, objective='multi=softprob',\n",
              "              random_state=42, reg_alpha=0.2, reg_lambda=1, scale_pos_weight=1,\n",
              "              seed=42, silent=None, subsample=1, verbosity=1)"
            ]
          },
          "metadata": {
            "tags": []
          },
          "execution_count": 75
        }
      ]
    },
    {
      "cell_type": "code",
      "metadata": {
        "id": "QrJnIajLFgxX"
      },
      "source": [
        "final=model.fit(x_train,y_train)\n"
      ],
      "execution_count": null,
      "outputs": []
    },
    {
      "cell_type": "code",
      "metadata": {
        "id": "Eeob0tPlifBb"
      },
      "source": [
        "predictions=final.predict(x_test)\n"
      ],
      "execution_count": null,
      "outputs": []
    },
    {
      "cell_type": "code",
      "metadata": {
        "colab": {
          "base_uri": "https://localhost:8080/"
        },
        "id": "d0ITj6nhrkyV",
        "outputId": "ed43812f-34a0-42c8-c9ea-dc115375145b"
      },
      "source": [
        "predictions"
      ],
      "execution_count": null,
      "outputs": [
        {
          "output_type": "execute_result",
          "data": {
            "text/plain": [
              "array([0, 2, 1, ..., 3, 2, 3])"
            ]
          },
          "metadata": {
            "tags": []
          },
          "execution_count": 81
        }
      ]
    },
    {
      "cell_type": "code",
      "metadata": {
        "colab": {
          "base_uri": "https://localhost:8080/"
        },
        "id": "O4xW9f9hqvvg",
        "outputId": "c1a60d1a-9dfd-4ab9-9f80-1e3d46e16a5e"
      },
      "source": [
        "avg=0;\n",
        "for prediction,correct in zip(predictions,y_test):\n",
        "  if(prediction==correct):\n",
        "    avg=avg+1\n",
        "avg=avg/len(predictions)\n",
        "avg"
      ],
      "execution_count": null,
      "outputs": [
        {
          "output_type": "execute_result",
          "data": {
            "text/plain": [
              "0.8440070298769772"
            ]
          },
          "metadata": {
            "tags": []
          },
          "execution_count": 82
        }
      ]
    },
    {
      "cell_type": "code",
      "metadata": {
        "id": "xcoGJcGEpzXj"
      },
      "source": [
        "# while True:pass"
      ],
      "execution_count": null,
      "outputs": []
    },
    {
      "cell_type": "code",
      "metadata": {
        "id": "C4vt6et2hD58"
      },
      "source": [
        "# model_names=[    \"logistic_reggresion_model\",\n",
        "#     \"k_neighbors_classifier_model\",\n",
        "#       \"gaussian_naive_bayes_model\",\n",
        "#       \"decision_tree_classifier_model\",\n",
        "#       \"support_vector_classification_model\",\n",
        "#       \"SGDClasifier_model\",\n",
        "#       \"random_forest_model\"]\n",
        "\n",
        "# for model_name, model in zip(model_names, models):\n",
        "#   filename=model_name+ \".sav\"\n",
        "#   pickle.dump(model, open(filename, 'wb'))\n",
        "# print(\"all done, saved the thing.\")"
      ],
      "execution_count": null,
      "outputs": []
    },
    {
      "cell_type": "code",
      "metadata": {
        "id": "_Fr_jnO0Fevk"
      },
      "source": [
        "# predictions=final_model.predict(x_test)\n",
        "# print(\"finall accuracy: \"predictions.mean)\n",
        "# get_f1_score(y_test,predictions)"
      ],
      "execution_count": null,
      "outputs": []
    },
    {
      "cell_type": "markdown",
      "metadata": {
        "id": "MM5uZ9VC5ZdW"
      },
      "source": [
        "#This cocludes out project. We have managed to reach the accuracy 84.5% where the Data science team from which we got the data only managed to achive 80.5% accuracy!. We have learnt a lot in this project and have figured out good and bad practises. As well as when to apply certain concepts and when not.\n",
        "\n",
        "\n",
        "#Thank you for reading\n",
        "\n",
        "\n",
        "#-By Stylianos Herodotou and Panikos Christou"
      ]
    },
    {
      "cell_type": "code",
      "metadata": {
        "id": "WhtV9I5PawKe"
      },
      "source": [
        ""
      ],
      "execution_count": null,
      "outputs": []
    }
  ]
}
